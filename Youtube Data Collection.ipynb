{
 "cells": [
  {
   "cell_type": "code",
   "execution_count": 243,
   "metadata": {},
   "outputs": [],
   "source": [
    "api_key = \"your_api_key\""
   ]
  },
  {
   "cell_type": "code",
   "execution_count": 244,
   "metadata": {},
   "outputs": [],
   "source": [
    "import requests\n",
    "import json\n",
    "from pprint import pprint\n",
    "import os\n",
    "\n",
    "import google_auth_oauthlib.flow\n",
    "import googleapiclient.discovery\n",
    "import googleapiclient.errors"
   ]
  },
  {
   "cell_type": "code",
   "execution_count": 245,
   "metadata": {},
   "outputs": [],
   "source": [
    "scopes = [\"https://www.googleapis.com/auth/youtube.readonly\"\n",
    "            \"https://www.googleapis.com/auth/youtube.force-ssl\"]\n",
    "\n",
    "youtube = googleapiclient.discovery.build(\n",
    "        \"youtube\", \"v3\", developerKey = api_key)"
   ]
  },
  {
   "cell_type": "code",
   "execution_count": 101,
   "metadata": {},
   "outputs": [],
   "source": [
    "coordsUAE = \"23.424076, 53.847818\"\n",
    "radiusUAE = \"100km\"\n",
    "\n",
    "coordsQatar = \"25.286106, 51.534817\"\n",
    "radiusQatar = \"80km\"\n",
    "\n",
    "coordsKSA = \"24.774265, 46.738611\"\n",
    "radiusKSA = \"200km\""
   ]
  },
  {
   "cell_type": "code",
   "execution_count": 102,
   "metadata": {},
   "outputs": [],
   "source": [
    "videoIds = []"
   ]
  },
  {
   "cell_type": "code",
   "execution_count": 248,
   "metadata": {},
   "outputs": [],
   "source": [
    "data = {}\n",
    "# data['results'] = []"
   ]
  },
  {
   "cell_type": "markdown",
   "metadata": {},
   "source": [
    "Function to get results from the api with provided coordinates (Country based)"
   ]
  },
  {
   "cell_type": "code",
   "execution_count": 105,
   "metadata": {},
   "outputs": [],
   "source": [
    "def vidSearchCord(keyword, coords, radius, pagetoken):\n",
    "    request = youtube.search().list(\n",
    "        part=\"id\",\n",
    "        location=coords,\n",
    "        locationRadius=radius,\n",
    "        pageToken = pagetoken,\n",
    "        maxResults = 30,\n",
    "        q=keyword,\n",
    "        type=\"video\")\n",
    "    \n",
    "    return request.execute()"
   ]
  },
  {
   "cell_type": "markdown",
   "metadata": {},
   "source": [
    "Function to get results from the api with provided keywords"
   ]
  },
  {
   "cell_type": "code",
   "execution_count": 106,
   "metadata": {},
   "outputs": [],
   "source": [
    "def vidSearchKey(keywords, pagetoken):\n",
    "    request = youtube.search().list(\n",
    "        part=\"id\",\n",
    "        pageToken = pagetoken,\n",
    "        maxResults = 50,\n",
    "        q=keywords,\n",
    "        type=\"video\")\n",
    "    \n",
    "    return request.execute()"
   ]
  },
  {
   "cell_type": "markdown",
   "metadata": {},
   "source": [
    "Helper function to save all videos initially in a list"
   ]
  },
  {
   "cell_type": "code",
   "execution_count": 107,
   "metadata": {},
   "outputs": [],
   "source": [
    "def getVids(result):\n",
    "    for item in result['items']:\n",
    "        id = item['id']['videoId']\n",
    "        if id not in videoIds:\n",
    "            videoIds.append(id)\n",
    "        \n",
    "    return"
   ]
  },
  {
   "cell_type": "markdown",
   "metadata": {},
   "source": [
    "Helper function to retrieve the number of comment, number of favorite, time of publication and the title of the video"
   ]
  },
  {
   "cell_type": "code",
   "execution_count": 229,
   "metadata": {},
   "outputs": [],
   "source": [
    "def getVidInfo(videoId):\n",
    "    request = youtube.videos().list(\n",
    "        part=\"snippet, statistics\",\n",
    "        id=videoId).execute()\n",
    "    \n",
    "    stat = request['items'][0]['statistics']\n",
    "    publishedTime = request['items'][0]['snippet']['publishedAt']\n",
    "    title = request['items'][0]['snippet']['title']\n",
    "    \n",
    "    if 'commentCount' in stat:\n",
    "        comCount = stat['commentCount']\n",
    "    else:\n",
    "        comCount = 0\n",
    "        \n",
    "    if 'favoriteCount' in stat:\n",
    "        favCount = stat['favoriteCount']\n",
    "    else:\n",
    "        favCount = 0\n",
    "        \n",
    "    return [int(comCount), favCount, publishedTime, title]"
   ]
  },
  {
   "cell_type": "markdown",
   "metadata": {},
   "source": [
    "Function to get comments from the api "
   ]
  },
  {
   "cell_type": "code",
   "execution_count": 230,
   "metadata": {},
   "outputs": [],
   "source": [
    "def commentThread(videoId, pagetoken):\n",
    "    results = youtube.commentThreads().list(\n",
    "        part=\"snippet\",\n",
    "        maxResults=100,\n",
    "        pageToken = pagetoken,\n",
    "        videoId=videoId)\n",
    "    \n",
    "    return results.execute()"
   ]
  },
  {
   "cell_type": "markdown",
   "metadata": {},
   "source": [
    "Helper funtion to structure the information's of every comment"
   ]
  },
  {
   "cell_type": "code",
   "execution_count": 231,
   "metadata": {},
   "outputs": [],
   "source": [
    "def loadComments(id, found):\n",
    "#     data[id]['comments'] = []\n",
    "    for item in found['items']:\n",
    "        commentId = item['id']\n",
    "        authorName = item['snippet']['topLevelComment']['snippet']['authorDisplayName']\n",
    "        comment = item['snippet']['topLevelComment']['snippet']['textOriginal']\n",
    "        publishedTime = item['snippet']['topLevelComment']['snippet']['publishedAt']\n",
    "        totalLike = item['snippet']['topLevelComment']['snippet']['likeCount']\n",
    "        totalReplies = item['snippet']['totalReplyCount']\n",
    "        data[id]['comments'].append({\n",
    "            'commentId':commentId,\n",
    "            'commentAuthorName':authorName,\n",
    "            'commentText':comment,\n",
    "            'commentMadeOn':publishedTime,\n",
    "            'totalLikeCount':totalLike,\n",
    "            'totalRepliesCount':totalReplies\n",
    "        })\n",
    "#         if totalReplies > 0:\n",
    "#             for ind in range(totalReplies):\n",
    "#                 data['results'][index]['comments'][ind]['replies'] = []\n",
    "#                 for reply in item['replies']['comments']:\n",
    "#                     replyId = reply['id']\n",
    "#                     rAuthorName = reply['snippet']['authorDisplayName']\n",
    "#                     rComment = reply['snippet']['textOriginal']\n",
    "#                     data['results'][index]['comments'][ind]['replies'].append({\n",
    "#                         'replyId':replyId,\n",
    "#                         'replyAuthor':rAuthorName,\n",
    "#                         'replyText':rComment\n",
    "#                     })\n",
    "    return"
   ]
  },
  {
   "cell_type": "markdown",
   "metadata": {},
   "source": [
    "Helper function to retrieve all comments from a video"
   ]
  },
  {
   "cell_type": "code",
   "execution_count": 232,
   "metadata": {},
   "outputs": [],
   "source": [
    "def getAllVidComment(id):\n",
    "#     data[id] = {}\n",
    "    vidInfo = getVidInfo(id)\n",
    "    comCount = vidInfo[0]\n",
    "    favCount = vidInfo[1]\n",
    "    publishedTime = vidInfo[2]\n",
    "    title = vidInfo[3]\n",
    "    data[id] = {\n",
    "        'videoTitle':title,\n",
    "        'videoPublishedOn':publishedTime,\n",
    "        'favoriteCount':favCount,\n",
    "        'totalComment':comCount,\n",
    "        'comments':[]\n",
    "    }\n",
    "    if comCount>0:\n",
    "        comments = commentThread(id, \"\")\n",
    "        loadComments(id, comments)\n",
    "        if 'nextPageToken' in comments:\n",
    "            nextPage = comments['nextPageToken']\n",
    "        \n",
    "            while nextPage:\n",
    "                comments = commentThread(id, nextPage)\n",
    "                loadComments(id, comments)\n",
    "                if 'nextPageToken' in comments:\n",
    "                    nextPage = comments['nextPageToken']\n",
    "                else:\n",
    "                    return"
   ]
  },
  {
   "cell_type": "markdown",
   "metadata": {},
   "source": [
    "Search by Key word"
   ]
  },
  {
   "cell_type": "code",
   "execution_count": 112,
   "metadata": {},
   "outputs": [],
   "source": [
    "def getResFromKeyword():\n",
    "    keyword = [\"Talabat Qatar\", \"Talabat Middle East\", \"Carriage Qatar\", \"Uber Eats Middle East\", \"Zomato Middle East\",\n",
    "               \"Careem Now Food Delivery Middle East\", \"Food Delivery Middle Eas\"]\n",
    "    for word in keyword:\n",
    "        res = vidSearchKey(word, \"\")\n",
    "        getVids(res)\n",
    "    \n",
    "    return"
   ]
  },
  {
   "cell_type": "markdown",
   "metadata": {},
   "source": [
    "Search by location"
   ]
  },
  {
   "cell_type": "code",
   "execution_count": 113,
   "metadata": {},
   "outputs": [],
   "source": [
    "def getResFromLocation():\n",
    "    key = [\"Talabat\", \"Careem Now Food Delivery\", \"Uber Eats\", \"Zomato\", \"Food Delivery\"]\n",
    "    for wordQ in key:\n",
    "        resQ = vidSearchCord(wordQ, coordsQatar, radiusQatar, \"\")\n",
    "        getVids(resQ)\n",
    "    for wordU in key:\n",
    "        resU = vidSearchCord(wordU, coordsUAE, radiusUAE, \"\")\n",
    "        getVids(resU)\n",
    "    for wordK in key:\n",
    "        resK = vidSearchCord(wordK, coordsKSA, radiusKSA, \"\")\n",
    "        getVids(resK)\n",
    "    return"
   ]
  },
  {
   "cell_type": "code",
   "execution_count": 114,
   "metadata": {},
   "outputs": [],
   "source": [
    "getResFromKeyword()\n",
    "getResFromLocation()"
   ]
  },
  {
   "cell_type": "code",
   "execution_count": 250,
   "metadata": {},
   "outputs": [],
   "source": [
    "for index in range(len(videoIds)):\n",
    "    getAllVidComment(videoIds[index])"
   ]
  },
  {
   "cell_type": "markdown",
   "metadata": {},
   "source": [
    "Save into json file "
   ]
  },
  {
   "cell_type": "code",
   "execution_count": 252,
   "metadata": {},
   "outputs": [],
   "source": [
    "with open('dataset.json', 'w') as outfile:\n",
    "    json.dump(data, outfile, indent=4, sort_keys=True)"
   ]
  },
  {
   "cell_type": "markdown",
   "metadata": {},
   "source": [
    "THE END LOL :)"
   ]
  }
 ],
 "metadata": {
  "kernelspec": {
   "display_name": "Python 3",
   "language": "python",
   "name": "python3"
  },
  "language_info": {
   "codemirror_mode": {
    "name": "ipython",
    "version": 3
   },
   "file_extension": ".py",
   "mimetype": "text/x-python",
   "name": "python",
   "nbconvert_exporter": "python",
   "pygments_lexer": "ipython3",
   "version": "3.7.3"
  }
 },
 "nbformat": 4,
 "nbformat_minor": 4
}
