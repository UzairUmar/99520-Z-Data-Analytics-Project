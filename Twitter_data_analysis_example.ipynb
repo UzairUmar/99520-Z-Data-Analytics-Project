{
 "cells": [
  {
   "cell_type": "code",
   "execution_count": 3,
   "metadata": {},
   "outputs": [],
   "source": [
    "import tweepy as tw\n",
    "from tweepy import OAuthHandler\n",
    "import csv\n",
    "import urllib\n",
    "from pprint import pprint\n",
    "import pandas as pd\n",
    "import json"
   ]
  },
  {
   "cell_type": "code",
   "execution_count": 5,
   "metadata": {},
   "outputs": [],
   "source": [
    "# Authentication\n",
    "consumer_key = 'pGxQmeYegW9dUPFDWsv4xNOaA'\n",
    "consumer_secret = 'jsArZuECRwAxbzUR4sI91Flg3LksoUfyNdk3Gpy89ZgWVK9Kws'\n",
    "access_token = '2995823048-ewIZ9sPsO1JgaK0kTtthbIoJHGAYhVPqH5z0lMQ'\n",
    "access_secret = 'KPjfE2Kher45CniPbPgznMquPIwe0xwCYb7Lg2cyngB60'\n",
    "\n",
    "auth = tw.OAuthHandler(consumer_key, consumer_secret)\n",
    "auth.set_access_token(access_token, access_secret)\n",
    "api = tw.API(auth, wait_on_rate_limit=True)"
   ]
  },
  {
   "cell_type": "markdown",
   "metadata": {},
   "source": [
    "### Search Twitter for tweets"
   ]
  },
  {
   "cell_type": "code",
   "execution_count": 11,
   "metadata": {},
   "outputs": [],
   "source": [
    "# Define the search term and the date_since date as variables\n",
    "search_words = \"talabat\"\n",
    "date_since = \"2020-3-1\"\n",
    "date_until = \"2020-3-1\""
   ]
  },
  {
   "cell_type": "code",
   "execution_count": 13,
   "metadata": {
    "scrolled": true
   },
   "outputs": [
    {
     "data": {
      "text/plain": [
       "'talabat -filter:retweets'"
      ]
     },
     "execution_count": 13,
     "metadata": {},
     "output_type": "execute_result"
    }
   ],
   "source": [
    "# To Keep or Remove Retweets\n",
    "new_search = search_words + \" -filter:retweets\"\n",
    "new_search"
   ]
  },
  {
   "cell_type": "code",
   "execution_count": 14,
   "metadata": {},
   "outputs": [
    {
     "name": "stdout",
     "output_type": "stream",
     "text": [
      "0\n"
     ]
    }
   ],
   "source": [
    "tweets = tw.Cursor(api.search,\n",
    "                       q=new_search,\n",
    "                       lang=\"en\",\n",
    "                       until=date_until).items(1000)\n",
    "count = 0\n",
    "data_list = []\n",
    "for tweet in tweets:\n",
    "    print(tweet.text)\n",
    "    print(tweet.favorite_count)\n",
    "    print(tweet.retweet_count)\n",
    "    print(tweet.created_at)\n",
    "    count = count + 1\n",
    "    data_list.append({\n",
    "    'Text' : tweet.text,\n",
    "    'Favorite_count' : tweet.favorite_count,\n",
    "    'Retweet_count' : tweet.retweet_count,\n",
    "    'Date created' : str(tweet.created_at)\n",
    "    })\n",
    "    \n",
    "with open('temporary.json', 'w') as outfile:\n",
    "    json.dump(data_list, outfile,indent = 3)    \n",
    "print(count)"
   ]
  },
  {
   "cell_type": "markdown",
   "metadata": {},
   "source": [
    "### Who is Tweeting About Wildfires?\n",
    "\n",
    "ou can access a wealth of information associated with each tweet. \n",
    "\n",
    "Below is an example of accessing the users who are sending the tweets related to #wildfires and their locations. \n",
    "\n",
    "Note that user locations are manually entered into Twitter by the user. Thus, you will see a lot of variation in the format of this value.\n",
    "\n",
    "- **tweet.user.screen_name** provides the user's twitter handle associated with each tweet.\n",
    "- **tweet.user.location** provides the user's location indicated in her/his profile.\n",
    "\n",
    "You can experiment with other items available within each tweet by typing tweet. and using the tab button to see all of the available attributes stored.\n"
   ]
  },
  {
   "cell_type": "code",
   "execution_count": 28,
   "metadata": {},
   "outputs": [
    {
     "data": {
      "text/plain": [
       "[['SDSPaul_T', 'Biddisham, England'],\n",
       " ['Phing7464', 'North Carolina, USA'],\n",
       " ['SHS_Space', ''],\n",
       " ['gomurciaspain', 'Spain'],\n",
       " ['FirehouseNews', '']]"
      ]
     },
     "execution_count": 28,
     "metadata": {},
     "output_type": "execute_result"
    }
   ],
   "source": [
    "tweets = tw.Cursor(api.search, \n",
    "                           q=new_search,\n",
    "                           lang=\"en\",\n",
    "                           since=date_since).items(5)\n",
    "\n",
    "users_locs = [[tweet.user.screen_name, tweet.user.location] for tweet in tweets]\n",
    "users_locs"
   ]
  },
  {
   "cell_type": "markdown",
   "metadata": {},
   "source": [
    "### Create a Pandas Dataframe From a List of Tweet Data"
   ]
  },
  {
   "cell_type": "code",
   "execution_count": 31,
   "metadata": {},
   "outputs": [
    {
     "data": {
      "text/html": [
       "<div>\n",
       "<style scoped>\n",
       "    .dataframe tbody tr th:only-of-type {\n",
       "        vertical-align: middle;\n",
       "    }\n",
       "\n",
       "    .dataframe tbody tr th {\n",
       "        vertical-align: top;\n",
       "    }\n",
       "\n",
       "    .dataframe thead th {\n",
       "        text-align: right;\n",
       "    }\n",
       "</style>\n",
       "<table border=\"1\" class=\"dataframe\">\n",
       "  <thead>\n",
       "    <tr style=\"text-align: right;\">\n",
       "      <th></th>\n",
       "      <th>user</th>\n",
       "      <th>location</th>\n",
       "    </tr>\n",
       "  </thead>\n",
       "  <tbody>\n",
       "    <tr>\n",
       "      <th>0</th>\n",
       "      <td>SDSPaul_T</td>\n",
       "      <td>Biddisham, England</td>\n",
       "    </tr>\n",
       "    <tr>\n",
       "      <th>1</th>\n",
       "      <td>Phing7464</td>\n",
       "      <td>North Carolina, USA</td>\n",
       "    </tr>\n",
       "    <tr>\n",
       "      <th>2</th>\n",
       "      <td>SHS_Space</td>\n",
       "      <td></td>\n",
       "    </tr>\n",
       "    <tr>\n",
       "      <th>3</th>\n",
       "      <td>gomurciaspain</td>\n",
       "      <td>Spain</td>\n",
       "    </tr>\n",
       "    <tr>\n",
       "      <th>4</th>\n",
       "      <td>FirehouseNews</td>\n",
       "      <td></td>\n",
       "    </tr>\n",
       "  </tbody>\n",
       "</table>\n",
       "</div>"
      ],
      "text/plain": [
       "            user             location\n",
       "0      SDSPaul_T   Biddisham, England\n",
       "1      Phing7464  North Carolina, USA\n",
       "2      SHS_Space                     \n",
       "3  gomurciaspain                Spain\n",
       "4  FirehouseNews                     "
      ]
     },
     "execution_count": 31,
     "metadata": {},
     "output_type": "execute_result"
    }
   ],
   "source": [
    "tweet_text = pd.DataFrame(data=users_locs, \n",
    "                    columns=['user', \"location\"])\n",
    "tweet_text"
   ]
  },
  {
   "cell_type": "markdown",
   "metadata": {},
   "source": [
    "### Customizing Twitter Queries\n",
    "\n",
    "you can customize your Twitter search queries by following the [Twitter API documentation](https://developer.twitter.com/en/docs/tweets/rules-and-filtering/overview/standard-operators).\n",
    "\n",
    "For instance, if you search for \"climate+change\", Twitter will return all tweets that contain both of those words (in a row) in each tweet.\n",
    "\n",
    "The code below creates a list that can be queried using Python indexing to return the first five tweets."
   ]
  },
  {
   "cell_type": "code",
   "execution_count": 33,
   "metadata": {
    "scrolled": true
   },
   "outputs": [
    {
     "name": "stdout",
     "output_type": "stream",
     "text": [
      "@MommaKingMWD @funder Yeah...and you can find scientists who don't agree with climate change. They chose to present… https://t.co/aWDYRHJANj\n",
      "Good to see concerns of councils being investigated - as we are on the frontline of delivery in these unprecedented… https://t.co/4Pc0Qr1vGG\n",
      "https://t.co/KQcB0Emj8c should establish body like the climate change committee that reports independently to gover… https://t.co/B8njk3fQs7\n",
      "Brilliant thread; I wonder if the BLM/Climate Change/vaccines scams are the last ‘throws of the dice’ for the elite… https://t.co/OTGfPC0sXA\n",
      "And hence, nobody realises the importance of climate change. These chapters have always been put at the end, and ne… https://t.co/Uz65CoYRQP\n",
      "@ciaocoulo I do think yes due to economic implication of climate change\n",
      "@democracynow 2038? That is a real catastrophe! When the richest nation in Europe has such a feeble, lazy response… https://t.co/CK4mTmtCJ3\n",
      "@JusticeHorn_ @EricWBunch @KCMO Hmmm I would to speak with you in regards to climate change and environmental justi… https://t.co/dF8sLM32ZI\n",
      "The ECB would be the first major central bank to pursue green objectives through bond-buying programmes. The Bank o… https://t.co/dkYIccmF2l\n",
      "Water Crisis Can Be Overcome If Required Effective Tech Solutions Are Taken For The Water Sustainability @ibm_in… https://t.co/ywSLtWBTE2\n",
      "Transition to the #NWO :\n",
      " \n",
      "World Economic Forum\n",
      "Klaus Schwab\n",
      "Agenda 2030\n",
      "WHO\n",
      "Covid-19\n",
      "Bill Gates\n",
      "Vaccination\n",
      "The Gr… https://t.co/ZWeJapOZva\n",
      "Overconsumption of power increases costs on your electricity bills. It will also deplete energy sources, increase c… https://t.co/8h0snIj2gS\n",
      "@RevRachelMann That makes a huge amount of sense. As the parent of a teenager, I feel very much as you describe - I… https://t.co/34TQUsNASv\n",
      "Clinton/Obama Official, Tom Steyer to Advise Biden on Climate Change https://t.co/agatss0iJO via @BreitbartNews\n",
      "Wow… https://t.co/NYKPboxBQr\n",
      "Absolutely - cybersecurity and climate change are issues that are deeply embedded in human actions and activities,… https://t.co/B2zroC3vzX\n",
      "@BenedictBrook @newscomauHQ @SkyWeatherAUS @Rob_Weatherman This bloke must cringe whenever the blokes on sky news a… https://t.co/UpKfTh3d5s\n",
      "Water Sustainability Requires Effective Tech Solutions Inorder To Get Rid From Water Crisis @ibm_in #CallForCode https://t.co/72R1n2H6Mp\n",
      "CLA Summer Series Webinar – Water and Climate Change Adaptation\n",
      "\n",
      "We are delighted to be the lead sponsor for… https://t.co/gxy8xiKkZR\n",
      "@ABCMediaComms @SteveAustinABC @PressClubAust I have not consumed any abc content for years now...\n",
      "\n",
      "Every time I tr… https://t.co/8U8y8d8AG6\n",
      "#Singapore public sector and #industry partner to develop technologies to mitigate #climate change. #tech… https://t.co/bdwYSCvXdi\n",
      "@CoreyAtkins4163 It only became violent when it got to Chicago. It's Trump's fault. Also, climate change\n",
      "@washingtonpost Catastrophic global climate change is still in our faces, and far more deaths will result if we bec… https://t.co/deq6PsITOG\n",
      "Coverage of the energy sector fails if it ignores climate change: Don Pittis https://t.co/1vVaI7TbZc\n",
      "Combating Climate Change’s Impact With Hybrid Coffee Varieties https://t.co/SdhJ3paCga #coffee #coffeeaddict… https://t.co/ydqasJ0qAt\n",
      "@dinosaurusness @AliGardnerHHH @KayleighREvans @SocialPedagogy This is very true and the Covid pandemic has made us… https://t.co/vDnkITi2Lb\n",
      "@MrsNickyClark @sixteenthCgirl It's the same way that middle aged men are not allowed to have an opinion about clim… https://t.co/zoXm04EmJZ\n",
      "wef: Climate change could be making forests shorter – this is how https://t.co/Hkquz0hDcV #biodiversity… https://t.co/DGgrkLoznX\n",
      "@amberswisher @maddie_t4 Yes. Kids don’t need to be exact cookie cutters of their parents. They have minds of their… https://t.co/tSF56lrZIp\n",
      "@Nigel_Farage Wait for the fall out due to climate change and then the expulsions following Brexit, not to mention… https://t.co/OrGE19Kbyn\n",
      "Do people in trad twitter know Prakash Javadekar isn't HRD minister?\n",
      "Hrd minister is Ramesh Pokhriyal.\n",
      "Javadekar is… https://t.co/yy3XSKzUCK\n",
      "@LeeSpring_ It would be a discussion about anything BUT what is in the video. Republicans would Frame the discussio… https://t.co/VYSrOI6jkU\n",
      "Wars, climate change, coronavirus: Many people are at risk of hunger\n",
      "https://t.co/COkQdL5QKL \n",
      "Photo/Billy Mutai\n",
      "Even if we start to fix climate change, the proof may not show up for 30 years: https://t.co/hbYR61cOmh via… https://t.co/pq0xbVU3nT\n",
      "People see that they want to see; #ClimateChange deny won elections https://t.co/b7BwZMYEPT \n",
      "Australia, your countr… https://t.co/7N2paXYKtW\n",
      "- Extreme event attribution (EEA) studies can provide more context but again, capturing the nuances can be tricky.… https://t.co/vHRITy4Z97\n",
      "- Accurately capturing nuances of how climate change influences extreme weather can be challenging for journalists,… https://t.co/RJrdhPmbyh\n",
      "Pleased to have contributed to this study with @JamesPainter61 @shannonosaka @kerf2012 in… https://t.co/wUOztUWyAk\n",
      "Lake Victoria is at risk of dying from pollution and climate change https://t.co/0FAPaotQ2F\n",
      "We can’t halt #climatechange but in our hans is this will be Bad, worse or our extintion https://t.co/v1O5wwLYjf\n",
      "Th… https://t.co/yD75xrDkLC\n",
      "Some of you may not know this, but the other day, there was a huge storm that knocked out power in at least 100 pla… https://t.co/muA2KUppwP\n",
      "@yvette_cleland @Stniuk @annettedittert ...at a time when there were no UKIP or Brexit Party MPs. But this was bias… https://t.co/tCDiUHjRJG\n",
      "“The fight against climate change requires mobilization from individuals, governments, businesses and organizations… https://t.co/kx7wlWqowD\n",
      "Climate change making wild cod &amp; tuna dangerous to eat https://t.co/z4yCNqSP3Q, check out @EricPooley,  #urbanplanning\n",
      "Coverage of the energy sector fails if it ignores climate change: Don Pittis https://t.co/2LAEa0KfhX https://t.co/TjhW8yngY3\n",
      "I appreciate the current climate means is taking extra care, but not being able to change my baby’s nappy at… https://t.co/6rAzZ9zR3K\n",
      "According to Julia Breidenstein, a promotion of the second-hand industry would make a lot of sense for the time aft… https://t.co/TyKSUukzzk\n",
      "The brilliant people @DECLeeds have created these resources for schools to help integrate climate change education… https://t.co/qmpF5kBcVO\n",
      "People who don't wear masks -- are the same people who don't believe in vaccines -- are the same people who don't b… https://t.co/KwvD09FnR7\n",
      "@GrumpyOLSoldier This is just a trial run for the climate change lockdown they're planning next. You know how it go… https://t.co/Y1qbzo7435\n",
      "\"It is impossible to ignore the ways in which neoliberal capitalism, colonialism, and climate change come together… https://t.co/HvZvBBKWGb\n",
      "@degree_in_dog @Zsom5 @BernieSanders There are more scientists that debunk most of it than are pushing man made cli… https://t.co/tZxbYAOy4M\n",
      "As we accelerate the shift to #sustainability what happens to those that depend on #fossilfuels? @CSISEnergy Just T… https://t.co/jTjz0TyPYy\n",
      "@RogerHelmerMEP @Get_Ginvolved More fish in British waters due to climate change FFS\n",
      "Protecting the environment and tackling climate change are political priorities for the EU.\n",
      "\n",
      "If you have a… https://t.co/wd3Up5BwlQ\n",
      "The scariest thing about global warming (and Covid-19) - but there are ways to overcome it. https://t.co/5uIMjk1nVc via @voxdotcom\n",
      "@reach147 We can have internal disagreements. We are allies on the bigger questions of war, nationalism, climate change and capitalism.\n",
      "Report: Eastern Europe's Coal Regions Need to Move Off Coal Power for Green Recovery #windenergie #Bloomberg #BNEF… https://t.co/5tPhRJeDgQ\n",
      "\"The habitability of the Earth and the viability of lesser evilism are on the ropes, and incrementalism is thriving… https://t.co/bIm9bvKAcg\n",
      "@Medio_Campista We'll have to wait and watch bro..things can change, there's some time before the window opens, let… https://t.co/e2kPtblifF\n",
      "climate change : vehicles contribute 20% of carbon emissions in the US (people - lets not die)\n",
      "Coverage of the energy sector fails if it ignores climate change: Don Pittis https://t.co/6Kfba9ZZCp https://t.co/Jp99OWSmAd\n",
      "@climatecouncil @renew_economy US government officials from agencies including the Army, Defense Intelligence Agenc… https://t.co/f2R70oSdzC\n",
      "I’d suggest that anybody who (like me) supports Regenerative Agriculture, and wants to see it encouraged and suppor… https://t.co/mFTXih8PMK\n",
      "@OsWarOnCars @CorbynistaTeen driving or not driving a car makes next to no difference on climate change. If you cyc… https://t.co/qqBT1SooVh\n",
      "Coverage of the energy sector fails if it ignores climate change: Don Pittis https://t.co/gfqTz0Jx89\n",
      "@NikkiKF \n",
      "Kittens? ...work from home if you can (sadly you can't, I'm sure) ❤️🧡💙\n",
      "\n",
      "Coronavirus, climate change and w… https://t.co/mcp7rcXVu6\n",
      "@brian2003999 @tan123 @GretaThunberg Around the world 97% of scientists share consensus that human made climate cha… https://t.co/KXZx4KSEIJ\n",
      "when their part of the globe gets ravaged by climate change they’ll seek refuge in our lands\n",
      "\n",
      "indoctrinating us wit… https://t.co/0lhbOEAhjG\n",
      "@PressSec @jonkarl I believe you do indeed know how this works...Russia bounty claim, coronavirus, climate change,… https://t.co/vMYixpDuT7\n",
      "EU lawmakers agree to include shipping emissions in EU carbon market. A piece of good news about shipping at last !  https://t.co/KruagAl7iq\n",
      "Coverage of the energy sector fails if it ignores climate change: Don Pittis https://t.co/icKqJlKGhV\n",
      "Peace,Conflict,Climate Change and Rebewables!\n",
      "@MhehedZherting @Greenpeace Climate change is a threat multiplier. Do you think that with CC we will have entirely… https://t.co/TrfC7TcCOQ\n",
      "The wine of the Norwegian Fjords: due to climate change - https://t.co/vf7XvVy9LC via @Shareaholic\n",
      "✨NEW✨ \n",
      "\n",
      "Are Africans prepared to confront climate change?\n",
      "\n",
      "Explore our interactive tool for the latest findings on… https://t.co/9Grl8VfFqd\n"
     ]
    },
    {
     "name": "stdout",
     "output_type": "stream",
     "text": [
      "First look at @heydaysoslo new identity for Chooose – they make it easy for both companies and individuals to act o… https://t.co/cP24SILEJo\n",
      "@morrin28 @Nigel_Farage No it’s not... climate change, pandemic,  brexit they are major crisis.  This is just humanity.\n",
      "@wef Oh God! This is so scary “The warming trend at the south pole is much larger than at other stations, but this… https://t.co/ynji21RCrU\n",
      "@wef At climate change action East Africa we know that there is no future with no trees, so our tree planting of fr… https://t.co/GYxsj6AgJ6\n",
      "@ChrisGPackham All great points. I don't think future generations are going to care about that half hour saved by H… https://t.co/ecZ6WOuGsn\n",
      "how u tryna end climate change &amp; faithfully eating meat stupid bitch\n",
      "it was 30°, sunny and humid as hell two days ago and today it's 20° and windy 😐 love climate change\n",
      "If you are a libertarian free marketeer, have economic dependency on fossil fuel extraction or use, believe only Go… https://t.co/qMtGJ0Yfb4\n",
      "People who think they did this for climate change 🤦🏼‍♀️🤦🏼‍♀️🤦🏼‍♀️ no they're just tories https://t.co/zVEgWvH5Qn\n",
      "@business Green transition sounds very nice but forgives all the sins climate action falsehoods. Change comes from… https://t.co/i7uB741N7w\n",
      "@OxfordEconomics via @business: Hotter #temperatures by 2100 could slash #global #GDP by more than 20%.\n",
      "\n",
      "https://t.co/EAyPbbjmub\n",
      "Opinion: We could become more resilient to future pandemics by protecting nature https://t.co/yh10cb85tG\n",
      "@DamainWard @BrokenByWar I’m finding the same , understand what you mean inthe current climate but if you never cha… https://t.co/ZI4dZ7p550\n",
      "Climate scientists say we need more natural forest. Instead, we continue to plant monocultures. Just this morning I… https://t.co/AmbfWDJsTG\n",
      "super not friendly reminder that if you think climate change is a hoax fuck you and i hate you :))\n",
      "@ReduceEnergyDC If you want to lower your electric bill a little this will help. If you just want to fight climate… https://t.co/co6XyIvVAh\n",
      "And check out our @Planet_Pod #podcast with @greenamanda &amp; @mjsiegert to find out more about what studying core sam… https://t.co/Co9wllPHqg\n",
      "\"The Arctic is warming at least twice as fast as the rest of the world. That means change is definitely on the way.… https://t.co/wWztZzyeEV\n",
      "@a_c_harvey GH is so white washed its unreal. Need to look long and hard how to decolonise GH, decolonise med stude… https://t.co/nbC5khaMV7\n",
      "@mattpaff @AlanKohler Don’t call it a tax then?\n",
      "Scotty from Marketing would call it anything but a tax if he believ… https://t.co/tn1ZEuACdV\n",
      "Will climate change upend projections of future forest growth? https://t.co/JKzdcVuokk via @YaleE360 #climatechange #planetaryhealth\n",
      "@DrBitcoinMD Funny how last year climate change was the most important thing in the world, but this year it is racism...\n",
      "Go figure...\n",
      "Right that's it, I'm well and truly done with 2020 😬\n",
      "\n",
      "Climate change may push Zika virus into southern and eastern… https://t.co/cYAzUQcJsP\n",
      "The defence department isn't ignorant about the risk of climate change - just this useless LNP government.\n",
      "\n",
      "#auspol… https://t.co/MRIUJbZcX6\n",
      "@80MdJ 2/ But think about what could possibly happen in coming decades. If there was a breakdown in society, a war,… https://t.co/oBUxIre80r\n",
      "@mfa_russia @mod_russia @WW2Facts @sovietvisuals @RusEmbUSA @RussianEmbassyC @RussianEmbassy @RusEmbEst @RF_OSCE… https://t.co/3Fn6735tnj\n",
      "ICYMI: \"To take radical action on air pollution and climate change, we need the original ideas that only children c… https://t.co/hl5JLqP55z\n",
      "#HelpCombatClimateChange #ClimateEmergency #ClimateCrisis The law that could make climate change illegal… https://t.co/u90b2BJJMY\n",
      "The broader welfare view should ideally better inform policy-makers about the consequences of the choices they make… https://t.co/7u4oMp6NqW\n",
      "Join us 16 July for an online conversation with Prof. Kaoru Kitajima of Kyoto University on how we can reduce tropi… https://t.co/ZGNzRXMRpa\n",
      "\"In the Green Party we were often given a pat on the head and told our plans were too ambitious - but COVID-19 has… https://t.co/n3fORH1dWt\n",
      "This is the same dumba$$ who doesn't believe in scientifically proven things such as depression, man-made climate c… https://t.co/3eQip41ZfD\n",
      "@mad_paola12 @JGRinconEckardt @TheEllenShow @GretaThunberg i wasn't aware of climate change before Greta Thunberg… https://t.co/Ke9x8NK8Yg\n",
      "Climate Alarmists be like: \"its slightly hotter today than normal how can you pretend climate change isn't real\"\n",
      "\n",
      "C… https://t.co/xxRAqmzm4l\n",
      "@Tim8the8Plumber @MhehedZherting @Climate_Militia @Greenpeace Degree is used to reference a scale. For example: 1°C… https://t.co/f7RtDfZWz3\n",
      "Does not have what it takes to be a politician. BBC Breakfast viewers outraged after 'irrelevant' Lib Dem leader Ed… https://t.co/yyxQIgAvLg\n",
      ".@PrakashJavdekar @SuPriyoBabul : Declaration of a National Climate Emergency and Tackling of Climate Change - Sign… https://t.co/wDVDpgO7Pi\n",
      "IN FOCUS: Non-Resident Fellow Yasmeen al-Eryani @YEryani writes about how weak urban planning, climate change and w… https://t.co/3go4KsHksF\n",
      "debating vaccine skeptics gave us anti vaxxers, debating transphobes gave us terfs^H^H^H^H^Hgender crit^H^H^H^H^Hjk… https://t.co/Hdp3TCf1DE\n",
      "@VoteAndyBrown I can see no way of stopping climate change as government only worries about tomorrow’s headlines an… https://t.co/FcsomwnCjY\n",
      "“Siberia Swelters in the Age of Climate Change” #Russia https://t.co/vHp5cVmv02\n",
      "The UK Climate Change Committee (CCC) has published its progress report on the net-zero carbon goal of 2050. \n",
      "The r… https://t.co/rTqHYpYFCY\n",
      "@worldsteel's Head of Environment and Climate Change \n",
      "@AsaEkdahl has explained why we need to use steel's co-produc… https://t.co/ILm1qhB7U2\n",
      "Only two more dates available for our climate change round-tables hosted by @RButcherptl. An opportunity to influen… https://t.co/pMxD5LShAB\n",
      "I want my pension to protect my future. I just joined @ClientEarth’s campaign to challenge pension schemes on clima… https://t.co/y0gieOdSHa\n",
      "One way to fight climate change: Make your own glaciers. https://t.co/kRq72slCtF via @NatGeoMag\n",
      "Climate change could be making forests shorter – this is how https://t.co/4H4KDiNINx #biodiversity #deforestation https://t.co/DSMxhdVC12\n",
      "Humans are changing zoonotic disease systems and increasing their impact through habitat encroachment and populatio… https://t.co/VkF2kgTwPo\n",
      "A group of 120 ecologists and activists has written to Union Minister for Environment, Forest and Climate Change, u… https://t.co/G0uxhgEUIB\n",
      "CDP launches climate 'temperature rating' system for investors https://t.co/e9It9YWBKP\n",
      "U.S. Emissions Dropped in 2019: Here's Why in 6 Charts https://t.co/FO1dXbdAeX\n",
      "📖Read the piece: @BenGoldsmith in support of a #NationalNatureService to provide skills and jobs, improve health an… https://t.co/4Yp5mRoSCh\n",
      "@DavidGuyJohnso1 @eggbotme @GretaThunberg Them the young generations who shouldn’t protest because their ‘too’ youn… https://t.co/41BsAcutNd\n",
      "I've seen #leaders of #humanity come &amp; go since I've been involved re #climatechange, \"none of them\" have spoken \"w… https://t.co/vWXdJYHqqu\n",
      "Side effects of climate change 😂 https://t.co/OkgWFaVFEx\n",
      "Flower is a marine biologist and her research work focuses on seaweed farming and integrating seaweed with marine a… https://t.co/g5SePU5kpr\n",
      "@jwh1982 @SkyNews For all we know this new species could be thriving because of climate change or the change in aci… https://t.co/3DZYZZVKvz\n",
      "Great point! It’s exactly the same as with climate change. Probably because the activists know they’ll get an audie… https://t.co/9xgDciJwBx\n",
      "This is cool and all but i hope y’all realize that the ones to blame for climate change are big companies https://t.co/FaBeyYNyDt\n",
      "Who is running the program Names, Places, plans expose would get the ball rolling whos financing, What  are they sp… https://t.co/M9ZSyCOIHZ\n",
      "Article: https://t.co/SVgYNU120L - 8 Podcasts About Climate Change &amp; Activism for K-12 Students | Kidcasts #SchoolLibraryJournal\n",
      "@KenBuzzins @GretaThunberg She's right. Climate change is the catastrophe... Pandemics will increase as the world d… https://t.co/V2C0f7vgN5\n",
      "☀️ Climate change turning US mountain lakes green with algae ☀️\n",
      "#RenewableEnergy #technology #innovation #tech… https://t.co/0CCXKPEvUD\n",
      "“Climate change is not making natural disasters worse” &amp; “Humans are not causing a sixth mass extinction”. Demonstr… https://t.co/DnbE0sd15R\n",
      "Saying trans lives don't matter, or vaccines cause autism, or psychiatry is a myth, or climate change isn't real, o… https://t.co/90NG5I8lOi\n",
      "@MattWalshBlog She has her beliefs she was elected by her constituents she believes we need fundamental change in o… https://t.co/5VbUdd2VgP\n",
      "@samiankrumah How gender shapes responses to climate change: New tools for measuring rural women’s empowerment… https://t.co/pyksB5oxX8\n",
      "We love CPRE's #greenerbetterfaster report that provides countryside solutions to tackle the climate emergency. We… https://t.co/Fit0926Y3M\n",
      "@SkyNews Must be caused by either climate change or systemic racism, maybe both.\n",
      "@meansexrat @DebraMessing Don’t you Think they’re doing the best they can with an oppressive system built on white… https://t.co/wyDGTliX1c\n",
      "#Tories - When voting for #BorisJohnson last year can I assume you are ok with:\n",
      "\n",
      "NHS cuts\n",
      "Homelessness \n",
      "No deal Bre… https://t.co/1sIJ4oJfWz\n",
      "@bookedbusy @MagaliDMathias Oh sure I came across them during the PJ mania the Brit media created. And they write a… https://t.co/geAhG21Ywg\n",
      "The five candidates for the RIBA presidency clashed on issues including climate change and diversity in an online h… https://t.co/tvdD896hkt\n",
      "Hotter World Will See 21% GDP Fall, India on \"Ruinous Trajectory\": Study https://t.co/Hj3elK2971\n",
      "[1/2] For the eighth episode of “Stories for a Better Normal: Pandemic and Climate Change Pathways,” with a topic o… https://t.co/Gsgs2t24TD\n"
     ]
    },
    {
     "name": "stdout",
     "output_type": "stream",
     "text": [
      "@lfc10 @EuropeElects I think it's a party lead by Szymon Hołownia with focus on climate change.\n",
      "The #pandemic has revealed deep flaws in the world’s food system and food leaders are calling for global coordinati… https://t.co/ByZcXpnXDK\n",
      "@generalslug I hate to tell you that due to climate change, it is much smaller now\n",
      "@HillaryClinton Gates meets world leaders around the globe. He is there for only two possible reasons: (1) pitch hi… https://t.co/nHK2h12hqQ\n",
      "Increasing soil’s carbon content also protects against erosion and increases biodiversity. #ClimateChange… https://t.co/Uj5q9fqcyD\n",
      "For the second consecutive year, forest fire activity is more than 22 times higher than in 2003-2018 in the Arctic… https://t.co/VfFVRUgXHP\n",
      "Proud to be quoted in this article - and yes if we put action behind words - this is an amazing step @DanJoergensen… https://t.co/pnPtISXba1\n",
      "By 2050 flooding annual losses are expected to increase by between 25-85% \n",
      "\n",
      "https://t.co/wnd0krGGR4\n",
      "\n",
      "@floodre  #climatechange #flooding\n",
      "This opportunity is open to neurodivergent artists - £10,000 commission to create a new work that responds to clima… https://t.co/Icqnw0DsRr\n",
      "@BrentToderian @rafay_alam People have also seen the worst impacts of Climate change and It changed the political m… https://t.co/UTJTrmh8fL\n",
      "Also the usual nonsense about teaching local people important skills (New Yorkers teaching people in Ghana to make… https://t.co/tvhkM1WgVj\n",
      "#Europe wants to use hydrogen to slow #climatechange - will it work?\n",
      "\n",
      "#Hydrogen is back. On 8 July, the #European C… https://t.co/i4E7FjWANC\n",
      "@ActionShift Lets just take climate change aside for a moment. You know international trade is done on US dollar? A… https://t.co/xJfr7hCxkZ\n",
      "I wrote for @AFP about how climate change is turning mountain lakes in Colorado green with algae. And surprise, the… https://t.co/5PmIcHcLZx\n",
      "@tommiandjoey @AviSchiffmann with questions focused on the interest of young people (climate change, BLM, education… https://t.co/SDEGSNESXX\n",
      "@KissMeAgain99 I'm sure it wont be about climate change or Corona virouse\n",
      "JP Morgan told #Trump the world is ending . He still believes climate change isn’t real 🤦🏾‍♂️https://t.co/hQGgqfhTz5\n",
      "Climate change may push Zika virus into southern and eastern Europe https://t.co/zr1HwglTDS by EthioSun\n",
      "My Thoughts on the Speeding Train Called Climate Change \n",
      "We used to think the sky went on forever until the first a… https://t.co/gTMsiaLCS2\n",
      "Climate change may push Zika virus into southern and eastern Europe https://t.co/NPzmvuY7gV\n",
      "@norwaydave @TheOnion @MichelMNielsen «Four in five respondents agree with the Committee on Climate Change’s princi… https://t.co/xCQ6uEpFFv\n",
      "Manchester City Council has not kept its promises of emergency action on climate change, a new report coordinated b… https://t.co/1RLmgtf6tw\n",
      "\"I want to explore every avenue available in order to combat climate change,\" aldus ECB-voorzitter Christine Lagard… https://t.co/bcy7sLbx2r\n",
      "@cctvidiots ...penguin tired of climate change...\n",
      "@EugeneMcGarrell I think that Climate Change is a bigger problem the  public stupidity.\n",
      "Dialogue to deliver a successful #COP26 continues. As @AlokSharma_RDG points out, we need a 50% reduction in GHG’s… https://t.co/MIQFK6gzEv\n",
      "Gesucht: PostDoc (f/m/d) \"Social sciences of climate change impacts on coastal ecosystems\": Alfred Wegener Institut… https://t.co/SG7lAIMLd7\n",
      "The ECB is prioritising using its €2.8tn asset purchase scheme to pursue green objectives, in order to tackle clima… https://t.co/4zWec6kQmK\n",
      "The earth is literally dying, watch your carbon footprint, eat the rich, and hold companies and manufacturers accou… https://t.co/RdXGtjqgN2\n",
      "What are we doing on #ClimateChange ?\n",
      "Our strategy sets out a clear direction to both reduce carbon emissions and p… https://t.co/iMWB2fvzvY\n",
      "@ItsFuckenGoget @_S0MB0D3I_ @LocalDeerCop @G0RE2THEC0RE @GPSisbetter @NikolaiObama So the people on the plane are j… https://t.co/1WgTPHyGRA\n",
      "@ChiragPawar06 @VideshiKesariya @RahulGandhi I saw climate change video \n",
      "And scientists video\n",
      "Here it is, the first sneak peek of our upcoming series, #thebigclimatemovement! What can the pandemic teach us abo… https://t.co/kZSwkbUuj7\n",
      "And if you have time, watch this Steve Keen lecture on economics and climate change. https://t.co/z8NAZwSFAL. Brill… https://t.co/KjUB3RwcFS\n",
      "The Danish climate law sounds like one with more teeth: \"Every year, the government will need to find a majority pa… https://t.co/88c2bvBrEx\n",
      "@rat_dyke trump minus the tweets and statues about climate change\n",
      "That shithead neil ferguson and his faulty computer models, are the basis of this fascistic lockdown, that piece of… https://t.co/qjXyiD6N8t\n",
      "@davigoli @pseudocia We aren't trying to figure out how to treat each other tho, we're trying to \"figure out\" how t… https://t.co/XItp8kFZh2\n",
      "COVID-19 has made it clear: science + empathy = imperative of responsibility. Now let's apply it to climate change… https://t.co/qSOBg6Uf9j\n",
      "1/4 With 3 days to go to watch all the titles on Selects, we're focusing on 3 films about climate change and the ef… https://t.co/s1iR3ZwKYe\n",
      "@ndrew_lawrence Why does Carlson even care if anything has a basis in science if he denies science on everything fr… https://t.co/8O4NpLxHQG\n",
      "@tnewtondunn They get more dense by the day: 1. How is this going to make people see them in a positive light? &amp; 2.… https://t.co/1t0LMxA3OW\n",
      "@WillTullett @NiCHE_Canada A lot of those environmental historians had to learn how to construct those narratives a… https://t.co/KIs8h6753U\n",
      "@robbystarbuck Clearly u understand nothing: Climate «change». Doesn’t matter if it gets colder or hotter, people l… https://t.co/oT6zC4CYY4\n",
      "Global environmental non-profit group CDP said it created a temperature-ratings system that will allow investors to… https://t.co/a7so4ycVvl\n",
      "The Causes of Climate Change -&gt; Vital Signs of the Planet: Global Climate Change and Global Warming. What is the “g… https://t.co/7gdusBsCVf\n",
      "Climate Change, Covid19 &amp; The Fake Tests - David Icke https://t.co/DcanQIuDGw #BitChute\n",
      "The World Climate Simulation is an in-person role-playing exercise of the UN climate change negotiations. \n",
      "AEMS par… https://t.co/8MLYfJpZRF\n",
      "\"Tackling climate change, pandemics, or any of a range of modern global problems means keeping our attention on wha… https://t.co/C44HGfR2xC\n",
      "@MrMcEnaney @_RichardJohnson Motorbikes and scooters are completely ignored in the fight against climate change and… https://t.co/Y7LSLLERkY\n",
      "Kev we're waiting for the ABCs take down of their decades of decades of hyperbolic imbecilic climate change predict… https://t.co/dl326hhrr8\n",
      "Compelling proposition on how climate change can rebuild jobs in Australia. The future in our hands https://t.co/qUsfpz6vJJ\n",
      "@stockypig @LBC @NickFerrariLBC This from a climate change denier.\n",
      "\n",
      "And this is why critical thinking should be taught in school.\n",
      "‘Climate change and biodiversity loss could cause social and economic damages far larger than those caused by COVID… https://t.co/12TIVjq4FG\n",
      "Climate change may push Zika virus into eastern Europe &amp; the northern US https://t.co/9njUzzJ7dG\n",
      "brilliant &gt; https://t.co/QoCXor5wTM\n",
      "\n",
      "\"We need a trans-ideological consensus to allow people with incompatible world… https://t.co/vgfjmLFSCL\n",
      "From last night\n",
      "\n",
      "Covid-19, Climate, and War Communism | https://t.co/TxEumeqoby\n",
      "\n",
      "Another excellent @poltheoryother… https://t.co/kWJSaZ9Gcn\n",
      "Please keep all the below important documents in safe\n",
      "place out of Chennai :\n",
      "Personal\n",
      "Professional certificates\n",
      "Emp… https://t.co/xEaPnVgA8m\n",
      "\"And compared to the mouse that is COVID-19, climate change is a raging bull elephant.\" @hernehillandy on English w… https://t.co/lZZNHfUp78\n",
      "@foe_us @ClimateReality @UNFCCC  We must build capacity to adapt to climate change even as we mitigate it.… https://t.co/m4D75AEStS\n",
      "@UrbanDemog @rauljustelores Climate change send its regards\n",
      "Even if we start to fix climate change, the proof may not show up for 30 years https://t.co/7trIPV4h6e\n",
      "@meansexrat @DebraMessing Yes that can be achieved .. aren’t the climate change protests and BLM movement at a gras… https://t.co/CyI8kzyU7K\n",
      "We cannot tackle climate change without democracy and participation. Young people are overwhemingly conscious of CC… https://t.co/2MirGlbWwx\n",
      "@Grasshopper2049 Makes climate change denial a lot harder for sure.\n",
      "#StartupClimateAction by @stingsthlm and @norrsken_org , a new initiative aiming to generate the next wave of start… https://t.co/3FVYiTEtkn\n",
      "dems PANIC over climate change gap among gen z\n",
      "@tyler6502 @px400r @unclebobmartin As there is f.e. huge evidence for climate change would you still give space to… https://t.co/PHPY452lMW\n",
      "@ClimateHuman Most media is ad based and dependent on clicks where TikTok and Kanye West get a lot and sadly climat… https://t.co/x9irxR0bt2\n",
      "@tomhfh First sentence there like Ouch! Maybe the solution then is to simply remove the car park. Then everyone can… https://t.co/WeD6A0P6w2\n",
      "Debunking the Simple Physics Slogan About  Climate Change https://t.co/XDQaMfFsFX  *\n",
      "@ItsFuckenGoget @_S0MB0D3I_ @LocalDeerCop @G0RE2THEC0RE @GPSisbetter @NikolaiObama That's not how it works at all.… https://t.co/Quql5D3Vbi\n",
      "@noelvpascual It’s also a test to see if we can make massive societal changes quickly because we need to do so to a… https://t.co/aQr0kTALN6\n",
      "The law that could make climate change illegal https://t.co/9E6wqvnxsU\n",
      "When Ian Plimer, Emeritus Professor of Earth Sciences at University of Melbourne,  published “Heaven and Earth” in… https://t.co/yAnFE0YU8q\n"
     ]
    },
    {
     "name": "stdout",
     "output_type": "stream",
     "text": [
      "We are introducing the hashtag \"Go Green with BMI\" as an initiative for corporates around the world to grow along w… https://t.co/eEjRw2By0X\n",
      "@MonicaLewinsky I thought this was about climate change, then I saw the name\n",
      "@ChrisAnkTest @archer_rs Because french police or gendarmes love to pepper spray people ! They do that to child tha… https://t.co/356c0tPvQ9\n",
      "@CavaggioniMario Central bank mandate includes climate change ?\n",
      "The COVID-19 pandemic might make us rethink our tepid response to climate change. We are now painfully aware of wha… https://t.co/7Nl0dDevey\n",
      "@NZStuffPolitics Great to see your party has really said what they really think about climate change… https://t.co/aVzW6x0Yyh\n",
      "@bhascker_rm Normal climate change don't worry\n",
      "@JoshFrydenberg Does your working together \"NOW\" include BLM, Climate Change, all religions, etc street protesters… https://t.co/TI20csePU2\n",
      "COVID-19, violence and climate change: Lake Chad herders in distress https://t.co/TSFcTi2ADY https://t.co/B0Mn33dPQU\n",
      "Coverage of the energy sector fails if it ignores climate change: Don Pittis https://t.co/JTZhNJdp51 https://t.co/NghHv1ECFD\n",
      "When is everyone going to realize that even without climate change, the natural resources in the earth are not enou… https://t.co/OEGCnz2sDp\n",
      "@Manupurself @SkyNews They weren't important in the Sky News list of groups to patronise. Murders of Homosexuals ar… https://t.co/OzYYPL0wQU\n",
      "We need developers who can work to provide sustainable energy alternatives to diminish  the impact of… https://t.co/UwzDBksDpu\n",
      "Lagarde Puts Green Policy Top of Agenda in ECB Bond Buying:\n",
      "\n",
      "@ECB president @Lagarde has opened the door to using i… https://t.co/kPmwySOcRE\n",
      "Increase of zoonotic diseases attributed to high demand for animal protein and climate change. https://t.co/JRLgyff0mG\n",
      ".@DEFCCOfficial invites you to showcase your creativity by designing a logo for them. Participate now and win a cas… https://t.co/tAPVrLr8K6\n",
      "Those who have been invited by CDP to respond to 2020 CDP Climate Change Questionnaire are welcome to register for… https://t.co/mzF0GjynIJ\n",
      "Those who want to see the impact of #ClimateChange must look no further than your drying water reserves. It’s time… https://t.co/ZSM1qXB19Y\n",
      "The #ClimateCrisis is upon us but many individuals are still asleep or ignoring it. Global Climate Change - Statist… https://t.co/j6aboAudh4\n",
      "@jimdtweet @BubbasRanch @IBergwiesel @Kenneth72712993 @ladyspat1 @KIVUNature @NikolovScience @DenglerJoachim… https://t.co/GESQozvx0Q\n",
      "@ClimateBen 1/ People don't get the link (to take your e.g.) twixt collapsing insect pop. and human wellbeing. \"So… https://t.co/tTfByB6hrs\n",
      "You know the Solutions for addressing #ClimateChange really require collective action and #GoodTech. So guys Partic… https://t.co/guHRwmAUK8\n",
      "@Eco_Ty @ShahrarAli See also https://t.co/oDlvO605cA\n",
      "BTW, the newspaper's from New Zealand.\n",
      "Hotter World Will See 21% GDP Fall, India on \"Ruinous Trajectory\": Study - NDTV https://t.co/X0kIQuJZaF\n",
      "Start from the basics: What is #climatechange? Informative article by @metofficeUK + example of how different ways… https://t.co/WcYPhyWUiq\n",
      "Coverage of the energy sector fails if it ignores #CLIMATE change: Don Pittis https://t.co/iTaiR0pu2S  #GlobalWarming #climatechange\n",
      "Runaway climate change effects are warming up even the coldest parts of the planet. https://t.co/Eh1g1rwhJI\n",
      "Buckminster Fuller inspired me as a student with his 'design for the real world'. Now his followers are reinventing… https://t.co/8FjRfL4v2e\n",
      "@Richard62316561 @mcannonbrookes @AlanKohler #Bitcoin fights MMT and climate change. The cheapest energy, renewables, is leveraged by  BTC.\n",
      "Coverage of the energy sector fails if it ignores #CLIMATE change: Don Pittis https://t.co/CccRay2aIe #GPWX #GlobalWarming #climatechange\n",
      "@natalieben @CarolineLucas @greenbenali @Staines_XR \n",
      "The law that could make climate change illegal https://t.co/k24a3NMZKb via @BBC_Future\n",
      "Left unchecked, #climate change, environmental destruction, rising sea levels, droughts, floods and other environme… https://t.co/NvSZZhVFoo\n",
      "BBC News - Coronavirus: Climate change 'bigger threat' than Covid-19 https://t.co/LhSEFixV3d\n",
      "So good to hear @EdwardJDavey talking about the need for a #GreenRecovery to respond to the covid recession and cli… https://t.co/RUQTXcsWjR\n",
      "@ndrew_lawrence This Pandemic can’t be allowed to be treated like immigration or gun control, or climate change. Th… https://t.co/3mzmhLFCpn\n",
      "In a nightmare world of pandemic, recession and devastating climate change - take a moment to join  me in happiness… https://t.co/OXGomqd6ih\n",
      "The scariest thing about global warming (and Covid-19) https://t.co/B1N5zqDreE via @voxdotcom\n",
      "\"Everything we do during and after this crisis ...must be with a strong focus on building more equal, inclusive and… https://t.co/C5VVyOIQZj\n",
      "We all know that our planet gets hotter, we need to find clean energy alternatives to mitigate the impact of… https://t.co/yAvldyOB2i\n",
      "i’m going to start lying and telling people that climate change is a psy-op\n",
      "@BradleyWhitford @TuckerCarlson Science - all of a sudden he is worried about the ‘science’ of it all.\n",
      "Does that me… https://t.co/qTI9B86jES\n",
      "@BernieSanders @suesea2010 If humans go extinct,  we no longer have to worry about climate change!!!\n",
      "@StanGrantMOF Great ABC article on Aus, China and the US (and others). \n",
      "Rudd got many things right -- China, the ap… https://t.co/OWTOQ19l9L\n",
      "Its only HOT AIR &gt; The 2021 United Nations Climate Change Conference, is scheduled to be held in Glasgow, Scotland… https://t.co/h6Shmoao94\n",
      "@theneedledrop @AlexJonesFrog @Olsen2901 \"Rational wiki\"\n",
      "HAHAHAHA are you kidding? You cannot be serious.\n",
      "You might… https://t.co/JUoJAv6027\n",
      "@afneil @spectator Wonderful article Andrew, most reasonable people understand that the climate is changing, we und… https://t.co/v7dDs8q8uk\n",
      "@CreechJeff @joefrancisco5 @StevePa64146485 @SimaforTX @TeamPelosi Trees Live On What We Exhale. If Jerks Weren't C… https://t.co/MAyGOEghQk\n",
      "A new and ambitious climate law makes Denmark one of a small number of countries beginning to provide new blueprint… https://t.co/2GJ0WNCVHO\n",
      "Coverage of the energy sector fails if it ignores climate change: Don Pittis https://t.co/SqQaIRYX2F\n",
      "#COVID19 amplified the challenges of hunger and climate change, resulting in multidimensional crisis. This story fr… https://t.co/HgYGcNnSSJ\n",
      "Green technology investments could help society recover from the coronavirus – and prepare it for the long-term neg… https://t.co/m9nLVl2Lrb\n",
      "So America really wants to ban tiktok before implementing gun control, fixing the police system, arrest Breonna Tay… https://t.co/Pz9uHunD8T\n",
      "Some great images of feedback loops here..“Systems Thinking Through Climate Change — 5 Positive Feedback Loops” by… https://t.co/CbjAOrw78i\n",
      "The European Commission presents an overview of the performance of the EU economic sectors related to oceans and th… https://t.co/lvt5vOoPOQ\n",
      "A small but bright noctilucent cloud (NLC) display last night outside urban window in Belfast. If I had a car, woul… https://t.co/ey26ZPNcHy\n",
      "Powerful..WHAT IF\n",
      "Climate change by Baudouin Mouanda. Flood. Congo River. Daily life \n",
      "@baudouin_mouanda\n",
      ".\n",
      ".\n",
      ".\n",
      ".… https://t.co/a9HTMOmyfb\n",
      "Colorado River has shrunk by an average of 20%. Climate change is one culprit – it is suffering worst regional dry… https://t.co/EjxfS9jFIi\n",
      "The plastic straw ban and the ban on single-use plastics is ABLEIST!!\n",
      "\n",
      "Plastic straw pollution made up &lt;2% of the p… https://t.co/qzDb525Mrw\n",
      "@jaynemendy @R_Sifuma Not to be an “um actually” bitch but a lot of those things aren’t really huge drivers of clim… https://t.co/YuSbKuZq9X\n",
      "It’s time to grieve the world we’ve lost to climate change—and start to move on. \n",
      "There's no turning back, but ther… https://t.co/ginZRGC5bc\n",
      "President Paris’s reaction to climate change: that’s hot\n",
      "Nyboer et al. used rstats Package's rfishbase rredlist in their work on assessing vulnerability of fishes to climat… https://t.co/sBbNQ9pr1K\n",
      "Not prone to exaggeration?.... Alexandria Ocasio-Cortez said, ‘The world is going to end in twelve years if we don’… https://t.co/oArAuBLBsh\n",
      "@DickDelingpole One of our state religions. Man Made Climate Change is another, alongside the alphabet soup that us… https://t.co/Gjh4ADiJoU\n",
      "@forthmann_jill @Kurnass3 @ArthurSchwartz @spardo2112 Name an agency. I'll throw one out as a starter, the EPA. He… https://t.co/QlXnZ3fp3e\n",
      "Europe wants to use hydrogen to slow climate change - will it work? https://t.co/Dr6AaV2GJs\n",
      "UN warns of rise in animal-to-human diseases. Experts urge governments to protect environment and curb climate chan… https://t.co/Smqei8STNI\n",
      "If you're looking for some ideas for August, our Global Goals Packs are full of amazing stuff! Introduce pupils to… https://t.co/YzjqWvVroU\n",
      "Barely a week goes by without some deep pocketed global institution putting its big thumb on the scales in favour o… https://t.co/26gD7OwATv\n",
      "How viable is direct air capture?\n",
      "\n",
      "https://t.co/zyhOqLI631\n",
      "@nmrqip I see. I haven't read it in detail, but the abstract equating moon landing denial with antivaxxers and clim… https://t.co/yeHK5F90Ow\n",
      "Together, we fight against Climate Change. Today, @Lagarde, president of the @ecb, has opened the door to using its… https://t.co/Mm6ZT3KY38\n",
      "What the Indian government considers unimportant (or threatening?) topics for high-schoolers to learn about: democr… https://t.co/gJobbVvAr9\n",
      "How the world’s most remote buildings can help us adapt to climate change https://t.co/mimLvxW39W via @FastCompany\n",
      "Global carbon dioxide emissions for 2020 are forecast to be more than six times lower than they were in 2010, which… https://t.co/iedfZWtnDu\n"
     ]
    },
    {
     "name": "stdout",
     "output_type": "stream",
     "text": [
      "Combating climate change through environmental taxes — how to move forward by @EUauditors https://t.co/KtPG1cEBrj\n",
      "What is the role of #historicbuildings in the EU strategy on adaptation to Climate Change? Have your say! The commi… https://t.co/vbCEOiyfwj\n",
      "The meat and dairy industry is increasingly feeling the heat of climate change, but major companies are avoiding ad… https://t.co/zTe3rGcvh5\n",
      "Sneak peek of our new series! 👀 \n",
      "\n",
      "Will lockdowns make people more empathetic toward refugees and migrants? Full ser… https://t.co/gDCc5HoTIN\n",
      "These 5 countries are home to more than half the world’s forests https://t.co/AOdeILvhQA #environment\n",
      "It’s time to grieve the world we’ve lost to climate change—and start to move on https://t.co/nd5wR8BvPF https://t.co/EwikOAtLn6\n",
      "Hotter World Will See 21% GDP Fall, India on \"Ruinous Trajectory\": Study https://t.co/mlXKQcv8O0\n",
      "“We believe that the continued governmental inaction over the climate and ecological crisis now justifies peaceful… https://t.co/z677Y56r4w\n",
      "By not changing a single sentence in the history books, Mr. Javdekar ensured that there will be no need to print ne… https://t.co/wt9FFN9gOs\n",
      "Learning about the science behind climate change is so interesting, mainly because I feel that every time I learn s… https://t.co/sCwPkjMAya\n",
      "Acd. Lasco: The impact of climate change cannot be felt by our generation but the next one will be worse. \n",
      "\n",
      "#PilipiNAST #PilipiNASTASM2020\n",
      "@DukingK @21cabbagge @Soulon3xpo @KEEMSTAR No.  In the current climate, you can't change.  Even if it was something… https://t.co/zfqNMlved3\n",
      "&gt; capitalism finally collapses pushed over the edge by the effects of climate change it caused\n",
      "\n",
      "&gt; communism emerges… https://t.co/ewQv7gItBE\n",
      "@BlairWilliams26 Not disagreeing with you there.\n",
      "Have to ensure that the treatment for a covid induced recession is… https://t.co/p7e1Vb5j0M\n",
      "@DuanQiaozhi @martjacques So instead of having the White House pandemic team to help China fight the COVID-19 outbr… https://t.co/20c4r8MIfp\n",
      "@levinepmc @CTVCalgary @CBCNews @CTVNews\n",
      " @Trudeau should just go and grab Trump by the tie and greet him the way h… https://t.co/dEpKPjAfCx\n",
      "@LAURIEANDERSE23 @PetahJane Most of them were deliberately lit. Some was from the oil in the gum trees getting real… https://t.co/9C4mj7O2gN\n",
      "How many Americans are affected by climate change?  https://t.co/qLEzCrenAN\n",
      "Even if we start to fix climate change, the proof may not show up for 30 years https://t.co/gG6B4UR799\n",
      "Spot on @EdwardJDavey! The scale of investment in tackling climate change is huge. A big opportunity, given the nee… https://t.co/C9KobOJplX\n",
      "This Is What Earth Will Look Like if We Melt All the Ice https://t.co/ZOiBxMdHkn https://t.co/g5Enwzkb4P\n",
      "Thanks @Team_BMC for choosing to help restore our precious moors 💚🌱https://t.co/sjiPYSeDyB https://t.co/r2ODF7ie5g\n",
      "We need a paradigm shift! All the world's greatest problems (eg climate change, biodiversity decline, pollution, po… https://t.co/CfrWUbng6m\n",
      "lmfao the politician made points about climate change and activism but that whole \"boil the leftover shower water t… https://t.co/l87EeIEBdD\n",
      "Those who are least responsible for climate change suffer its gravest consequences.\n",
      "#ClimateChange \n",
      "#Climat… https://t.co/tJRbuKepDM\n",
      "@BBCBreakfast @BBCNews Growing more of our own produce is also massively beneficial to tackling climate change but… https://t.co/sSuWYoz8nu\n",
      "Capabilities Director @RichardHalsey is drawing on our whole #energy system expertise to give evidence at the… https://t.co/EoTjmzCsXZ\n",
      "“The climate emergency is still exactly that – a crisis.”\n",
      "@PwC_UK’s Sustainability &amp; Climate Change Leader, Emma Co… https://t.co/Br5BKzIPGW\n",
      "(Note #2: climate change, however, IS scientific)\n",
      "We might as well keep this mask and distance thing going until the cold and flu are gone as well since we're not go… https://t.co/WshzpajBCQ\n",
      "India has taken very significant steps for combating climate change, says @PrakashJavdekar.\n",
      "\n",
      "https://t.co/XUMJr88a3p\n",
      "If you want to see the impact of #ClimateChange, look no further than your drying water reserves. It’s time for tec… https://t.co/sUjJMLGScE\n",
      "@kary_cee My messy-as-hell handwriting reads: \"realising we still have climate change\".\n",
      "\n",
      "As in, though the pandemic… https://t.co/m8nZlanfAW\n",
      "@mountaingirl_CO I live in Australia but my Dad has moved to the USA and is a rabid Trumper and climate change denier.\n",
      "@HuubBellemakers @AylinBilic \"Although the details of global warming were foreign to most people in the 1980s, amon… https://t.co/AY573q3kvx\n",
      "@TSLAWarrior @rob_brb @Ordinary1World Well.. you’ve been conned. Look what they do, not what they say. He is not wo… https://t.co/N2cdkLncUr\n",
      "Economists Warn That a Hotter World Will Be Poorer and More Unequal https://t.co/MQjahImoNK\n",
      "@spectator Quote:\n",
      "\"On behalf of environmentalists everywhere, I would like to formally apologise for the climate sc… https://t.co/cW0fj8mK4d\n",
      "@mcannonbrookes @AlanKohler  following comments on MMT, shouldnt central banks use MMT, to fund the fight against climate change ?\n",
      "@Zafarkhanjklf @ClaireLKD @DominicRaab @lisanandy @kashmir_tea @Debbie_abrahams @DominicRaab said human rights abus… https://t.co/w5CyU4hkaF\n",
      "Trump: 'I disagree' with Fauci on COVID-19 - Let’s not forget he disagreed with 7 intelligence agencies about Russi… https://t.co/48oGfSaeAi\n",
      "@JamieBGall You should definitely add @PurlsofWisdomCC to this list - looking at sustainability and climate change https://t.co/bO7G95isih\n",
      "@StickmanFineArt @oilrespect You seem oblivious to the ecological crisis the earth is facing. We need to reduce our… https://t.co/HdJsfpJHnV\n",
      "@Bankfieldbecky @James_BG @NaomiOreskes Definitely https://t.co/Iu1G1cfXY8\n",
      "Follow the livestream of our webinar on water scarcity and climate change in Iraq and its implications for (human)… https://t.co/FCxmR9SZdI\n",
      "Park Won-Soon, a mayor of Seoul, said in a speech that \"Climate Change is a matter of survival and we cannot postpo… https://t.co/OceGRX4WeS\n",
      "@BlairWilliams26 Can you just clarify what the bit about climate change says?\n",
      "Might add to the humour value.\n",
      "Especially about govt. policy and actions on carbon emissions and climate change. https://t.co/xbxxL74Hxu\n",
      "Presidential Climate Change Coordinating Commission seen as key to navigating South Africa’s ‘just transition’ https://t.co/8VZezHQWg1\n",
      "@newtonslogic @brothervegas @WholeMarsBlog @elonmusk Much of the new and upcoming technology involved in such an en… https://t.co/JyNiV3z42A\n",
      "Climate change turning US mountain lakes green with algae https://t.co/ALNLBWqjnD /via @physorg_com https://t.co/IQeiVAqEyx\n",
      "@diana_murphy613 Trudeau destroyed Alberta’s economy citing oil &amp; gas as responsible for disasterous climate change… https://t.co/oyj9Qfjyjs\n",
      "The law that could make climate change illegal | By: Jocelyn Timperley https://t.co/WXVJHYPrc9\n",
      "How The Coronavirus Pandemic Is Affecting Councils' Plans To Tackle The Climate Emergency\n",
      "by @JasminGray2\n",
      "https://t.co/jVFeLHvG2F\n",
      "wef: Siberia is experiencing heatwaves and forest fires – this is why it matters https://t.co/HprQHytoRT #Siberia… https://t.co/O96GlzT8Fv\n",
      "wef: Over 60% of Americans say climate change is affecting their community https://t.co/d7iNqlAS8z #UnitedStates… https://t.co/lseRcV3LCJ\n",
      "@jellsoval These threads are useless, dismantling the power structure of these corporations is the only way we’ll “reverse” climate change.\n",
      "Protected areas and ecological connectivity are crucial to stopping biodiversity loss and mitigating climate change… https://t.co/WgEb2GrY9S\n",
      "There’s no quick fix for climate change  https://t.co/oh6KYuCaiV https://t.co/28s2IoGH4g\n",
      "rich people are supposed to have the most money to act against climate change 🙃 https://t.co/4aGpQ1rp9c\n",
      "It has been a pleasure working with Emmanuel over many years.  His work will make a significant contribution to imp… https://t.co/7ItV89qjrT\n",
      "Climate change is real\n",
      "Really interesting piece. We’re basically not equipped for any of this. We adapt too quickly to the new normal.\n",
      "https://t.co/wlJoVcZACT\n",
      "It's #fuck_dup that nature, earth, environment, climate change, eco, global warming, world environment day, save ea… https://t.co/Uq0VpoyfsF\n",
      "Steyer made billions as an Indonesian Coal Baron. Browner, is a past official of Socialist Int'l. &amp; killed 50k high… https://t.co/QHi4a3iHC2\n",
      "Climate change has contributed to the spread of pathogens. #COVID19 https://t.co/f8CuHwkznY\n",
      "⏱has come 2 reset our priorities &amp; revisit our plans. Reliance on coal power plants, construction of 🏙, unplanned 🏭… https://t.co/5E3YJnDPxl\n",
      "Warming reduces trees' ability to slow climate change https://t.co/ztYKkbXJGX\n",
      "#Nature plays a key role in tackling climate change and transitioning to net zero emissions. \n",
      "\n",
      "We must secure a… https://t.co/zpySCambG6\n",
      "Climate change may cause extreme waves in Arctic\n",
      "#change #climate #scienceandnature\n",
      "https://t.co/KlACfkDBXJ\n",
      "Climate change turning US #mountain lakes green with #algae https://t.co/suXpacvd0d\n",
      "@Ed111203 @CDCgov you boviously listen to MSM &amp; not apy attn to primary sources, nor a govt employee. Climate chang… https://t.co/nSDkn8BAHb\n",
      "@jmcappiello Climate change is very real. U can see the effects w/out being a scientist or using special equipment.… https://t.co/GhuMEFem7F\n",
      "@GretaThunberg hey, stick with your climate change.u don't know anything about our country.and what does climate ch… https://t.co/if0PEzBCY5\n",
      "@ZJAyres Hey hey, I am Jelena, doing research in synthetic biology of cyanobacteria, and started reading a lot of b… https://t.co/QRPHFHSCDQ\n"
     ]
    },
    {
     "name": "stdout",
     "output_type": "stream",
     "text": [
      "It’s time to grieve the world we’ve lost to climate change—and start to move on #popsci #sciencenow #sagesutr https://t.co/glqP9evqfB\n",
      "The science has been settled to the highest degree, so now the key to progress is understanding our psychological r… https://t.co/NiSeCD7pvX\n",
      "It's been two whole weeks since the launch of the #CountrysideClimateNetwork. \n",
      "\n",
      "Read Cllr @SteveCount, Leader of… https://t.co/vXz2RgxbUL\n",
      "@BCU_BSoAD are proud to be part of this movement to address sustainability and climate change and @matjones_arch an… https://t.co/sr2oe6Kgti\n",
      "The African Women’s Studies @uonbi will hold the 3rd Annual Conference on Status of African Women with the theme “W… https://t.co/1fzXxw5UFi\n",
      "Doing my part to reverse climate change by becoming a spree shooter\n",
      "Intense Arctic wildfires set a #pollution record \n",
      "\n",
      "Scientists note that while fires are part of the ecology of the… https://t.co/nNjSY0gi0V\n",
      "Fire ants are headed north: Watch out for mounds, wear close-toed shoes and lose the shorts https://t.co/IvV1KgXYhz\n",
      "How will climate change threaten the 30-year mortgage?\n",
      "\n",
      "#OjedaS20 https://t.co/isjwjLx18L\n",
      "On how humanity’s ability to normalise and adapt is preventing us from tackling #climatebreakdown.\n",
      "\n",
      "@voxdotcom… https://t.co/3eGUtZhSkx\n",
      "+ 'The law that could make #climatechange #illegal' \n",
      "https://t.co/ELzS0J60PM \n",
      "\"..countries beginning to provide new… https://t.co/IwLah6O6I0\n",
      "@disjectaofbeck @MichaelEHuck @thomaschattwill @jonathanchait Oh poor victim!! We must all lift you up! We should a… https://t.co/4So0XeiWlz\n",
      "I just saw Idai exhibition tackles climate change - Click to see also ☛  https://t.co/ylGmmtxDBD #Aftershock… https://t.co/qmXQZYs5pj\n",
      "Acd. Lasco: Outbreaks are becoming more frequent. It seems to be attributed to biodiversity, climate change, food s… https://t.co/MfkjwLamGg\n",
      "@Goldlike24k @MariaCr94229176 @itsskyss5 No, she doesn’t mind her business. She wants to preach to everyone ‘about… https://t.co/E8BPmPe27B\n",
      "Share your ideas on how to save water &amp; water security with the #CallForCode @ibm_in\n",
      "https://t.co/FEpwRXiyf5\n",
      "Climate change impacts here, too:\n",
      "\n",
      "'Zoonotic diseases - which jump from animals to humans - are increasing and will… https://t.co/ekx7ds8MXV\n",
      "“I want to explore every avenue available in order to combat climate change,” - @Lagarde \n",
      "#ClimateChange… https://t.co/BS5DDnlRIq\n",
      "EQUAL EDUCATION MEANS LESSER OPPORTUNITY TO FIND STUPIDITY PEOPLE .. AS RESULT LESSER DIFFRENTS- IN BENEFIT 1% PEOP… https://t.co/8ZzFqC0HOw\n",
      "How to talk to kids about climate change without scaring them https://t.co/tGfFsNDkcc\n",
      "The Government turned down a proposal to ban the import of fossil fuel vehicles by 2035, something that *Boris John… https://t.co/6RvPuMZ9tN\n",
      "@MartinBrampton @HappyintheWest @GWLarsson @ibnsaud1981 @RedDragonFly19 @SombreGreen @fluffyredhead @Gazzagunna… https://t.co/YuxDVhDQgf\n",
      "\"What we have in the UK is a case where the government can set a budget, come up with a plan which isn’t good enoug… https://t.co/5Bfhgs5i43\n",
      "@wang_seaver But, as human agency is the biggest decider of future climate change, many futures are possible. This… https://t.co/dR7eaccYr9\n",
      "Aladdin® technology is designed to help investors understand their exposure to risk. Some of the regions hardest hi… https://t.co/2QYTiBIo1Y\n",
      "I dream of this kind of world.\n",
      "The French are making it real. \n",
      "Catch up #LNP @ScottMorrisonMP \n",
      "Deliver the possibil… https://t.co/pyZONP6xH8\n",
      "nature, earth, environment, climate change, eco, global warming, world environment day, save earth, climate warrior… https://t.co/9rcfbOl8IM\n",
      "Europe wants to use #hydrogen to slow #climatechange - will it work? https://t.co/ddyeA9LYGQ\n",
      "And here is @ryanlcooper nailing Nordhaus dead to rights. What an absolute fraud.\n",
      "\n",
      "https://t.co/aZu7SrND8c\n",
      "\"est. 80% of monthly heat records are due to human-caused climate change.\"\n",
      "\n",
      "1. Every time there's record cold, warm… https://t.co/5prYk0BRwL\n",
      "@AlexandriaV2005 @XRBerlin @drvox Yes, this has been analyzed before: https://t.co/DDwJz7KBPT,… https://t.co/57hlte0u6L\n",
      "This whole thing is a metaphor for how we're responding to climate change, but in weeks instead of years. When did… https://t.co/nyYQwiMLxV\n",
      "Intense Arctic Wildfires Set a Pollution Record \n",
      "\n",
      "\"Intense wildfires in the Arctic in June released more polluting… https://t.co/lclWxblf5s\n",
      "Ministry of Climate Change and Environment and Fujairah Adventures Launches Fujairah Cultured Coral Reef Gardens… https://t.co/ZVPTHyZqSN\n",
      "Yes, STEM subjects are important, but SHAPE subjects are equally important. SHAPE = Social Sciences, Humanities &amp; t… https://t.co/FomFE9FuZY\n",
      "Acd. Lasco: Waste management is very critical as we continue to generate lots of waste. Linking that to climate cha… https://t.co/HpWOM9D969\n",
      "@GalHibernia Not just economy but conflict too, Syria was probably the first modern war with climate change as one… https://t.co/43fhh7Oz1g\n",
      "@dreamwisp This will be the climate change strategy in about five years too. It’s astounding.\n",
      "The scariest thing about global warming (and Covid-19) https://t.co/T1abvRQ7TU via @voxdotcom\n",
      "Shifting baselines: Covid-19 and climate change. Why we need to remember what we’ve lost  https://t.co/oPtZphHbTk\n",
      "Most of the land on these islands is less than two metres above sea level. A 1989 United Nations report identified… https://t.co/svx03Dnsog\n",
      "Joe Biden Enlists Clinton/Obama Loyalist, Tom Steyer to Advise on Climate Change https://t.co/ZSUtI2cyLx\n",
      "@WestwoodRev @spectator This is an interesting response to it, with references: https://t.co/8zPAlPdj9W\n",
      "Check out this @RNZPacific conversation between @JamieTahana and HRMI co-founder @kchadclay, discussing our recentl… https://t.co/QKxbfurFlj\n",
      "i keep having climate change nightmares 🙃🙃🙃 feeling helpless and terrified that we're all gonna die horribly for th… https://t.co/hAK0QAmfjr\n",
      "A Historian Looks at Climate Change https://t.co/zeorJjkKhs via @YouTube\n",
      "Boris Johnson needs to live up to his climate change rhetoric\n",
      "https://t.co/gASsabo5nt\n",
      "The law that could make climate change illegal https://t.co/wyZ7abUUa1 via @BBC_Future\n",
      "Acd. Lasco: We look at this program of climate change to all these programs by DENR.\n",
      "\n",
      "#PilipiNAST #PilipiNASTASM2020 https://t.co/vOnMMEnT9g\n",
      "Joe Biden Enlists Clinton/Obama Loyalist, Tom Steyer to Advise on Climate Change https://t.co/ZSUtI2cyLx 2020 Elect… https://t.co/jiocJqEsB7\n",
      "Some science for your brain!... Warming reduces trees' ability to slow climate change https://t.co/h6RAJPfDlg\n",
      "Climate change may push Zika virus into southern and eastern Europe https://t.co/wKoS3nQ7Jj\n",
      "Extreme ocean surface waves with a devastating impact on coastal communities and infrastructure in the Arctic may b… https://t.co/LwKfUB8cxF\n",
      "Great article by @adamvaughan_uk about the @EU_Commission's hydrogen strategy due later today. It will also launch… https://t.co/pufjhVcfAd\n",
      "transformation Project risks are becoming a new reality, floods, virus, locust swarms next do you think ?… https://t.co/hE5IGXRpNP\n",
      "Climate warming moderates the impacts of introduced sportfish on multiple dimensions of prey biodiversity Global Ch… https://t.co/ExBtkfjTYX\n",
      "The #InternationalMediterraneanDay gives us the opportunity to renew our commitment to environmental protection. Th… https://t.co/QcBcR47pZD\n",
      "So glad @EdwardJDavey and the @LibDems are keeping tackling climate change central to rebuilding the economy after… https://t.co/FnBEKRqOxb\n",
      "Lol @JayInslee BTFO https://t.co/FKPv02VjJ1\n",
      "@Homer4K @Narvuntien @Skrued1 @bobsaget2018 @TQMKA @MedBennett @jimdtweet @Barbarajdurkin @JuPe_EU @KCTaz… https://t.co/PZtwt82vLu\n",
      "Scientists offer roadmap for studying link between climate and armed conflict https://t.co/CNlyi1jYCm Science Clima… https://t.co/I4DxbgpzLH\n",
      "@FastMaster001 @abc13houston @lafabfeline @NotLordByron Revenge gains nothing but more revenge. Honor her by changi… https://t.co/ftt0ne3RWs\n",
      "@LouGarza86 I’m gonna seriously consider what I’ll tweet about come January. Climate change?\n",
      "The law that could make climate change illegal https://t.co/dN1IIk95hj #climatechange\n",
      "For all those who believe ‘green is the new red’!! Diluting env targets has costs. Our children will definitely pay… https://t.co/8FrToGdZLp\n",
      "Acd. Lasco shows the scenarios in the changes of climate change.\n",
      "\n",
      "#PilipiNAST #PilipiNASTASM2020 https://t.co/HfMDkes3CZ\n",
      "Coronavirus and Climate Change: Collective Action Is the Only Way Forward https://t.co/JNtqMILqyd\n",
      "New trending GIF tagged nature, earth, environment, climate change, eco, global warming, world environment day, sav… https://t.co/6SlZvcMA9P\n",
      "Climate labelling for consumer products was pitched by a 14yo student at #onegreengov https://t.co/4qOkTJRV7C, this… https://t.co/Rb6DTTKMgZ\n",
      "The concentration of carbon dioxide (CO2)​​​​​​​ in our atmosphere, as of May 2020, is the highest it has been in h… https://t.co/xXTrfTH14u\n",
      "I’ve just been reviewing a document that states that climate change has put cities at risk of urban flooding &amp; crea… https://t.co/sszfTfX4n4\n",
      "Siberia is experiencing heatwaves and forest fires – this is why it matters https://t.co/5EVjbrW5lx #Siberia… https://t.co/HYMAUDZug6\n",
      "@NjbBari3 Unfortunately, I think you are right. Many people use the psychological defence of downplaying risk or co… https://t.co/LjArwyRioD\n",
      "Final #Ulab2x #VerticalLiteracy  Harvesting Session  with @WUR  We showcased the five prototypes, which included Wa… https://t.co/3xM2fya13E\n"
     ]
    },
    {
     "name": "stdout",
     "output_type": "stream",
     "text": [
      "Check out my video urging the @TheDemocrats to make climate change a priority.  \n",
      "\n",
      "As a Bernie delegate, I‘m pushing… https://t.co/AOihGxn7VG\n",
      "Find out what communication lessons we can draw from COVID-19 to drive a global response to climate change. Registe… https://t.co/1yxnkrntCg\n",
      "@mmpadellan Hey, not to be a downer, but we are still driving climate change towards making an inhospitable world for generations to come...\n",
      "A look into the palm oil industry. How and why we as a species are having such a negative impact on the planet.\n",
      "\n",
      "Ca… https://t.co/p0EsF9j2TH\n",
      "Last year @PROMETEOPL won the @IBMDeveloper @CallforCode , creating a a wearable device to measure carbon monoxide,… https://t.co/DJWNdSpcPf\n",
      "'Renewable' natural gas may sound green, but it's not an antidote for climate change https://t.co/Lbmb2noC1T via @ConversationUS\n",
      "The law that could make climate change illegal https://t.co/RHFQ2qRjqV via @BBC_Future\n",
      "Joe Biden Enlists Clinton/Obama Loyalist, Tom Steyer to Advise on Climate Change https://t.co/XP9W6FuxKB\n",
      "Seeing his controversial decision taking silent means worldwide adverse affects what will not be make up within som… https://t.co/KUReIqHDuR\n",
      "@brendanhughes64 @geemac1962 @irish_news climate change, whats that?\n",
      "@Spo_okyBaby My only point of fairness is maybe because the thread is titled “you might not know about” because I t… https://t.co/yVJ3NWq4Fb\n",
      "@DrDavidGK Not sure about car tax David in an age of climate change discussion, especially with fuel duty not having increased since 2010\n",
      "@OnlyInDevon @teigngardener Because we never expected the baddies in charge to be anti-science. How are the ppl who… https://t.co/FPPFEhGOH4\n",
      "#BigThreeConsulting #McKinsey McKinsey: What could #climatechange mean for #winemaking? A look at the implications… https://t.co/QPYr2yFUse\n",
      "@RtotheIZZ0 Does this mean we are actually going to take climate change seriously?\n",
      "How to tackle climate change, food security and land degradation https://t.co/36RduooUMW #PhysOrg\n",
      "As @KetanJ0 has pointed out, focussing on \"personal responsibility\" is a strategy often used by corporations and go… https://t.co/FhN8PAGk01\n",
      "Here we go ▶️ join the slack group \"useRs tackling climate change\"\n",
      "\n",
      "https://t.co/kaVeYzEoEf\n",
      "Acd Lasco now discusses the impact and significant risks of 1.5 degrees Celsius in the climate change.… https://t.co/xXWO4tMwan\n",
      "Collaborative research can be integral to climate action @dailystarnews https://t.co/C0evJmjy8F\n",
      "A Hotter World Will Be Poorer and More Unequal - Global GDP drops by 20% over the next 80 years as the… https://t.co/CSYjWAMQ4Z\n",
      "All in. Compromisso massivo. Christine Lagarde has opened the door to using its €2.8tn asset purchase scheme to pur… https://t.co/4NgAgsO3Ft\n",
      "Climate change ‘already well present in Europe and set to get worse’, parliamentarians told https://t.co/tR2RSgYB5P\n",
      "Warming reduces trees' ability to slow climate change https://t.co/h6RAJPfDlg\n",
      "Europe wants to use hydrogen to slow climate change - will it work? https://t.co/KjFGrWbxKm\n",
      "Climate change combined with new viruses = virus cyclones. Viroclones! Do. not. want. https://t.co/b2bZHJqISw\n",
      "How to talk to kids about climate change without scaring them https://t.co/iDgqTSBToe\n",
      "Personally I'd go with climate change.\n",
      "@DEFCCOfficial invites you to showcase your creativity by designing a logo for them. Participate now and win a cash… https://t.co/QyBBkZbeMY\n",
      "House passes Customs Bill: climate change deniers embarrass U.S. delegation in Paris: WASHINGTON, D.C – As wor.. https://t.co/JteSeyjbPZ\n",
      "@MoscowTimes Climate change is not real.\n",
      "Taking one after another controversial decision,  freezing Paris climate change fund,Palestibe fund,Nato,Transasia Pacific next\n",
      "Barack obama said the united states needs to be the leader in pushing forth the popes agenda...on climate change...… https://t.co/nTLEKyBImh\n",
      "Financial Express 'How climate change slashes the GDP by 2100' https://t.co/xdysnlceZp\n",
      "@emilyfresno @airfrezno @FresYas @AROC_TIA @AnnalisaPerea @sanlens @BriannaCalix @Williams_Stacy6 @surgecortes… https://t.co/4pu8VsUe1J\n",
      "How the world’s most remote buildings can help us adapt to climate change #inspiration #design #architecture… https://t.co/86DoYcgkxz\n",
      "As governments come and go, laws often can too. Climate ambitions by one government can be at risk if a future gove… https://t.co/SXbAdoFsWW\n",
      "https://t.co/TKEGD1vjWe #PHE #ITM #AFC #NEL #Powerhouseengery Europe and UK both Governments racing for strategy.\n",
      "climate CHANGE VS REALITY (copyright claim video removed) https://t.co/hfhKDyqAch   *\n",
      "@iharis @notyourbimbo @realDonaldTrump said that climate change is a hoax created by China.\n",
      "Check out \"Will Climate Change Upend Projections of Future Forest Growth?\" at: https://t.co/iCEDFK908d\n",
      ".@KubraKoldemir1 @DrArguden @richardbetts3 &amp; Dr Erkin Erimez talk about the need of taking immediate actions for re… https://t.co/7NnBCuprcz\n",
      "PLEASE stop pushing the notion changes in your personal lives are gonna do shit this far into the climate disaster!… https://t.co/Z49FZrFskJ\n",
      "Shifting baselines are a form of generational amnesia. https://t.co/jDFcCBkX3v\n",
      "Climate change needs our attention too\n",
      "\n",
      "Lagarde puts green policy top of agenda in ECB bond-buying  via @FT\n",
      " https://t.co/y6He2wexjn\n",
      "\"Humans often don’t remember what we’ve lost or demand that it be restored. Rather, we adjust to what we’ve got\".… https://t.co/rdN2eKTpev\n",
      "@OsricTheBrash @Rawke_DeGroot @VitorAr4ujo @Guajirx Dont get me wrong, i care about indigenous voices, but when its… https://t.co/HVyrzWiXgN\n",
      "A new exhibition in Berlin suggests that architecture can coexist with extreme landscapes.\n",
      " https://t.co/nGUH662QaU\n",
      "Acd. Azanza has ended her presentation. Next is Acd. Rodel Lasco. He will discuss about the Climate Change and the… https://t.co/cnsK9a4ryg\n",
      "This is a superb piece on \"shifting baselines\" and how we're sleepwalking into an accelerating climate crisis witho… https://t.co/X61cvsHgCb\n",
      "How the world’s most remote buildings can help us adapt to climate change https://t.co/wwGChidvoj\n",
      "Warming reduces trees' ability to slow climate change https://t.co/37sTo8YzF7\n",
      "Climate Change is BS 👍 #Facts and data do not support ‘apocalyptic environmentalism’ \n",
      "https://t.co/6SIWUkH7R2 via @YouTube\n",
      "13th-14th century - yes! What were those monks like 😉. Now to link it to climate change and pandemic. https://t.co/joK2DTK20N\n",
      "Time to Panic https://t.co/B06Kd6erAr \n",
      "\n",
      "Read this and weep! I personally have been warning anyone who would listen… https://t.co/XkV9IAmZWE\n",
      "climate change is like a candlestick running with velostat\n",
      "Scrutiny Co-ordination Committee meet today @ 11.30am on Sustainability &amp; Climate Change.  https://t.co/spSddEKaxe… https://t.co/t4iwoUD01c\n",
      "Greenland's Rapid Melt Will Mean More Flooding – Climate Change: Vital Signs of the Planet ⁦@NASA⁩ ⁦@sannabalt⁩  https://t.co/qwAcCHFYVo\n",
      "Hotter World Will See 21% GDP Fall, India on \"Ruinous Trajectory\": Study https://t.co/MAkkZqrRx8 via @ndtv @RKinBangalore\n",
      "@ClimateHuman If people don't find the change fun and positive, they aren't going to stick at it. So stories and ap… https://t.co/dxz3OfB6nN\n",
      "Excellent thread , shines a decent light on the climate change tax scam https://t.co/teVB3JPkEV\n",
      "New GIF on nature, earth, environment, climate change, eco, global warming, world environment day, save earth, clim… https://t.co/WXc97SKK3s\n",
      "A new exhibition in Berlin suggests that architecture can coexist with extreme landscapes.\n",
      " https://t.co/ZZtxJYC8OU\n",
      "Well I guess climate change got put on the back burner no pun intended! Why are these two couch surfers still part… https://t.co/EOmfkUHbcL\n",
      "\"Joe Biden Enlists Clinton/Obama Loyalist, Tom Steyer to Advise on Climate Change\" Joe Biden has recruited controve… https://t.co/QPb8Jg7zTj\n",
      "How the world’s most remote buildings can help us adapt to climate change https://t.co/WbhrhX7X9H\n",
      "@umairh it's actually helping fight climate change.\n",
      "@Tallpoppy8 Reminds me of this article from @TheOnion posted by @MichelMNielsen https://t.co/Sjgbg4LIRK\n",
      "Acd. Azanza: We should ignite collaboration among regional and global levels on man-made risks including climate ch… https://t.co/cdAM4EhKJL\n",
      "#Climate #change can pose major #financial #risks to organizations. By publicly declaring support for Task Force on… https://t.co/fuX629Wtav\n",
      "Why nobody is writing about climate change any more? As it stopped to exist...  #ClimateChange\n",
      "@realDonaldTrump shut UP. instead of worrying about tiktok, you should be worrying about Covid-19 and Climate Change\n"
     ]
    },
    {
     "name": "stdout",
     "output_type": "stream",
     "text": [
      "@NASAEarth @NASAClimate Climate Change is a serious threat to everyone and yet there has been very minimal efforts… https://t.co/XLo8MoaPUN\n",
      "This is dangerous from Greenpeace. I know climate change but this is dangerous. They should be fined for this. Call… https://t.co/6cz31TKwxf\n",
      "The best way to build resilience against future pandemics and the impact of climate change is to move to a… https://t.co/qChc1nuIQQ\n",
      "TACKLING CLIMATE CHANGE ISSUES IN 2020\n",
      "\n",
      "https://t.co/6xCyjG1XPr\n",
      "\n",
      "#mbe #mbecanada #mansoorbrothersenterprises… https://t.co/DMMteh9jLD\n",
      "@MrKRudd Kevie...Victoria is out of control...won't effect you in the beachfront mansion...only climate change will hey...hypocrite\n",
      "I really appreciate @MikeHudema 's mix of communicating the grounding reality of the climate crisis while sharing e… https://t.co/HoL2gxcO5a\n",
      "Reviewing drug harms without looking at legislation like 'commissioning a report on climate change, but telling inv… https://t.co/54OrCFJRZa\n",
      "Hotter World Will See 21% GDP Fall, India on \"Ruinous Trajectory\": Study\n",
      "\n",
      "https://t.co/oNhlnz5I47\n",
      "Brilliant piece from ⁦@drvox⁩  https://t.co/q6vaMXGrd9\n",
      "Climate change may push Zika virus into southern and eastern Europe https://t.co/Tt868IkYjY\n",
      "I just posted \"Italy′s melting glaciers face new threat: Pink ice | Environment| All topics from climate change to… https://t.co/GKqhcqi6nH\n",
      "One of the most useful and multifunctional packages in R. We used it for all chill analysis and climate change proj… https://t.co/0k1rCj0mcB\n",
      "The law that could make climate change illegal https://t.co/i05MLIBbyZ via @BBC_Future\n",
      "@CorbynistaTeen If you support fighting climate change, you should support car park charges, not just for the NHS but everywhere.\n",
      "Utopia Isn't Just Idealistic Fantasy – It Inspires People To Change The World. #activism #utopia #extinction… https://t.co/lNqITIQ2uO\n",
      "Utopia Isn't Just Idealistic Fantasy – It Inspires People To Change The World. #activism #utopia #extinction… https://t.co/XlvFCdvtFv\n",
      "Covid19, Climate Change, Worldwide Mutually Beneficial Trade Agreements. Sharing of Resources in an Equitable Way.… https://t.co/Pcm9A1oV2x\n",
      "boohoo so what if climate change doesn’t exist? oh noooo you took precautions to make sure that the world you were… https://t.co/FndbDqZkMn\n",
      "What do we learn from this debacle about the likelihood of the same leaders taking the required action to avert the… https://t.co/SAxXbPYoYz\n",
      "In spite of the economic crisis posed by the coronavirus pandemic, the EU, China and Canada sent “a clear political… https://t.co/rUGz2wJBS2\n",
      "The scariest thing about global warming (and Covid-19) https://t.co/eWK1c13IrH via @voxdotcom\n",
      "@FeifanZ I could imagine it from the perspective of desired outcomes that depend on the cohesion (e.g. not being al… https://t.co/Q7TSUJr821\n",
      "@naturensw @Karmageddon67 Logging our forests after the bushfires and in the face of Climate Change is the equivale… https://t.co/6U8XzMFy3t\n",
      "@AssaadRazzouk @FinancialTimes lol...not saying that we don't need to think about environment &amp; climate change, qui… https://t.co/S97FyHdmCS\n",
      "farmers/ranchers, like tariffs and treaties affecting exports; the Covid economic disruptions to restaurant market… https://t.co/1IAxasdzmG\n",
      "Fox News: Wrong on climate change, wrong on coronavirus... #StopFundingHeat https://t.co/C8S714q2H7\n",
      "\"Humans often don’t remember what we’ve lost or demand it be restored. Rather, we adjust to what we’ve got.\" What i… https://t.co/iTzb7aZbmD\n",
      "@CobbBenefield @96fps @HolmesFrank @oddssodds @DavidAgStone @JoeBiden ...if trump wins again, it'll be the downfall… https://t.co/76rErJy0Cd\n",
      "History\n",
      "- Confrontation of cultures (complete chapter)\n",
      "- Colonialism\n",
      "- Understanding partition\n",
      "- No change in Histo… https://t.co/G4tiUS2sPU\n",
      "Guys india is facing its biggest water crisis and it’s time to come up with effective tech solutions for water sust… https://t.co/Jv7k4v8AFd\n",
      "My new report on #Pakistan's #mango season amid the #coronavirus pandemic and climate change: \n",
      "\n",
      "https://t.co/WoHu4kCh10\n",
      "FastCompany: A new exhibition in Berlin suggests that architecture can coexist with extreme landscapes. https://t.co/boUWUdLAWM\n",
      "How the coronavirus pandemic is affecting plans to tackle the climate emergency in the UK https://t.co/YJ7j0nzZHO\n",
      "“Millions more US homes are at risk of flooding than previously known, new analysis shows\n",
      "” https://t.co/U7AZTSxuUG\n",
      "@Dardedar @My_Place21 @cpm_rulz @JWSpry @OsloBoston @camp_terrence @FriendsOScience @MesiaArte @RickCrainium… https://t.co/IR5S2mMu09\n",
      "Pink Ice in the Alps Could Signal Acceleration of Climate Change https://t.co/UUHvSBujbi https://t.co/WxMv34Yqme\n",
      "@francessmith @oflynnsocial Here’s another cracker-https://t.co/FETSVyZZUW. Headline says pink snow linked to clima… https://t.co/y60vxiL2Al\n",
      "please understand there’s more to climate change apart from turtles, koalas, and houses burning down. its a serious… https://t.co/Jprs2FWQNr\n",
      "The scariest thing about global warming (and Covid-19) https://t.co/xcNHBqGhyR\n",
      "Interested in Climate Activism? Wanna help change the system &amp; not the climate? Then join in today to hear fellow M… https://t.co/jt7NKGrzes\n",
      "When I asked why Arabs keep getting lighter lighter I was told climate change\n",
      "Climate change may push Zika virus into southern and eastern Europe: https://t.co/ubqa6QUzli\n",
      "The extraction process of these rare earth elements by the Chinese is little more than strip mining. They don't eve… https://t.co/mLVyPF2JTG\n",
      "I just had to comment this power-to-x stuff. I agree it is MUCH better than adding bio components to fossil fuels w… https://t.co/Mfur1drHru\n",
      "@themadstone @NatGeo This will be a very bad factor that will accelerate our current climate change...adding methan… https://t.co/XapgfOfsfY\n",
      "This is a fascinating although slightly depressing read - How Climate Change Is Contributing to Skyrocketing Rates… https://t.co/32VnoYaAf2\n",
      "The power of words. \n",
      "\n",
      "In this week’s episode we speak with The Guardian’s @dpcarrington and explore how changing th… https://t.co/hvOjB2JwzX\n",
      "Folks do not miss to check the impact of #climatechange through our depleting water sources. Build water security w… https://t.co/GRiQq7wBb3\n",
      "Intense Arctic Wildfires Set a Pollution Record - The New York Times https://t.co/AqHxDaco8b\n",
      "@UK_Progressiv3 @UTDWILSLEY @Allison92278301 @RodneyS15323916 @piersmorgan This is the point that so many seem to m… https://t.co/APZlSRDn9N\n",
      "@tveitdal That is really frightening.  \n",
      "And yet here in the U.S. there are still so many denying climate change.  Grrrrrrrrr.\n",
      "Hotter World Will See 21% GDP Fall, India on \"Ruinous Trajectory\": Study https://t.co/ZbQGCvwSi6\n",
      "Article by Michael Shellenberger mixes accurate and inaccurate claims in support of a misleading and overly simplis… https://t.co/d8B4YTkZDv\n",
      "https://t.co/CaUZsrswPm via @YouTube \n",
      "Climate Change is Wrecking our Food Production and Economy on an Ever Larger… https://t.co/kuC0LVmbKR\n",
      "When you watch this and think \"how reasonable he sounds\", remember that he was the devil incarnate \"back in the day… https://t.co/uWj0vowp0u\n",
      "Keeping a Steady Eye on Sea Level Change from Space Over the course of nearly three decades, an uninterrupted serie… https://t.co/kxhml5Sj68\n",
      "Not the best bedtime reading; Covid-19 and climate change: Why we need to remember what we’ve lost - Vox https://t.co/hBT3JWOWqX\n",
      "“Here are some facts few people know:\n",
      "\n",
      "Humans are not causing a ‘sixth mass extinction’\n",
      "\n",
      "The Amazon is not ‘the lun… https://t.co/SqoN7yRkb2\n",
      "'We are losing the web of life': why the global nature crisis is as dangerous as climate change - Unearthed https://t.co/QOgnjJpzlm\n",
      "Intense Arctic Wildfires Set a Pollution Record https://t.co/bmNvyqCAGo\n",
      "How to talk to kids about climate change without scaring them https://t.co/0j2H8chrLr\n",
      "#Tanzania is rapidly urbanizing, and it is important for this expansion to be compatible with environmental targets… https://t.co/RIkG4K1Xzs\n",
      "Climate change hasn’t gone away folks. https://t.co/J49phZIpKr\n",
      "Good morning, it's Day 37 of our #BeginAfresh campaign. We're writing and sharing poems about what needs to change… https://t.co/SZZvIaummT\n",
      "\"Think COVID-19 Disrupted the Food Chain? Wait for Climate Change\" https://t.co/aGRYtUMYIs\n",
      "terrible but no one said climate change is going to be fun https://t.co/PlQdTCq6bO\n",
      "Warming reduces trees' ability to slow climate change https://t.co/xU0hyWsM0R\n",
      "@McJoJo26504208 @looksbyliam ME TOO! And I totally agree with you there!  I'm a gardener in Queensland and it hasnt… https://t.co/nsQ996Knsx\n",
      "why is the blame for climate change always put on the proletariat when the mega corporations are the actual culprits https://t.co/4W5h8Xby6P\n",
      "\"Without Historical Precedent\": Climate Change Turns Lakes Green In US https://t.co/7FzZH40HG3 https://t.co/l761ZNtuUL\n",
      "Boris Johnson needs to live up to his climate change rhetoric - Financial Times https://t.co/0xoGLqZ3ho\n",
      "Climate change is still happening. Covid is no silver bullet, just a wake-up call. We have learnt a painful lesson,… https://t.co/s7sbARsN7t\n",
      "The scariest thing about global warming (and Covid-19) https://t.co/eRBubi1YUk\n",
      "Climate-change denial and the coronavirus “hoax” are the same conspiracy theory https://t.co/fMQNGbcjf0\n",
      "Here will check the impact of #climatechange through our depleting water sources. Build water security with open so… https://t.co/st6YjKOPSw\n"
     ]
    },
    {
     "name": "stdout",
     "output_type": "stream",
     "text": [
      "Bridging the gap between climate data and needs of financial institutions via ⁦@CICERO_klima⁩ ⁦@SasjaBeslik⁩ ⁦… https://t.co/ZhbrlyPpiI\n",
      "The potential impact of whales 🐳 on curbing climate change is frankly astonishing. https://t.co/KhmS63KFkt\n",
      "George McInerney likes this: 👍How to tackle climate change, food security and land degradation https://t.co/ZvIwOBevYg\n",
      "George McInerney likes this: 👍Climate change may cause extreme waves in Arctic https://t.co/1BI6Zzo7IS\n",
      "@ezraklein A must read article. The worst dry spring ever in Europe, failed sowing season, and after 2 weeks of rai… https://t.co/MOH12H4Vc1\n",
      "@jrolivier1 No! Think about it, if all presidents were scientists COVID-19 would have been contained on time, Clima… https://t.co/EH0x6sztxp\n",
      "\"Without Historical Precedent\": Climate Change Turns Lakes Green In US  https://t.co/xDsatBZ04q\n",
      "Health warning: The article being promoted by this BBC journalist has been found to present \"a mix of out-of-contex… https://t.co/R3Z1TqE4pJ\n",
      "Genius at @NDTV do it yet again, find something negative about India. Is their extra pay for such content. Hotter W… https://t.co/ZOSqUvjnJL\n",
      "From MLK to #climate scientists, Americans have a tragically strong track record of punishing those who speak out. https://t.co/uoEVTrVTty\n",
      "BritCham #Environmental Series: The Road to COP 26 - The #UK will host COP26 – the UN’s #ClimateChange Conference i… https://t.co/7W4jpxzQWi\n",
      "Imagine the Irish government being held to account for their actions every year with their salaries open to being r… https://t.co/pH6ENR4gCG\n",
      "Our researchers explain the links between climate change and public health at #LCAW2020 \n",
      "⏺️\n",
      "Catch-up and watch the… https://t.co/kBHZ7KxVkv\n",
      "UK Dive Tour Operator @diverse_travel is now a ‘#ClimateAware’ company, partnering with leading #climate and sustai… https://t.co/9CaGjQsHkh\n",
      "@CDCDirector Only in America are we playing this political theater. What a joke you and your agency are. We know yo… https://t.co/6YVVSdtkVX\n",
      "Oh population lowering. Now your getting into climate change. North/South Polar Icecaps are melting. The East/West… https://t.co/Lc54kji5z6\n",
      "Piers Corbyn Man Made  Climate Change Doesn’t Exist Extinction Rebellion Pensions IPCC 28419 https://t.co/LMVUgQZVaB  *\n",
      "@ABCthedrum, I'm sick of Australia's confused climate dialogue. 'Alarmism' is not unrealistic. Economic considerati… https://t.co/2h8iKS4QsD\n",
      "@MysterySolvent Let’s put it this way… He once said that climate change is ridiculous because only God controls the… https://t.co/YN4aYTaJIP\n",
      "@geo_hazel Actually, both terms have been always been used - “climate change” refers more broadly/ includes the eff… https://t.co/AKorD7H8ES\n",
      "@Ike_Irby @_TheSydneyA Then why are the Dems rigging elections against Bernie Sanders when he has the best climate change plan bar none?\n",
      "Now in the very same place that became the poster child for climate change back on June 19 and 20, we now have abno… https://t.co/IepyBEW2vk\n",
      "Climate Change is happening now!\n",
      "https://t.co/szRj4BsqVx\n",
      "Start with one and build more over bridges. Make them Isles of Wonder connecting the UK, bringing trade in and crea… https://t.co/lIluxv5eal\n",
      "@NoakhaillaPola while climate change is happening, i don't think man made influences are even a big factor. The fac… https://t.co/QbVqSRaAuZ\n",
      "IK doesn't deserve any praise but the latest move to move towards Euro 5 fuel will help control emissions to a grea… https://t.co/uRFNo9RaK8\n",
      "Yes:  “Covid-19 can feel like a speeded up analogy for climate change. ‘Messaging’ people during a crisis can add t… https://t.co/sS5wEzis71\n",
      "@MargoCHanson An absolute fact that climate impacts won't shift people in to becoming politically, ethically or per… https://t.co/Psbf8Qz8Bh\n",
      "@AOC Biden Taps AOC to Chair Campaign’s Climate Change Task Force.\n",
      "We bet you wouldn't want to miss the last session for today! Tune in to Zoom and watch the Plenary Session 3 - Envi… https://t.co/vfZL32OLKM\n",
      "\"little by little, a hotter, more chaotic, and more dangerous world is becoming normal to us, as we sleepwalk towar… https://t.co/L33toGRarK\n",
      "@afneil @spectator Hi @Afneil - did you know that the article you're promoting was found to present \"a mix of out-o… https://t.co/OLXqA4gRB6\n",
      "@KHayhoe @rahmstorf @ProfStrachan We already have a Climate Act in Britain. It's just that we have the worst imagin… https://t.co/eiIaHXR7KY\n",
      "@BBCBreakfast @BBCNews is climate change causing recession now?\n",
      "Big Data Mining for Climate Change by Zhihua Zhang, appropriate for scientists and advanced students studying clima… https://t.co/KCZ81EZ371\n",
      "I get what you’re trying to say but shifting the blame onto the single person and disregarding the fact that multim… https://t.co/5GyQW529cz\n",
      "@basedislamist Overpopulation isn't even responsible for climate change. It's the oil and coal industries. We shoul… https://t.co/eCJFdZqx9X\n",
      "@bmacd777 @GretaThunberg Ahahahah. Very scientific conclusion you have drawn there. \n",
      "\n",
      "The only reason not to believ… https://t.co/EBf4fxYV4D\n",
      "The larger point is how bad the left is in cooperating &amp; achieving its objectives. For 40 years neoliberalism has b… https://t.co/dC32jeJpJ5\n",
      "@ShellenbergerMD @fluxcapdoodah @Facebook You have a right to publish climate change denialism. No one should stop… https://t.co/CVdgo16KvO\n",
      "US Mountain Lakes Turn Green With Algal Bloom Due to Climate Change, Scientists Say Algae Concentration Doubled in… https://t.co/M9DakIn6Kg\n",
      "So twenty years ago I was walking around saying I was not that worried about climate change, because humans over po… https://t.co/0dA2X4WxuV\n",
      "yes, the party that wants to spend $1.5B to four-lane a road has a deep-set and genuine concern about climate change https://t.co/mzcOE7q09J\n",
      "and 2) compared to what Trump offers to America (and we already know: VERY LITTLE), it is objectively MORE. The pla… https://t.co/QszVawCx3E\n",
      "@DehennaDavison @BenHouchen So do you deny climate change @DehennaDavison, or just want to delay doing anything about it?\n",
      "As time moves on we see the world through a different lens and start to forget how it used to be. It becomes our ne… https://t.co/Fi6UWzyips\n",
      "@TomPughLab And is the bark beetle expansion related to climate change? Or is the cause of the outbreaks independant to climate?\n",
      "Intense Arctic Wildfires Set a Pollution Record https://t.co/b0P5hAODJh\n",
      "The meeting shared information about recent developments in wetland, climate change and water governance in the Mek… https://t.co/ZXoBFJCxoS\n",
      "Climate change is correcting itself right now, just wait.\n",
      "@leesindustry @Hay_prodigy @SonyaJohns @strange_1179 @cnni I'm not neutral, I am anti the marxist hijack of this BL… https://t.co/ly7Co4NvXv\n",
      "@GreenLibDems @BBCr4today Sir Ed Davey (former Sec St Energy and Climate Change) clearly links COVID emergency to C… https://t.co/2qf5IrqkZ0\n",
      "How to tackle climate change, food security and land degradation https://t.co/vaxY52Hiua https://t.co/eSUOpGjrtC\n",
      "The scariest thing about global warming (and Covid-19) https://t.co/rpeNSbwxVs via @voxdotcom @PLarshans… https://t.co/iNTxr5qdBX\n",
      "New climate change report highlights grave dangers for Vietnam https://t.co/Qp7K3CxfBV via @Mongabay\n",
      "@iam_687 @CapYangtastic @elizableu Funny you mention individualist. I think that's the main thing wrong w humanity.… https://t.co/1CwvYwvMVH\n",
      "Should be a 'no-brainer' anyway! Russia, Germany mull #hydrogen partnership to fight climate change. Now make the c… https://t.co/k9xImcFqjc\n",
      "@Cullinyan @KetanJ0 I respect retired scientists who have great knowledge, but we have extensive data that show str… https://t.co/xfpTcZkMTQ\n",
      "The law that could make climate change illegal https://t.co/B4n6FKCaRO via @BBC_Future\n",
      "Experts warn that Siberia’s unprecedented heat wave will continue through July, increasing the risk of forest fires… https://t.co/DftBd267Op\n",
      "10 people turnout to hear the Nats wanna plunder the planet for oil - speeding up climate change on the way to a “l… https://t.co/ZHGiD41ZEf\n",
      "“The planet cannot wait for us to take action on climate change. Recovery from the coronavirus pandemic will go han… https://t.co/reRAlsJI33\n",
      "Many countries are now taking comprehensive and stringent precautionary measures to contain the spread of COVID-19.… https://t.co/BGcpk3GcGc\n",
      "Yes. That's why. Small fry. How's that climate change levy proceeding on the electricity account. If you know what… https://t.co/B8a2YNSJl5\n",
      "@motbilder @davidjr9711 @genoma111 @MackayIM @jdmereweather @macroliter @corona_alberta I believe this will be a ne… https://t.co/pG56iFWJfG\n",
      "Coronavirus: Climate change 'bigger threat' than Covid-19 https://t.co/GNQVh0d3nb\n",
      "Stop making sense: why it's time to get emotional about climate change | Rebecca Huntley https://t.co/8p8INaHFpY\n",
      "@EducateTogether Great course. The classroom is a microcosm of society where issues like discrimination and inequal… https://t.co/nNSzDlhTt1\n",
      "@mattletiss7 He’s using overclaim to defend a dangerous narrative of climate change denial. Surely you realise that… https://t.co/ZP25egF1cm\n",
      "Even if we start to fix climate change, the proof may not show up for 30 years - via ⁦@washingtonpost⁩ ⁦… https://t.co/B9MkOhg2yc\n",
      "BBC News - Coronavirus: Air pollution &amp; Climate change 'bigger threat' than Covid-19 https://t.co/oS2qfc7iGu… https://t.co/BuQ7AInyTl\n",
      "@DanielBellian @PeeboyUltima @DemonLordTeemo isn't it ironic how these people will call communism a failure and yet… https://t.co/YINIIkHpJo\n",
      "@AggregatorAnon @lweisenthal @MaxBoot and is raking it in through Climate Change also.\n",
      "Climate change to fuel extreme waves in #Arctic,  increases the risk of flooding and erosion https://t.co/NO3hlRN6fc via @UPI\n",
      "Pandemics, nuclear war, climate change, pollution, extreme dogmatic thinking, and all I can think about is why my g… https://t.co/914QYAn4Q4\n"
     ]
    },
    {
     "name": "stdout",
     "output_type": "stream",
     "text": [
      "The UK's Spectator magazine is notorious for its poor quality &amp; misleading coverage on climate change. Now they've… https://t.co/XHOECWtbP9\n",
      "So @BBCr4today allowed both speakers to advocate NI being axed to “create jobs” with no counter argument.\n",
      "Remember… https://t.co/KyIny1JwUi\n",
      "@PrisonPlanet Says the person who isn’t going to destroy the climate change protests from the inside by\n",
      "Clinton/Obama Official, Tom Steyer to Advise Biden on Climate Change https://t.co/2LS62fKKtw via @BreitbartNews Use… https://t.co/QHQDEq5Re3\n",
      "The scariest thing about global warming (and Covid-19) https://t.co/4HVTaNUKKT via @voxdotcom\n",
      "@xxwrayxx no that's my brain that's been rubbed smoothed by the history of agriculture and threat of mass famine du… https://t.co/49tXMyJPts\n",
      "How the coronavirus pandemic is affecting plans to tackle the climate emergency in the UK https://t.co/MjZS1yeRZX\n",
      "How the world’s most remote buildings can help us adapt to climate change https://t.co/5Sb6mYDqaa\n",
      "In any case have you not heard the world is now COOLING  and CO2 emissions have little effect on warming or cooling… https://t.co/weDTPjHTNy\n",
      "@bobsaget2018 @TQMKA @MedBennett @jimdtweet @Barbarajdurkin @JuPe_EU @KCTaz @Robertsfinkle @no2wind @HtServadac… https://t.co/tbpGAc7tUl\n",
      "Our baseline shifts on every front: #climate #biodiversity #forest #habitats #politics\n",
      "Interesting article about ge… https://t.co/thGYDzAHJt\n",
      "@maxim_k @diana_nbd @RichardW_ntnu @CambUP_GSus I think it might in part be related to Private Jet Flights? \n",
      "https://t.co/bCY4d9Rzte\n",
      ".@DEFCCOfficial invites you to showcase your creativity by designing a logo for them. Participate now and win a cas… https://t.co/mzTR57u66G\n",
      "@BhupendrJha20 @sandeep_PT That's the ugly face of modern capitalism ( source and reason of climate change and global warming also)\n",
      "Nuclear (fission) power remains a fundamental component of any serious plan to “green” the economy and stop climate… https://t.co/7LO5CIzJRo\n",
      "I was trying to like #IMayDestroyYou after  #ChewingGum but not really getting it. Then there's the annoying bit ab… https://t.co/VteCGAGkDx\n",
      "@jcasperd @shetlandnature @SteelySeabirder @RSPBScotland @nature_scot @mcsuk @dunnjons @ImagesEcology @NatureInShet… https://t.co/cAcp895wcF\n",
      "@ellymelly Just blame it the extinction on climate change and call it a day\n",
      "@rgatess When big countries like USA #Australia and others act non seriously  about climate change and back off fro… https://t.co/wxZ80N68nq\n",
      "@RehanaThowfeek @GloriaXFiles We may not debate about climate change, but we still debate about protecting nature.… https://t.co/G011I9b3PU\n",
      "@GeraldKutney Science failed in the past 😥to use the right tools to wake people up. The Article in NYIntelligencer… https://t.co/0Xf5wXGPZ2\n",
      "@BarristersHorse I do hope that the Tory Party includes some people of influence who understand all of this as, arm… https://t.co/0B9v7NlzFo\n",
      "Tuesdays...... https://t.co/zE2NYTIpen @PLarshans @miljotweets @MayorsCaucus @BIUK @CircularTO @circulareconomy… https://t.co/ueC5dXSy4K\n",
      "In spite of the economic crisis posed by the coronavirus pandemic, the EU, China and Canada sent “a clear political… https://t.co/cCQjhUnkBw\n",
      "Not enough people are talking about how horrifying this is. Climate change is fucking real and it will submerge us… https://t.co/G1e3IDDFkt\n",
      "\"Without Historical Precedent\": Climate Change Turns Lakes Green In US - NDTV https://t.co/mb5b2DjMxW\n",
      "All climate change campaigners need to read this now. https://t.co/J2p7VRNvmQ\n",
      "Are you free this evening? Or tomorrow night?\n",
      "\n",
      "Then grab a ticket for these events with \n",
      "@RebeccaHuntley2, author o… https://t.co/nAx6ZVhKob\n",
      "@PetahJane Sorry u had such a tough time. Im in melbourne. Other than praying and donating some money there was not… https://t.co/LU3YMsfOll\n",
      "@julezasaurus @boise3981 @KomradeRed @nolansordyl @briebriejoy @greg06897 $15 minimum \n",
      "Two years free college \n",
      "Expa… https://t.co/eesc1JHUq9\n",
      "@ShellenbergerMD @afneil @ret_ward Surely you’re not a climate change denier?\n",
      "@ReganDrew @WineTasmania We harvested 1.2 % of our previous vintage totals,  down 98.8 %, yes 98.8 %. This year we… https://t.co/yQq9ZiRbnd\n",
      "Dorinda Walker, Monique Braham-Evans &amp; Lincoln Stephens will discuss the programs and leading voices of change in t… https://t.co/PsRAGalYwT\n",
      "Overcoming diverse approaches to vocational education and training to combat climate change: the case of low energy… https://t.co/6pPcxbFXN1\n",
      "This is Big: Lagarde rightly puts green policy top of agenda in European Central Bank €2.8tn asset purchases, will… https://t.co/fzHYuQZpk3\n",
      "@RGS_IBGschools I’m intrigued as to what criteria you use to choose what you retweet and promote? These climate cha… https://t.co/hsoqH5gexu\n",
      "Climate change: Global temperatures might not respond to mitigation efforts for decades | Nature Communications | N… https://t.co/3ywc9NJ3xM\n",
      "@Castafi0re @HS2theTruth By environmental you mean biodiversity and deliberately ignore climate change which is a m… https://t.co/9gn14ZjHHk\n",
      "\"President wants central bank to ‘explore every avenue’ in fight against climate change\"\n",
      "\n",
      "Are they nuts? Printing m… https://t.co/jgh067Zv0D\n",
      "The #law that could make #climate change illegal https://t.co/vSDKiLExSn via @BBC_Future\n",
      "Persisting with a carbon-heavy path, whether it is proposed new #coal plants or coal auctioning, the comprehensive… https://t.co/ikY8vO50G7\n",
      "Terraces with hillside irrigation: a perfect practice that can sustainably contain effects of Climate change to far… https://t.co/0Xc3A3q5hs\n",
      "@JusttheZooofUs - pandas should be less focused on in terms of conservation efforts\n",
      "- more people need to know that… https://t.co/lg3Exla7MB\n",
      "Impact Human activities are really huge on Nature and Outcomes of that can be converted into Pandemics. Locust atta… https://t.co/EosbQqweCl\n",
      "Check out our updated Climate Change Financing at ADB database. Figures (based on approvals) are as of March 2020.… https://t.co/FaDH1RHd95\n",
      "Source CNN\n",
      "How rich people could help save the planet from the climate crisis https://t.co/0eMnUqzRVf\n",
      "Great thought provoking article by @BenGoldsmith on how nation be put to work regenerating natural world &amp; tackling… https://t.co/dk9MfcD4bE\n",
      "COVID-19 disrupted global supply chains, induced panic buying, cleared supermarket shelves, left produce rotting in… https://t.co/BKozhhBLr1\n",
      "India’s average temperature has  increased by around 0.7° Celsius during the 1901–2018 period due to greenhouse gas… https://t.co/tV5UwEYYHV\n",
      "Bezos &amp; Gates pulling the strings\n",
      "\n",
      "Bezos = big climate change guy\n",
      "Gates = big WHO guy\n",
      "\n",
      "And Elon... he’s benefiting… https://t.co/6sh4ShSGs7\n",
      "@jamesjohnson252 Climate change has cleared.  we can see 🤗🤗🤗\n",
      "Top story: Deep Learning’s Climate Change Problem https://t.co/b5yRtJVy34, see more https://t.co/16gz3lCgEh\n",
      "Are you struggling with the impact of climate change? Consider practicing mindfulness #loveyourself\n",
      "With 24 hour sunlight at the peak of the summer solstice, there’s no “night” to cool off. Now in the very same plac… https://t.co/qaQZwEYM7Q\n",
      "@Raffy_Roma \"Brain dead arse\" bit of a problem with anatomy there, how can that be. \n",
      "Wish people would try and lear… https://t.co/bmiCTOUc4R\n",
      "Not only were the banks untrustworthy with our money and the criminal activity perpetrated on customers but now we… https://t.co/JkC5s6qQQt\n",
      "I am am avid angler, and have been studying the decline of salmon stock on the West coast for the past 10 years.\n",
      "\n",
      "C… https://t.co/KuFPIN8O8d\n",
      "@ClimateHuman @mrchrisadams This tweet is sort of gobsmackingly not inclusive of people whose mental health is putt… https://t.co/KfZOmZzB8w\n",
      "woke up this morning after a dream about very angry, very big whales throwing themselves against a shoreline with t… https://t.co/pdx21JP9jw\n",
      "@HbAlpaca @cpm_rulz @JWSpry @OsloBoston @camp_terrence @FriendsOScience @MesiaArte @RickCrainium @MynameisAmy7… https://t.co/7YLngCuZLd\n",
      "Black &amp; Veatch: Climate change, global pandemic highlight water industry’s need for greater resilience through plan… https://t.co/DZr0sEjCyG\n",
      "The scariest thing about global warming (and Covid-19) https://t.co/Z8gXMd7BpD via @voxdotcom\n",
      "Natural disasters destroy people’s lives. Build solutions that can help in disaster management. Join now… https://t.co/Or5GE4uEt8\n",
      "https://t.co/ITPfFU79Qq\n",
      "\n",
      "In \"X-Men\" mutants were also referred to as \"Homo Superior\". They were supposed to be the… https://t.co/Rh0k9U4quw\n",
      "A bountiful offering of climate change resources from @fiona_616, beautifully done for Eduqas B 👏 https://t.co/CPUjmlcH1q\n",
      "“The climate emergency is still exactly that – a crisis.”\n",
      "@PwC_UK’s Sustainability &amp; Climate Change Leader, Emma Co… https://t.co/Uw4LCw8UY5\n",
      "@milkmaidmarian @DoctorKarl Im guessing the answer isn't climate change or covid related as I dont see any answers… https://t.co/PT1vppugPk\n",
      "Tomorrow @4PM JKT (10AM BST), BritCham will be launching a Climate Change Focus Group for Members that will be supp… https://t.co/i2bZVfqZQb\n",
      ".@UTSEngage Marine scientist Emma Camp is a woman with two missions – helping save our reefs from climate change an… https://t.co/MmGGwoUkNv\n",
      "“The climate emergency is still exactly that – a crisis.”\n",
      "@PwC_UK’s Sustainability &amp; Climate Change Leader, Emma Co… https://t.co/B1z9KPz9A8\n",
      "After surveying the #NorthEast for its thoughts on #ClimateChange, our CEO Simon Green delves into the results and… https://t.co/XiVrufyolc\n",
      "Thousands of workers who have lost their jobs during the COVID-19 pandemic will now be employed in Pakistan's refor… https://t.co/fvwXMSe15W\n",
      "June's #Arctic wildfires released more CO2 than in any other month in 18 years of data collection - report  https://t.co/m7kHLl91Gt #climate\n",
      "Siberia Swelters in the Age of Climate Change https://t.co/hLSqecDC8r\n",
      "How the coronavirus pandemic is affecting plans to tackle the climate emergency in the UK https://t.co/X4ZmwDkqaX\n"
     ]
    },
    {
     "name": "stdout",
     "output_type": "stream",
     "text": [
      "@Kidorry_ @fidel_Ke #NjiruGrabbers\n",
      "The increase in land demand is driving land-grabs and catastrophic deforestation… https://t.co/ZWB3NsIJdc\n",
      "In June, #Arctic fires released 59 million metric tons of planet-warming carbon dioxide, greater than all the carbo… https://t.co/MiZ0IiDLx7\n",
      "@RehanaThowfeek wait are you saying that climate change is actually more important than the next general election a… https://t.co/j1KvajPSis\n",
      "@MarkTLive \n",
      "Climate Change Question:\n",
      "Is it possible that Covid has been here all along, but that the recent increas… https://t.co/uyLCOiTuAt\n",
      "basically what she’s saying is my farts are contributing to climate change ❤️ https://t.co/ecN3ChtDBR\n",
      "Up until now I have been neutral on climate change. Seeing the lies and scaremongering on the left over the last 3… https://t.co/TlaOJelyIR\n",
      "the majority of modern society is run by authoritarian strongmen, the world going to end in the next 20 years due t… https://t.co/omDfI4bsym\n",
      "Make science great again -\n",
      "\n",
      "As the climate crisis becomes more serious and more obvious, Americans remain resistant… https://t.co/N9AZx8OfPi\n",
      "@taru_uniyal @AntiFasclst India is one of the five countries whose energy policies can be reconciled with the 2 deg… https://t.co/aru36UIGh2\n",
      "@JamesRider3 @Jamz129 @insane_voice @MikeDel21893959 @TruePat89736316 @Dribelo1 @fishyfish67 @jwickers @dan613… https://t.co/SSt3dqJ7mH\n",
      "@bobsaget2018 @TQMKA @MedBennett @jimdtweet @Barbarajdurkin @JuPe_EU @KCTaz @Robertsfinkle @no2wind @HtServadac… https://t.co/N7NEub4E8o\n",
      "It’s like the “global warming “ thing.  Everyone knew the planet wasn’t warming, so they changed that to “climate c… https://t.co/4KlW2Z0QkM\n",
      "The Hydrogen Economy: the EU is now taking a more targeted approach, pitching hydrogen as a crucial way to clean up… https://t.co/0F84VMPV8J\n",
      "Global Warming and climate change is due to racism.\n",
      "@MarkDoyle00 @QuentinDempster @rupertmurdoch @australian Morrison momentarily believed the Climate Change Nutters t… https://t.co/mTbqjrAgtG\n",
      "बिना सिर पैर की खबरें छपवा लो\n",
      "\n",
      "Hotter World Will See 21% GDP Fall, India on \"Ruinous Trajectory\": Study - NDTV https://t.co/UFvDMPfk1C\n",
      "@ColliniMelissa @AcademicChatter Sceanario ...as in climate change scenario.  The c and n sound too close together.\n",
      "Even if we start to fix climate change, the proof may not show up for 30 years\n",
      "\n",
      "New findings put a brief emissions… https://t.co/HbnzyWW0j1\n",
      "Contamination is the first problem we have\n",
      "Climate change\n",
      "...climate change, they’re still climate deniers. And so on. \n",
      "\n",
      "NOW: some people mean well and are truly ignorant. M… https://t.co/H9cid1uFXo\n",
      "hey gen Z it's up to us to \"remember what we've lost and demand that it be restored\"\n",
      "@drvox \n",
      "https://t.co/l5JjyUuYl2\n",
      "To combat #ClimateChange, Transportation is changing. Key trends combating climate change in transportation include… https://t.co/NZOKjwzOPO\n",
      "@Zooptoon If we could just figure out how to make cars run on flags instead of gas, we'd never hear them talk about climate change again\n",
      "Shifting \"normals\" will desensitize us to the unfolding climate catastrophe. Looking at failure of govts to act on… https://t.co/4k5ll8vKbT\n",
      "@guardian How bout that climate change, y’all\n",
      "Climate change is 100% not important.\n",
      "@taru_uniyal @AntiFasclst The modi quote about climate change is being misunderstood by so many. What he meant was… https://t.co/ZNrBLRI5pS\n",
      "DUDE WE FORGOT ABOUT CLIMATE CHANGE!!!!!!! FUCK!!!!!!!!!\n",
      "YES, climate change is real but purple ravens doing algebra in Justin Bieber's microwave are not. Are they?\n",
      "The privatization of bourgeoisie in climate change\n",
      "Dear Green Party.\n",
      "This is why your carbon tax and cycle Lanes are just a sticking plaster on a multiple amputation… https://t.co/3ap5RYNOUU\n",
      "The ECB \"has to look at all the business lines and the operations in which we are engaged in order to tackle climat… https://t.co/PooYKv36Mh\n",
      "@notaYIMBY @lakedistrict4 @Tangoman68plus1 @UKCovid19Stats @ProfKarolSikora You really are slow climate change\n",
      "The Arctic is warming at least two and a half times faster than the global average rate. https://t.co/LS04JfHgUE\n",
      "https://t.co/cDCIJhS37M  The Danes will be the 1st ones over the economic cliff. https://t.co/qeL5PmoPqc\n",
      "Fantastic work @AgResearchNEWS\n",
      "\n",
      "Using science to combat climate change is a big win. \n",
      "\n",
      "Low-methane 'elite' sheep br… https://t.co/01HkAiUR4Z\n",
      "@bobsaget2018 @TQMKA @MedBennett @jimdtweet @Barbarajdurkin @JuPe_EU @KCTaz @Robertsfinkle @no2wind @HtServadac… https://t.co/TaotzMIbvd\n",
      "Benefits of Agricultural Biodiversity:\n",
      "*Offers us Diverse and Nutritious Food. \n",
      "*Help plants and animals adapt to c… https://t.co/JlbVrus4l9\n",
      "Shifts in crane migration phenology associated with climate change in southwestern Europe https://t.co/g5XROHuRwB | @AvianAce | #ornithology\n",
      "@MhehedZherting @Greenpeace So the increasing threat of fires can only be ascribed to climate change if they someho… https://t.co/f9OKZXdUNi\n",
      "#WednesdayMorning Reading: #ClimateChange:  \"[I]s there a shortcut? Is there anything we can do to give people the… https://t.co/OKcBch0LKG\n",
      "On-Demand Webinar: Climate Change And The Built Environment – Risks, Opportunities And Solutions https://t.co/n1r32XYaIv By @clydeconews\n",
      "A cool thread summarising fossil fuel extraction studies and climate change https://t.co/v7XX6R8Lpq\n",
      "On-Demand Webinar: Climate Change And The Built Environment – Risks, Opportunities And Solutions https://t.co/k41yU0l6Za\n",
      "Investment in health and biomedical sciences, climate change and artificial intelligence planned by Singapore as th… https://t.co/qgCTfYw6xl\n",
      "“I want to explore every avenue available in order to combat climate change” \n",
      "Lagarde puts green policy top of agen… https://t.co/5ABE5TRziX\n",
      "don’t feel like digging around for silver linings during an unnecessary pandemic that will kill hundreds of thousan… https://t.co/osHDnsfrQ7\n",
      "@jessphoenix2018 @CimpaticoTV It will be all be interviews with experts, advocates and leaders in all aspects and f… https://t.co/uhHb3UJQYm\n",
      "\"Without Historical Precedent\": Climate Change Turns Lakes Green In US #NDTV News, NDTV News - Special https://t.co/t10mdyYHWV\n",
      "@freewilmadavis @fuckatreesh he actively contributes to making climate change worse\n",
      "The scariest thing about global warming (and Covid-19) https://t.co/l6wMfsJUK3\n",
      "Our peatland soils store around 3.2 BILLION tonnes of carbon, but they’re heavily degraded and release millions of… https://t.co/6grUpK9Lwe\n",
      "Warming temperatures threaten hundreds of fish species the world relies on, study finds - CNNk https://t.co/WpiYFbEPxk\n",
      "Great solution to climate change. 🎗️ 🔥 https://t.co/3zahJVGxHF\n",
      "Think #COVIDー19 Disrupted the Food Chain? Wait and See What #ClimateChange Will Do\n",
      "\n",
      "https://t.co/94cZFGOAC8\n",
      "Climate change is a racial justice problem - The Washington Post https://t.co/JSSbYvl8bR\n",
      "@Steven_Swinford On a climate change point - which is better for the planet - remaking your tea or microwaving it t… https://t.co/bfGPfhTrF7\n",
      "CDP launches climate 'temperature rating' system for investors https://t.co/tU7Iq0N2lx @GFI_green @Enviro_Finance… https://t.co/oxmw4iMGAy\n",
      "@noplaceforsheep Nothing you can do about complacency. It's very dangerous, whether it's about COVID-19, Climate Ch… https://t.co/BZTOFZjPQJ\n",
      "@jk_rowling This isn't a two-sided debate. This is climate change, slavery, Allies versus Axis. There is a right si… https://t.co/Yyk8RjHrcc\n",
      "Oh you’re committed to fighting climate change? Then why are you wasting your energy constantly crying when you cou… https://t.co/plo9Psrj5F\n",
      "@ArshiaHomayoun2 @emconkwright I am more pro-gun than most Dems, but I support extensive background check. I am pro… https://t.co/1TY2WTN2PS\n",
      "I like talking smack about what I'm gonna do to climate change like I'm road raging in a tiny clown car.\n",
      "\n",
      "Climate c… https://t.co/9sqkCFtvb1\n",
      "@lasagnabby @XJaime1X Coal? Bitch at least get some renewable energy in here. The last thing we need this year is C… https://t.co/fWMsnRfAkE\n",
      "@GloriaXFiles Thankfully no one is debating climate change at present in SL. But it maybe a matter of time.\n",
      "Christine Lagarde has said she would ‘explore every avenue available in order to combat climate change’, Financial Times.\n",
      "@RobBright10 @InProportion2 You mean, COVID caused deaths are Covid caused deaths? What a scandal! You are obviousl… https://t.co/fdv2SM3OBm\n",
      "Meat Loaf DARES To Challenge Greta Thunberg And The Man Made  Climate Change HOAX!!! https://t.co/NC53lUMIc3  *\n",
      "@mfullilove Regan of course raised Milton Friedman’s economic rationalism to government ideology and shut down That… https://t.co/xw8mle5qgC\n",
      "4/ COVID-19 disproportionately impacted Vancouver’s vulnerable communities, so will budgetary cuts. Cuts to date in… https://t.co/uw7XyV7cfe\n",
      "Think Covid-19 Disrupted the Food Chain? Wait and See What Climate Change Will Do https://t.co/xPuxBT5PkZ\n",
      "We Are Running Out Of Water And Water Crisis Is very much around. Do take part in #CallForCode and share your ideas… https://t.co/sGHtXr5q9F\n",
      "The scariest thing about global warming (and Covid-19) - shifting baselines       https://t.co/9zBDsUxJE3\n",
      "@ZSRenn @plbuckland @RosemaryDiaz13 Climate scientists are experts in measuring temperature. You're not.\n",
      "\n",
      "Nothing y… https://t.co/OukExexPrm\n",
      "Today was a day of meetings and plannings for the Climate Australia channel (@CimpaticoTV)!\n",
      "\n",
      "I got to (virtually) m… https://t.co/kxB8cox23Q\n"
     ]
    },
    {
     "name": "stdout",
     "output_type": "stream",
     "text": [
      "CDP launches climate 'temperature rating' system for investors - Reuters via @chosennews_237  https://t.co/C13cE65qp8\n",
      "@TrishCharter That Steggall chook, has been very quiet since the virus over-ran her Climate change BS.\n",
      "@yesnicksearcy And \"climate change.\"\n",
      "Fascinating evidence of landslides causing earthquakes. Given climate change is going lead to more extreme weather… https://t.co/WYp9MXpRtF\n",
      "I beg to disagree, It’ll be hard to get used to 180 mph winds driving firestorms through cities with record numbers… https://t.co/ogeEtxQqLd\n",
      "@GeraldLeroy6 @emconkwright What is your position on gun control, abortion, climate change?\n",
      "Climate change and deforestation: These 3 supertrees can protect us from climate collapse https://t.co/a3qFeYW9nG\n",
      "🇺🇸 Clean energy grids and electric vehicles key to beating climate change and air pollution\n",
      "\n",
      "Yes, indeed they are.… https://t.co/91q2gttYGW\n",
      "@TheRightMelissa @Rick_Q671 @realDonaldTrump The left are fine with the fact that “global warming” was changed to “… https://t.co/oMgJq6vSqj\n",
      "100% correct. Too many soft left in the Nats now. They’ve lost the distinction between whats good for New Zealand,… https://t.co/PeDvziOBU7\n",
      "@andresclarkus @maryldt @Fallable12 @BishopBarron @TaylorRMarshall In't the death penalty all over The Bible? Child… https://t.co/FKw3LbIQ4V\n",
      "@Tony__Heller @BBC Does that include artificially extracting CO2 from the air in an attempt to change the climate to the cooler?\n",
      "Yes! I was just saying “why would we trust these people on climate change theory when they can’t even get COVID-19… https://t.co/uyd6R5hx67\n",
      "@delboy1978uk @jamestmcneill @80_mcswan Climate change, wildlife and habitat loss, desertification, slums, droughts… https://t.co/dcCd2ISTq4\n",
      "@JohnLWumz @ShitChester How is that in any way relevant?\n",
      "\n",
      "Construction on the channel tunnel started over 30 years… https://t.co/YnsHCMNwBb\n",
      "Intense Arctic Wildfires Set a Pollution Record https://t.co/7rrlUp1DJ0\n",
      "Hotter World Will See 21% GDP Fall, India on \"Ruinous Trajectory\": Study https://t.co/L33TWgD52P via @ndtv\n",
      "Christine Lagarde to the @FT : The ECB “has to look at all the business lines and the operations in which we are en… https://t.co/ecrDd2Go1M\n",
      "don't let twitter discourage you from making mindful, sustainable changes in your life wherever you can. yes fuck b… https://t.co/ACVoUbeVDg\n",
      "@Casey I think it’s stupid that our climate change problem has pretty much been forgotten about.\n",
      "@darbyjlyons @susanbee_a @rrwestall16 @MargaretAtwood Wow, that's a pretty awesome authoritarian tankie blog, it ha… https://t.co/zjobeN6FxW\n",
      "7️⃣5️⃣ Years, 7️⃣5️⃣ Documents\n",
      "\n",
      "@UNLibrary #UN75 exhibit highlights key documents that have shaped international re… https://t.co/Z5Jpo3THrU\n",
      "⁦@GretaThunberg⁩ - where is future taking us - Hotter World Will See 21% GDP Fall, India on \"Ruinous Trajectory\":  https://t.co/lsMwXMoHle\n",
      "How can any Republican or depraved MAGAts defend their positions of #racism misogyny, climate change denial, and ev… https://t.co/A4Jf0fYUfJ\n",
      "@david06243894 @FairQuestions @stirlingmg This one? https://t.co/wQzAEMiLzG\n",
      "Yes consumer demand plays a role in climate change but until we put corporations in check... this will not make eve… https://t.co/NuXQrp0JLM\n",
      "📷 Keeping a Steady Eye on Sea Level Change From Space The Sentinel-6/Jason-CS satellite mission will add to a long-… https://t.co/GMPD91wCVE\n",
      "@willwrong I am anticipating a sting in the tail. (Every climate change thing I read is like, \"Even if we did every… https://t.co/p4p7i6Whx9\n",
      "A new report has identified the most effective interventions for addressing air pollution and climate change issues… https://t.co/dleMlan85K\n",
      "We have been discussing rosé trends, so if you are interested in ageing rosé, varieties, terroir, winemaking, clima… https://t.co/FvxYJT6rvy\n",
      "https://t.co/jJ5Y99otWZ\n",
      "(Seven things you need to know about climate change and conflict)\n",
      "WeDoOurBest… https://t.co/AlUcrRSkI1\n",
      "LATEST #Wildfire news: \"Siberia temperatures hit record for June as wildfires spread - Reuters\"… https://t.co/44S0RwarN4\n",
      "Towards our Common Digital Future https://t.co/6pxXdxYJGW Great and somewhat disturbing analysis. Digitalization in… https://t.co/O2iNfh74wD\n",
      "Joe Biden Enlists Clinton/Obama Loyalist, Tom Steyer to Advise on Climate Change https://t.co/F1aTr8A9Wz https://t.co/uE14NTwRA7\n",
      "Tonight is the last night to sign up for our Climate Change Trivia Night. Join us to test your planet knowledge and… https://t.co/9C1h0Djv3I\n",
      "@Fact @RamarOmar Thank you for the information. It helps alot with the globalization, climate change and deforestation.\n",
      "@MasterPrudent It's interestingly how things go from \"impossible\" to \"very realistic and likely medium-term\" as soo… https://t.co/3WyxD8iDvk\n",
      "Joe Biden Enlists Clinton/Obama Loyalist, Tom Steyer to Advise on Climate Change\n",
      "\n",
      "Former Vice President and 2020 De… https://t.co/dx6kZAYORR\n",
      "Climate change ❄️🌫  https://t.co/CuhjZcR8mA  - PiCaBoo https://t.co/ECyHvJ38IS\n",
      "Combating Climate Change’s Impact With Hybrid Coffee Varieties https://t.co/C0hNHF5jDr\n",
      "Curb climate change, protect environment to prevent future pandemics, countries told || Via: Reuters https://t.co/qIo9e0L3BB\n",
      "@richardhorton1 Also: What actions are being taken, and in our case lessons learnt, from the bungling of this pande… https://t.co/zrmIpcCSGJ\n",
      "Engineering News article on the TIPS Development Dialogue on Unravelling South Africa's Just Transition: Stakeholde… https://t.co/0x73oUkTHK\n",
      "@VolantCreation @haley_robs @dbongino Yes, “climate change” is the scam du jour that they’re using as cover 4 their… https://t.co/ANkyaJBehs\n",
      "FT Exclusive: Christine Lagarde has said she would ‘explore every avenue available in order to combat climate chang… https://t.co/VHhxKgMqKN\n",
      "Now or Never\n",
      "#ClimateChange\n",
      "@GretaThunberg \n",
      "\n",
      "Hotter World Will See 21% GDP Fall, India on \"Ruinous Trajectory\": Stu… https://t.co/oIv57maBYq\n",
      "Thanks for rescuing this, @afneil. I would indeed have missed it otherwise.\n",
      "The most important/worrying aspect of c… https://t.co/bH1yIZSPPx\n",
      "Would banning rain or even climate change mean that we\n",
      "“… are disconnecting ... from truth.?\" if yes, \"...there is… https://t.co/GIWoDIb7FE\n",
      "There is little doubt planting trees must be part of the solution to climate change, but this cannot be at the expe… https://t.co/hDrc35Q4xJ\n",
      "Stop being a climate denialist . For the past few months, Facebook has been spamming or removing our post / article… https://t.co/mLBrGg1Rn1\n",
      "Online conference on climate change communication: Listening,  Storytelling,  Networking https://t.co/vWEVKNwoIH\n",
      "@AP Climate change is real. \n",
      "\n",
      "We've got ever more pain coming if we don't go green and reverse our attacks on natur… https://t.co/lRBowRryea\n",
      "Where else are you going to get a cartoon about climate change in the woods of New England? Nowhere, and you know i… https://t.co/mkTKjB43MA\n",
      "@climatecouncil @deniseshrivell @theage Great to hear come on Australia we need to do even better.\n",
      "The LNP have bee… https://t.co/NHZDAbjPGH\n",
      "No matter how uncomfortable and unprofitable that may be.\n",
      "\n",
      "We must change almost everything in our current societie… https://t.co/p9QVehs7Rj\n",
      "@wafrec @CNN You folks are a piece if works. Her quote taken out of context and these “debates” are nothing more th… https://t.co/Eoo0SPSFC7\n",
      "seeing a lot more encouragement of decreased meat consumption as a way to fight climate change!! i’ve been vegetari… https://t.co/SDC884fyR1\n",
      "Climate change is real people 👀 https://t.co/9KpAqxITDG\n",
      "A field trip to a remote marine lab by graduate students from fine arts and natural resource science stimulated the… https://t.co/6CHOoHKQWf\n",
      "@thetruthparty20 @realDonaldTrump I guess the good thing about uneducated idiots like you, is they don’t realize th… https://t.co/eXdeIN3zia\n",
      "India is singled out by Oxford Economics as following a particularly ruinous trajectory with GDP falling 90% by 210… https://t.co/z9Z8tbGpC7\n",
      "@CassieCeleste Funny story. I met the guy that made that song. He was a firm climate change denier because Crichton… https://t.co/O0zfrb1Aom\n",
      "Mitigation is key to fight #ClimateChange. But overall it does not lead to zero GHG emissions, thus, to halt climat… https://t.co/gSXwFpzIEF\n",
      "Lagarde wants the ECB to 'explore every avenue' in fight against climate change. This would make the ECB the first… https://t.co/Xc5PzzIjL4\n",
      "\"One of the greatest opportunities to make better use of natural defenses is in #sustainable food systems,\" writes… https://t.co/y9439UqAXw\n",
      "\"The scale of this recession is going to be like nothing we've seen for generations\"\n",
      "Sir Ed Davey MP, Acting leader… https://t.co/l2LyCUPbFs\n",
      "Europe wants to use #hydrogen to slow climate change - will it work? Great scene setter by @adamvaughan_uk. https://t.co/GMT8FkbuyR\n",
      "I was gonna say, they say that there's only 2 genders,bringing up science,and yet don't believe in climate change\n",
      "#Climate change may push Zika virus into southern and eastern Europe is now trending on https://t.co/fZeR69qHik\n",
      "https://t.co/fZeR69qHik\n",
      "@Murky__Meg U guys in England need to march n protest in front of BP or Parliament n hold the sign “Harry Lives Don… https://t.co/0rhRw0q2eO\n",
      "@MarcherLord1 @PlanB1975 This is to stop all travel by car train and aeroplane. It's the Climate Change agenda.\n",
      "@ParveenKaswan But according to many world leaders climate change is a myth. They have different priorities.\n",
      ".@Lagarde: “I want to explore every avenue available in order to combat climate change”\n",
      "\n",
      "@NGFS_ @despresmorgan… https://t.co/1MaDk4sT3i\n",
      "So what comes next? Could the lawmakers ban the rain from falling on the earth?\n",
      "\n",
      "And it the lawmakers could ban the… https://t.co/zSho5oDHbP\n",
      "This increase in land demand is driving land-grabs and catastrophic deforestation, pushing up food prices, contribu… https://t.co/ix3fRchjvt\n"
     ]
    },
    {
     "name": "stdout",
     "output_type": "stream",
     "text": [
      "Hotter World Will See 21% GDP Fall, India on \"Ruinous Trajectory\": Study - NDTV https://t.co/AitW9loDGa\n",
      "@biblioculus Solidarity. Change is difficult especially in our current climate. I hope things work out for you.\n",
      "Joe Biden Enlists Clinton/Obama Loyalist, Tom Steyer to Advise on Climate Change https://t.co/l1ohyo4qiI https://t.co/hzHG4mIozN\n",
      "@generator16 @maryldt @Fallable12 @BishopBarron @TaylorRMarshall I feel the same way about that but also climate ch… https://t.co/k8LVMwcIAx\n",
      "Economic activity in sub-Saharan Africa can shrink by one percent in a month if the average temperature is 0.5 degr… https://t.co/XTRBQ2jvbA\n",
      "@ProudSocialist Climate change is a hoax\n",
      "Climate change is an urgent issue facing the world today, and we are committed to continuing to do our part to addr… https://t.co/jvzLwfX5PT\n",
      "Inslee on Pandemic:\n",
      "\n",
      " Well... that’s news to me....I haven’t been briefed....Id this thing on?... I’d make a great… https://t.co/zOMCI6bZUk\n",
      "Jane Goodall on conservation, climate change and COVID-19: \"If we carry on with business... https://t.co/SW6aL5f0WV https://t.co/T2sfY23IqI\n",
      "Even if we start to fix climate change, the proof may not show up for 30 years. https://t.co/7vVfRulVzO\n",
      "@Slowinertia181 @Rebekah22745670 @RichardHayber1 @BenjaminPDixon Me too. Aside from the state of climate change and… https://t.co/7vw6VCubGl\n",
      "@BeckyFSinWA @gingifride Climate change? Bwwwahhhaha... We're going to solve world hunger by eliminating the fucks that causing it.\n",
      "Children, the @US_Stratcom has a mythical creature called the Triad that can prevent war and protect you from all p… https://t.co/rJz2O5hGQo\n",
      "As an Econ major who has a lot of major issues with the way econ is taught and discussed I would like to point out… https://t.co/q0J4VlJWzS\n",
      "Water will be the biggest reason for war in coming generations, we need to find ways to save water for our generati… https://t.co/j0y4H9kt4D\n",
      "‘France and Germany in Premier League, we're in League One' -  Green Deal UK's Fatima Ibrahim on funding to combat… https://t.co/WfKeACro0c\n",
      "Lagarde puts green policy top of agenda in ECB bond-buying  https://t.co/Glozt02zN2 via @financialtimes  President… https://t.co/mmpEdMlfe3\n",
      "@lulu111117 @NewsroomGC @CanBorder We've been punked by billionaires like Bill Gates &amp; the @WEF who are purposely u… https://t.co/ttOillBxdp\n",
      "Environmentalist Censored For Shifting His Opinion On Climate Change https://t.co/dYpTg0D3bD https://t.co/dDv6BDthAe\n",
      "Environmentalist Censored For Shifting His Opinion On Climate Change https://t.co/eQLqy6n14d https://t.co/914mQZRNBB\n",
      "EU lawmakers ban nuclear from green transition fund, leave loophole for gas https://t.co/T9r21nY0wD \n",
      "\n",
      "So more (CO2… https://t.co/NY6oPymoCu\n",
      "@CarlaSpade @giufuliafa @FlarianaFiffith @jk_rowling Owl avi, \"climate change scam,\" and some racist stuff on the t… https://t.co/YH6T6rTs0n\n",
      "@jaynemendy People getting killed by police daily and you worried about Climate Change. Smh!\n",
      "@abandonedameric @KariDru They are a wild sight. Every fall in Texas (altho the timing is changing due to climate c… https://t.co/mIlTdhMmmR\n",
      "https://t.co/tXdI4B2gBo\n",
      "My Recent Interview with German Media about the importance of Climate Change Education in P… https://t.co/gTxGUMpXC4\n",
      "Excellent debunking of the lies and the many misleading claims by the climate change denialist and anti-environment… https://t.co/9724jrR4eq\n",
      "Europe wants to use hydrogen to slow climate change - will it work? - @newscientist https://t.co/PYpsD4vUUC https://t.co/3Qiv1pMaH4\n",
      "climate change is accelerating way too quickly for these small individual changes to actually make much of a differ… https://t.co/B0ADQVNyMY\n",
      "@x_factor_fm @TheBlackLilith @shoe0nhead Except belief perseverance is a thing that exists. It's been shown that ev… https://t.co/VLPx26RFmb\n",
      "Environmentalist Censored For Shifting His Opinion On Climate Change https://t.co/JHemD26nNg https://t.co/bPmv55FEsU\n",
      "Reading\n",
      "\n",
      "I Have Been Censored By Facebook For Telling The Truth About Climate Change And Extinctions… https://t.co/htn1RzO64Z\n",
      "@pjrobar @doctorow Not necessarily, but there's a good chance of it happening in places that don't or unable to han… https://t.co/90pVrqzHMn\n",
      "I Don’t Know How To Explain To Americans That You Should Care About Other Countries Because Believe It Or Not Our R… https://t.co/IxE53lK4GP\n",
      "@rohini_sgh He must really care about climate change 🤣🤣🤣\n",
      "Remember how in the first month or so it felt so communal, we were all in this together? @mariadraws drew this comi… https://t.co/sj1X9ypSvy\n",
      "How long do we need until people understand, that this pandemic, the climate crisis and other developments are rela… https://t.co/XbKa5NPAdA\n",
      "Environmentalist Censored For Shifting His Opinion On Climate Change https://t.co/Y21UpBHaN7 https://t.co/yWfLg9wH6z\n",
      "If enough progress is made in this area the it will be great for the planet the environment and for ppl's health. \n",
      "https://t.co/lniXQRYxJY\n",
      "@DrShaneRRR I am sure they are all regretting that now. In addition to climate change, it is awesome for those of u… https://t.co/Ckoqxfd6Qj\n",
      "78. News: Joe Biden Enlists Clinton/Obama Loyalist, Tom Steyer to Advise on Climate Change https://t.co/q7Wb93YF6H\n",
      "The law that could make climate change illegal - BBC Future https://t.co/gILP8eP3Bk\n",
      "Check out \"Experts Say Plague of Locusts in East Africa Linked to Climate Change. Major swarms in the hundreds ...\"… https://t.co/LASLlaDzHe\n",
      "The scariest thing about global warming (and Covid-19) — \"'Shifting baselines syndrome' means we could quickly get… https://t.co/vBS8pGyQDS\n",
      "Would we have “cured” cancer by now? Would we have started a new civilization on Mars? Would we have prevented clim… https://t.co/S1FtsG4hiP\n",
      "Recap: World Urban Parks &amp; World Parks Academy Webinar: Climate Change Hasn't Stopped fo... https://t.co/oRoPk778sU https://t.co/W9r7vokLZL\n",
      "Combating Climate Change’s Impact With Hybrid Coffee Varieties https://t.co/A2kDRKIdf6 https://t.co/CzamO7SMV3\n",
      "I reckon this is one of the consequences of climate change.  More animals that are desperate to survive will start… https://t.co/AWKtwCoJjH\n",
      "To face the adverse impact of climate change, the government has a plan to plant 50,000 saplings of different varie… https://t.co/F04uB35psF\n",
      "India is singled out by Oxford Economics as following a particularly ruinous trajectory, with GDP falling 90 per ce… https://t.co/zJGKjEUz6c\n",
      "Released: CLIMATE CHANGE: FAITH AND ACTION. Scholars (Sociology, Philosophy, Theology, Law &amp; Life Science) present… https://t.co/uTXuKQSviM\n",
      "Shifting baselines. https://t.co/dgcvCJ24nD\n",
      "Something about a white girl blaming civilians for climate change rather than corporations &amp; military forces for be… https://t.co/M1ThhEhOGu\n",
      "Solving Climate Change #Solar https://t.co/Sg3hMTWjyv\n",
      "@kathykilos um I’m an Envs major and I can confirm that they are the ONLY cause of climate change 😡😡\n",
      "@KLoeffler Kelly is right guys. We need to defund police already and put that money towards education, health care,… https://t.co/0gIVIhUhvM\n",
      "Interesting. https://t.co/nJ8rst5RfA\n",
      "Hotter world will see 21% GDP fall, India on \"ruinous trajectory\": study https://t.co/AjnQwilKUL https://t.co/Xw8F7rAi9y\n",
      "@WEATHERCH4 net dry and cold climate change is what would create the highest amount of food shortages globally\n",
      "zayn ended climate change\n",
      "(1)\n",
      "Hopefully more and more 'every day people' are seeing how voices are suppressed in the interests of worrying mo… https://t.co/q2UYthqBEn\n",
      "Can we follow the French out of gridlock on climate? https://t.co/ZTbLAAgktw\n",
      "climate change is so scary, the thought that one day our oceans will become so acidic to the point where all marine… https://t.co/5DVwkc5tAd\n",
      "@blanketm9 Hate when people push this shit as substantive countermeasures to climate change when a handful of corpo… https://t.co/eObBoA2BQV\n",
      "ECB’s President Lagarde said she wishes to explore every available avenue to combat climate change, in the context… https://t.co/b5gSRbY6Tx\n",
      "Petition to start hermit colony in the middle of the woods of the UP. Animals encouraged and welcome. Only current… https://t.co/fG2VZLwG2D\n",
      "@LiveSquawk Lagarde knows it's fake science &amp; worse. She's a member of \"the elite\", keeping the world financially e… https://t.co/hLHv7zkX8c\n",
      "This is the way forward - CB focus. Reminiscent of Mark Carney's 2015 speech \"Breaking the tragedy of the horizon -… https://t.co/GZz7vPJ6WR\n",
      "Head EU central bank C. Lagarde puts ‘green policy’ on top of ECB bond-buying\n",
      "\n",
      "opening the door to using its €2.8tn… https://t.co/3dCjkZj0fo\n",
      "Also, yknow, housing, healthcare, climate change, and all the incredibly important things that are so neglected here on Earth.\n",
      "Opinion: We're heading into a climate catastrophe utterly ill-prepared. Remind you of anything @BorisJohnson? https://t.co/dzyvBvpuuC\n",
      "Climate change may cause extreme 🌊waves  in Arctic https://t.co/pQyP1zMnG8 #ClimateChange #Arctic #waves #coastalliving\n",
      "Emphasis on green in @ecb bond-buying, fighting climate change @Lagarde  https://t.co/tuXrD9baNS via @financialtimes\n",
      "@Guerrilha_Grodd @EatTheRichPod dude is trying to tell me China is socialist and that's why climate change\n",
      "lmfao big corporations and billionaires are they ones causing climate change but go ahead and try to lower your car… https://t.co/jJByL5mco7\n",
      "@MoondriftMusing @kary_cee @gteasts @wendywhoru @yarramanbully @Karmageddon67 @naomirwolf @Kelly_Small_… https://t.co/Y0AGzkJS5u\n"
     ]
    },
    {
     "name": "stdout",
     "output_type": "stream",
     "text": [
      "@ZubyMusic @ZubyMusic leftists don't blame Gov., we do. Big Gov. advocates  blame: racism, sexism, so-called system… https://t.co/rysomuVMCx\n",
      "As the Climate Change Committee have made clear, there is no realistic scenario which allows the UK to hit its Net… https://t.co/dODIfcPbgt\n",
      "@kizersosay28 @thispostisgood @AbortionSuicide That's because fundamentally they're very similar in policy, the onl… https://t.co/qPVJdliQQx\n",
      "Intense Arctic Wildfires Set a Pollution Record https://t.co/LsGkrsYwHv\n",
      "And then they wonder why ppl treat journalists economists and climate change experts with contempt\n",
      "\n",
      "https://t.co/3ER4nTE41s\n",
      "@GrrrGraphics Not my family.. as most of my family is either dead or old.. but I can’t say the same for my baby mam… https://t.co/sAdrjrL79C\n",
      "@tiffanyyenn Oh man, I can’t even imagine what one million looks like in my head. Climate change truly is our biggest threat😭\n",
      "@PeterFosterALP yes  equivalent to 1/1000th of a black lives matter march or 1/500th of a climate change march\n",
      "We pray with @christian_aid for all in the Philippines catching and selling fish through sustainable methods. We pr… https://t.co/HOSzFNATWp\n",
      "We pray with @christian_aid for all in the Philippines catching and selling fish through sustainable methods. We pr… https://t.co/e1RNU4jY0e\n",
      "Yeah climate change https://t.co/XNOdD69jzi\n",
      "In other news, I'm no longer confused as to why so many Americans don't believe in climate change when the facts ar… https://t.co/vk0WFDEPkr\n",
      "'It is our sole responsibility that once the #lockdown is lifted, we do our best to fight #ClimateChange change', w… https://t.co/ZzYKpnLp4C\n",
      "There do not appear to be many changes in the #insecticides being used. In 1993, during the last #locust upsurge, L… https://t.co/n1aVR2XbSo\n",
      "@JacquesMilbert @thomaschattwill @SalmanRushdie @jk_rowling @dwaynebetts @HeerJeet @michelleinbklyn @Yascha_Mounk W… https://t.co/WpqjMUWzy1\n",
      "@Veni_Tom @Dan88348149 @Time4KnowIedge China did violate the artic treaty and even passed a few ships thru Canadian… https://t.co/YUrUkzShlP\n",
      "@PeterTimpe This guy produces lots of propaganda. I though he was just paid by the  lobby to get climate change fun… https://t.co/c88e8Ij7Z0\n",
      "@casualskeptic @godless_mom Sure they are manageable but they are requested by 0.00002% of the population so you ca… https://t.co/LYrXhC7t2d\n",
      "“An animal that is very abundant, before it gets extinct, it becomes rare,” says Pauly in his TED talk on shifting… https://t.co/pYqc37rp4Q\n",
      "Increased density and walkability is the ultimate green move. Cars, in any fashion, are never the solution. We can’… https://t.co/7oufvOXBoh\n",
      "@KarlRobinson02 @TheEconomist It’s definitely not that simple.  That is a naive thought process https://t.co/lklyJ4MSho\n",
      "i got a lot of questions about the fact that bill gates has undue influence in the world health organization even t… https://t.co/8jNeLhNPCf\n",
      "@wisenaive @ShahidForChange @naomirwolf you think that democratic politicians are the ones causing all this dry woo… https://t.co/lxh1LZsq9J\n",
      "@jot_au If we don't get climate change under control that won't matter.\n",
      "tonight i watched a very sad movie and a video about climate change :(\n",
      "If we don't get climate change under control there'll be even more new viruses and bacterial disease\n",
      "Intense Arctic Wildfires Set a Pollution Record - The New York Times https://t.co/nk1dXhAcZd by @SominiSengupta.\n",
      "Liberty is not cancelled due to “subjective scientific conjecture” #TuckerCarlson isn’t the world supposed to have… https://t.co/fjnNEIQTt4\n",
      "Pls read this and do your best but don’t forget that the consumer is far less to blame for climate change than the… https://t.co/Ydf8eskSuh\n"
     ]
    }
   ],
   "source": [
    "new_search = \"climate+change -filter:retweets\"\n",
    "\n",
    "tweets = tw.Cursor(api.search,\n",
    "                   q=new_search,\n",
    "                   lang=\"en\",\n",
    "                   since='2018-04-23').items(1000)\n",
    "\n",
    "for tweet in tweets:\n",
    "    print(tweet.text)\n"
   ]
  },
  {
   "cell_type": "markdown",
   "metadata": {},
   "source": [
    "### Example:  Analyze Word Frequency Counts Using Twitter Data and Tweepy in Python"
   ]
  },
  {
   "cell_type": "code",
   "execution_count": 40,
   "metadata": {},
   "outputs": [],
   "source": [
    "import os\n",
    "import pandas as pd\n",
    "import matplotlib.pyplot as plt\n",
    "import seaborn as sns\n",
    "import itertools\n",
    "import collections\n",
    "import tweepy as tw\n",
    "import nltk\n",
    "from nltk.corpus import stopwords\n",
    "# re stands for regular expressions. \n",
    "# Regular expressions are a special syntax that is used to identify patterns in a string.\n",
    "import re\n",
    "import networkx\n",
    "\n",
    "import warnings\n",
    "warnings.filterwarnings(\"ignore\")\n",
    "\n",
    "sns.set(font_scale=1.5)\n",
    "sns.set_style(\"whitegrid\")"
   ]
  },
  {
   "cell_type": "code",
   "execution_count": 39,
   "metadata": {},
   "outputs": [],
   "source": [
    "search_term = \"#climate+change -filter:retweets\"\n",
    "\n",
    "tweets = tw.Cursor(api.search,\n",
    "                   q=search_term,\n",
    "                   lang=\"en\",\n",
    "                   since='2018-11-01').items(1000)\n",
    "\n",
    "all_tweets = [tweet.text for tweet in tweets]"
   ]
  },
  {
   "cell_type": "code",
   "execution_count": 41,
   "metadata": {},
   "outputs": [
    {
     "data": {
      "text/plain": [
       "[\"'Australia’s failure to satisfy its international human rights obligations to take measures to prevent immediate an… https://t.co/4hc6W5FVLK\",\n",
       " '“Climate change is already harming human rights in Australia, including the rights to life, health, food, water, ho… https://t.co/o0M8fynZds',\n",
       " '“Indigenous peoples in Australia are especially vulnerable to the impacts of climate change because of their deep c… https://t.co/Py6pxoJJsY',\n",
       " 'Now that everyone seems to understand the urgency of addressing Climate Change, I would like to tell the story of h… https://t.co/me5YnL051u',\n",
       " '#Climate change mitigation #agroecological zone of high Savannah (Cameroon). Taking parameters to asses the quantit… https://t.co/DsujPyK4ZU']"
      ]
     },
     "execution_count": 41,
     "metadata": {},
     "output_type": "execute_result"
    }
   ],
   "source": [
    "all_tweets[:5]"
   ]
  },
  {
   "cell_type": "markdown",
   "metadata": {},
   "source": [
    "#### Remove URLs (links)\n",
    "\n",
    "The tweets above have some elements that you do not want in your word counts. For instance, URLs will not be analyzed in our scenario. You can remove URLs (links) using regular expressions accessed from the `re` package.\n",
    "\n",
    "Here is an example: The syntax below tells the search to find all strings that look like a URL, and replace it with nothing – \"\". It also removes other punctionation including hashtags - #.\n",
    "\n",
    "`([^0-9A-Za-z \\t])|(\\w+:\\/\\/\\S+)`\n",
    "\n",
    "\n",
    "`re.sub` allows you to substitute a selection of characters defined using a regular expression, with something else.\n",
    "\n",
    "In the function defined below, this line takes the text in each tweet and replaces the URL with \"\" (nothing):\n",
    "\n",
    "`re.sub(\"([^0-9A-Za-z \\t])|(\\w+:\\/\\/\\S+)\", \"\", tweet`\n"
   ]
  },
  {
   "cell_type": "code",
   "execution_count": 42,
   "metadata": {},
   "outputs": [],
   "source": [
    "def remove_url(txt):\n",
    "    \"\"\"Replace URLs found in a text string with nothing \n",
    "    (i.e. it will remove the URL from the string).\n",
    "\n",
    "    Parameters\n",
    "    ----------\n",
    "    txt : string\n",
    "        A text string that you want to parse and remove urls.\n",
    "\n",
    "    Returns\n",
    "    -------\n",
    "    The same txt string with url's removed.\n",
    "    \"\"\"\n",
    "\n",
    "    return \" \".join(re.sub(\"([^0-9A-Za-z \\t])|(\\w+:\\/\\/\\S+)\", \"\", txt).split())"
   ]
  },
  {
   "cell_type": "markdown",
   "metadata": {},
   "source": [
    "After defining the function, you can call it in a list comprehension to create a list of the clean tweets."
   ]
  },
  {
   "cell_type": "code",
   "execution_count": 43,
   "metadata": {
    "scrolled": true
   },
   "outputs": [
    {
     "data": {
      "text/plain": [
       "['Australias failure to satisfy its international human rights obligations to take measures to prevent immediate an',\n",
       " 'Climate change is already harming human rights in Australia including the rights to life health food water ho',\n",
       " 'Indigenous peoples in Australia are especially vulnerable to the impacts of climate change because of their deep c',\n",
       " 'Now that everyone seems to understand the urgency of addressing Climate Change I would like to tell the story of h',\n",
       " 'Climate change mitigation agroecological zone of high Savannah Cameroon Taking parameters to asses the quantit']"
      ]
     },
     "execution_count": 43,
     "metadata": {},
     "output_type": "execute_result"
    }
   ],
   "source": [
    "all_tweets_no_urls = [remove_url(tweet) for tweet in all_tweets]\n",
    "all_tweets_no_urls[:5]"
   ]
  },
  {
   "cell_type": "markdown",
   "metadata": {},
   "source": [
    "#### Text Cleanup - Address Case Issues\n",
    "\n",
    "Capitalization is also a challenge when analyzing text data. If you are trying to create a list of unique words in your tweets, words with capitalization will be different from words that are all lowercase.\n",
    "\n"
   ]
  },
  {
   "cell_type": "code",
   "execution_count": 44,
   "metadata": {},
   "outputs": [
    {
     "data": {
      "text/plain": [
       "{',', 'Dog', 'cat', 'dog'}"
      ]
     },
     "execution_count": 44,
     "metadata": {},
     "output_type": "execute_result"
    }
   ],
   "source": [
    "# Note how capitalization impacts unique returned values\n",
    "ex_list = [\"Dog\", \"dog\", \"dog\", \"cat\", \"cat\", \",\"]\n",
    "\n",
    "# Get unique elements in the list\n",
    "set(ex_list)\n",
    "{',', 'Dog', 'cat', 'dog'}"
   ]
  },
  {
   "cell_type": "markdown",
   "metadata": {},
   "source": [
    "To account for this, you can make each word lowercase using the string method `.lower()`. In the code below, this method is applied using a list comprehension."
   ]
  },
  {
   "cell_type": "code",
   "execution_count": 45,
   "metadata": {},
   "outputs": [
    {
     "data": {
      "text/plain": [
       "['dog', 'dog', 'dog', 'cat', 'cat', ',']"
      ]
     },
     "execution_count": 45,
     "metadata": {},
     "output_type": "execute_result"
    }
   ],
   "source": [
    "# Note how capitalization impacts unique returned values\n",
    "words_list = [\"Dog\", \"dog\", \"dog\", \"cat\", \"cat\", \",\"]\n",
    "\n",
    "# Make all elements in the list lowercase\n",
    "lower_case = [word.lower() for word in words_list]\n",
    "\n",
    "# Get all elements in the list\n",
    "lower_case\n",
    "['dog', 'dog', 'dog', 'cat', 'cat', ',']"
   ]
  },
  {
   "cell_type": "markdown",
   "metadata": {},
   "source": [
    "Now all of the words in your list are lowercase. You can again use `set()` function to return only unique words."
   ]
  },
  {
   "cell_type": "code",
   "execution_count": 46,
   "metadata": {
    "scrolled": true
   },
   "outputs": [
    {
     "data": {
      "text/plain": [
       "{',', 'cat', 'dog'}"
      ]
     },
     "execution_count": 46,
     "metadata": {},
     "output_type": "execute_result"
    }
   ],
   "source": [
    "# Now you have only unique words\n",
    "set(lower_case)\n",
    "{',', 'cat', 'dog'}"
   ]
  },
  {
   "cell_type": "markdown",
   "metadata": {},
   "source": [
    "#### Create List of Lower Case Words from Tweets\n",
    "Right now, you have a list of lists that contains each full tweet and you know how to lowercase the words.\n",
    "\n",
    "However, to do a word frequency analysis, you need a list of all of the words associated with each tweet. You can use `.split()` to split out each word into a unique element in a list, as shown below."
   ]
  },
  {
   "cell_type": "code",
   "execution_count": 47,
   "metadata": {
    "scrolled": true
   },
   "outputs": [
    {
     "data": {
      "text/plain": [
       "[['australias',\n",
       "  'failure',\n",
       "  'to',\n",
       "  'satisfy',\n",
       "  'its',\n",
       "  'international',\n",
       "  'human',\n",
       "  'rights',\n",
       "  'obligations',\n",
       "  'to',\n",
       "  'take',\n",
       "  'measures',\n",
       "  'to',\n",
       "  'prevent',\n",
       "  'immediate',\n",
       "  'an'],\n",
       " ['climate',\n",
       "  'change',\n",
       "  'is',\n",
       "  'already',\n",
       "  'harming',\n",
       "  'human',\n",
       "  'rights',\n",
       "  'in',\n",
       "  'australia',\n",
       "  'including',\n",
       "  'the',\n",
       "  'rights',\n",
       "  'to',\n",
       "  'life',\n",
       "  'health',\n",
       "  'food',\n",
       "  'water',\n",
       "  'ho']]"
      ]
     },
     "execution_count": 47,
     "metadata": {},
     "output_type": "execute_result"
    }
   ],
   "source": [
    "# Create a list of lists containing lowercase words for each tweet\n",
    "words_in_tweet = [tweet.lower().split() for tweet in all_tweets_no_urls]\n",
    "words_in_tweet[:2]"
   ]
  },
  {
   "cell_type": "markdown",
   "metadata": {},
   "source": [
    "#### Calculate and Plot Word Frequency\n",
    "\n",
    "To get the count of how many times each word appears in the sample, you can use the built-in Python library `collections`, which helps create a special type of a Python dictonary. The `collection.Counter` object has a useful built-in method `most_common` that will return the most commonly used words and the number of times that they are used.\n",
    "\n",
    "To begin, flatten your list, so that all words across the tweets are in one list."
   ]
  },
  {
   "cell_type": "code",
   "execution_count": 10,
   "metadata": {},
   "outputs": [
    {
     "ename": "NameError",
     "evalue": "name 'itertools' is not defined",
     "output_type": "error",
     "traceback": [
      "\u001b[1;31m---------------------------------------------------------------------------\u001b[0m",
      "\u001b[1;31mNameError\u001b[0m                                 Traceback (most recent call last)",
      "\u001b[1;32m<ipython-input-10-1c1b2246ca0d>\u001b[0m in \u001b[0;36m<module>\u001b[1;34m\u001b[0m\n\u001b[0;32m      1\u001b[0m \u001b[1;31m# List of all words across tweets\u001b[0m\u001b[1;33m\u001b[0m\u001b[1;33m\u001b[0m\u001b[1;33m\u001b[0m\u001b[0m\n\u001b[1;32m----> 2\u001b[1;33m \u001b[0mall_words_no_urls\u001b[0m \u001b[1;33m=\u001b[0m \u001b[0mlist\u001b[0m\u001b[1;33m(\u001b[0m\u001b[0mitertools\u001b[0m\u001b[1;33m.\u001b[0m\u001b[0mchain\u001b[0m\u001b[1;33m(\u001b[0m\u001b[1;33m*\u001b[0m\u001b[0mwords_in_tweet\u001b[0m\u001b[1;33m)\u001b[0m\u001b[1;33m)\u001b[0m\u001b[1;33m\u001b[0m\u001b[1;33m\u001b[0m\u001b[0m\n\u001b[0m\u001b[0;32m      3\u001b[0m \u001b[1;33m\u001b[0m\u001b[0m\n\u001b[0;32m      4\u001b[0m \u001b[1;31m# Create counter\u001b[0m\u001b[1;33m\u001b[0m\u001b[1;33m\u001b[0m\u001b[1;33m\u001b[0m\u001b[0m\n\u001b[0;32m      5\u001b[0m \u001b[0mcounts_no_urls\u001b[0m \u001b[1;33m=\u001b[0m \u001b[0mcollections\u001b[0m\u001b[1;33m.\u001b[0m\u001b[0mCounter\u001b[0m\u001b[1;33m(\u001b[0m\u001b[0mall_words_no_urls\u001b[0m\u001b[1;33m)\u001b[0m\u001b[1;33m\u001b[0m\u001b[1;33m\u001b[0m\u001b[0m\n",
      "\u001b[1;31mNameError\u001b[0m: name 'itertools' is not defined"
     ]
    }
   ],
   "source": [
    "# List of all words across tweets\n",
    "all_words_no_urls = list(itertools.chain(*words_in_tweet))\n",
    "\n",
    "# Create counter\n",
    "counts_no_urls = collections.Counter(all_words_no_urls)\n",
    "\n",
    "counts_no_urls.most_common(15)"
   ]
  },
  {
   "cell_type": "markdown",
   "metadata": {},
   "source": [
    "Based on the counter, you can create a Pandas Dataframe for analysis and plotting that includes only the top 15 most common words."
   ]
  },
  {
   "cell_type": "code",
   "execution_count": 51,
   "metadata": {
    "scrolled": true
   },
   "outputs": [
    {
     "data": {
      "text/html": [
       "<div>\n",
       "<style scoped>\n",
       "    .dataframe tbody tr th:only-of-type {\n",
       "        vertical-align: middle;\n",
       "    }\n",
       "\n",
       "    .dataframe tbody tr th {\n",
       "        vertical-align: top;\n",
       "    }\n",
       "\n",
       "    .dataframe thead th {\n",
       "        text-align: right;\n",
       "    }\n",
       "</style>\n",
       "<table border=\"1\" class=\"dataframe\">\n",
       "  <thead>\n",
       "    <tr style=\"text-align: right;\">\n",
       "      <th></th>\n",
       "      <th>words</th>\n",
       "      <th>count</th>\n",
       "    </tr>\n",
       "  </thead>\n",
       "  <tbody>\n",
       "    <tr>\n",
       "      <th>0</th>\n",
       "      <td>climate</td>\n",
       "      <td>677</td>\n",
       "    </tr>\n",
       "    <tr>\n",
       "      <th>1</th>\n",
       "      <td>the</td>\n",
       "      <td>534</td>\n",
       "    </tr>\n",
       "    <tr>\n",
       "      <th>2</th>\n",
       "      <td>change</td>\n",
       "      <td>491</td>\n",
       "    </tr>\n",
       "    <tr>\n",
       "      <th>3</th>\n",
       "      <td>to</td>\n",
       "      <td>401</td>\n",
       "    </tr>\n",
       "    <tr>\n",
       "      <th>4</th>\n",
       "      <td>of</td>\n",
       "      <td>284</td>\n",
       "    </tr>\n",
       "  </tbody>\n",
       "</table>\n",
       "</div>"
      ],
      "text/plain": [
       "     words  count\n",
       "0  climate    677\n",
       "1      the    534\n",
       "2   change    491\n",
       "3       to    401\n",
       "4       of    284"
      ]
     },
     "execution_count": 51,
     "metadata": {},
     "output_type": "execute_result"
    }
   ],
   "source": [
    "clean_tweets_no_urls = pd.DataFrame(counts_no_urls.most_common(15),\n",
    "                             columns=['words', 'count'])\n",
    "\n",
    "clean_tweets_no_urls.head()"
   ]
  },
  {
   "cell_type": "markdown",
   "metadata": {},
   "source": [
    "Using this Pandas Dataframe, you can create a horizontal bar graph of the top 15 most common words in the tweets as shown below."
   ]
  },
  {
   "cell_type": "code",
   "execution_count": 62,
   "metadata": {
    "scrolled": true
   },
   "outputs": [
    {
     "data": {
      "image/png": "[encoded data removed]",
      "text/plain": [
       "<Figure size 576x432 with 1 Axes>"
      ]
     },
     "metadata": {},
     "output_type": "display_data"
    }
   ],
   "source": [
    "# Using seaborn\n",
    "# increase the size of the figure\n",
    "sns.set(rc={'figure.figsize':(8,6)})\n",
    "# create the barplot\n",
    "ax = sns.barplot(x=\"count\", y=\"words\", orient='h', data=clean_tweets_no_urls)"
   ]
  },
  {
   "cell_type": "markdown",
   "metadata": {},
   "source": [
    "This plot displays the frequency of all words in the tweets on climate change, after URLs have been removed."
   ]
  },
  {
   "cell_type": "code",
   "execution_count": 59,
   "metadata": {
    "scrolled": true
   },
   "outputs": [
    {
     "data": {
      "image/png": "[encoded data removed]",
      "text/plain": [
       "<Figure size 576x576 with 1 Axes>"
      ]
     },
     "metadata": {},
     "output_type": "display_data"
    }
   ],
   "source": [
    "# Using matplotlib\n",
    "fig, ax = plt.subplots(figsize=(8, 8))\n",
    "\n",
    "# Plot horizontal bar graph\n",
    "clean_tweets_no_urls.sort_values(by='count').plot.barh(x='words',\n",
    "                      y='count',\n",
    "                      ax=ax,\n",
    "                      color=\"purple\")\n",
    "\n",
    "ax.set_title(\"Common Words Found in Tweets (Including All Words)\")\n",
    "\n",
    "plt.show()"
   ]
  },
  {
   "cell_type": "markdown",
   "metadata": {},
   "source": [
    "#### Remove Stopwords with `nltk`\n",
    "\n",
    "In addition to lowercase words, you may also want to perform additional clean-up, such as removing words that do not add meaningful information to the text you are trying to analysis. These words referred to as **stop words** and include commonly appearing words such as a, the, of, in, who, what, you, etc.\n",
    "\n",
    "The Python package nltk, commonly used for text analysis, provides a list of \"stop words\" that you can use to clean your Twitter data."
   ]
  },
  {
   "cell_type": "code",
   "execution_count": 2,
   "metadata": {
    "scrolled": true
   },
   "outputs": [
    {
     "ename": "NameError",
     "evalue": "name 'nltk' is not defined",
     "output_type": "error",
     "traceback": [
      "\u001b[1;31m---------------------------------------------------------------------------\u001b[0m",
      "\u001b[1;31mNameError\u001b[0m                                 Traceback (most recent call last)",
      "\u001b[1;32m<ipython-input-2-e3fc0c9c9a89>\u001b[0m in \u001b[0;36m<module>\u001b[1;34m\u001b[0m\n\u001b[1;32m----> 1\u001b[1;33m \u001b[0mnltk\u001b[0m\u001b[1;33m.\u001b[0m\u001b[0mdownload\u001b[0m\u001b[1;33m(\u001b[0m\u001b[1;34m'stopwords'\u001b[0m\u001b[1;33m)\u001b[0m\u001b[1;33m\u001b[0m\u001b[1;33m\u001b[0m\u001b[0m\n\u001b[0m",
      "\u001b[1;31mNameError\u001b[0m: name 'nltk' is not defined"
     ]
    }
   ],
   "source": [
    "nltk.download('stopwords')"
   ]
  },
  {
   "cell_type": "code",
   "execution_count": 1,
   "metadata": {},
   "outputs": [
    {
     "ename": "NameError",
     "evalue": "name 'stopwords' is not defined",
     "output_type": "error",
     "traceback": [
      "\u001b[1;31m---------------------------------------------------------------------------\u001b[0m",
      "\u001b[1;31mNameError\u001b[0m                                 Traceback (most recent call last)",
      "\u001b[1;32m<ipython-input-1-53fb08a949af>\u001b[0m in \u001b[0;36m<module>\u001b[1;34m\u001b[0m\n\u001b[1;32m----> 1\u001b[1;33m \u001b[0mstop_words\u001b[0m \u001b[1;33m=\u001b[0m \u001b[0mset\u001b[0m\u001b[1;33m(\u001b[0m\u001b[0mstopwords\u001b[0m\u001b[1;33m.\u001b[0m\u001b[0mwords\u001b[0m\u001b[1;33m(\u001b[0m\u001b[1;34m'english'\u001b[0m\u001b[1;33m)\u001b[0m\u001b[1;33m)\u001b[0m\u001b[1;33m\u001b[0m\u001b[1;33m\u001b[0m\u001b[0m\n\u001b[0m\u001b[0;32m      2\u001b[0m \u001b[1;33m\u001b[0m\u001b[0m\n\u001b[0;32m      3\u001b[0m \u001b[1;31m# View a few words from the set\u001b[0m\u001b[1;33m\u001b[0m\u001b[1;33m\u001b[0m\u001b[1;33m\u001b[0m\u001b[0m\n\u001b[0;32m      4\u001b[0m \u001b[0mlist\u001b[0m\u001b[1;33m(\u001b[0m\u001b[0mstop_words\u001b[0m\u001b[1;33m)\u001b[0m\u001b[1;33m[\u001b[0m\u001b[1;36m0\u001b[0m\u001b[1;33m:\u001b[0m\u001b[1;36m10\u001b[0m\u001b[1;33m]\u001b[0m\u001b[1;33m\u001b[0m\u001b[1;33m\u001b[0m\u001b[0m\n",
      "\u001b[1;31mNameError\u001b[0m: name 'stopwords' is not defined"
     ]
    }
   ],
   "source": [
    "stop_words = set(stopwords.words('english'))\n",
    "\n",
    "# View a few words from the set\n",
    "list(stop_words)[0:10]"
   ]
  },
  {
   "cell_type": "markdown",
   "metadata": {},
   "source": [
    "Notice that the stop words provided by nltk are all lower-case. This works well given you already have converted all of your tweet words to lower case using the Python string method `.lower()`.\n",
    "\n",
    "Next, you will remove all stop words from each tweet. "
   ]
  },
  {
   "cell_type": "code",
   "execution_count": 8,
   "metadata": {
    "scrolled": true
   },
   "outputs": [
    {
     "ename": "NameError",
     "evalue": "name 'words_in_tweet' is not defined",
     "output_type": "error",
     "traceback": [
      "\u001b[1;31m---------------------------------------------------------------------------\u001b[0m",
      "\u001b[1;31mNameError\u001b[0m                                 Traceback (most recent call last)",
      "\u001b[1;32m<ipython-input-8-875748316e6b>\u001b[0m in \u001b[0;36m<module>\u001b[1;34m\u001b[0m\n\u001b[0;32m      1\u001b[0m \u001b[1;31m# Remove stop words from each tweet list of words\u001b[0m\u001b[1;33m\u001b[0m\u001b[1;33m\u001b[0m\u001b[1;33m\u001b[0m\u001b[0m\n\u001b[0;32m      2\u001b[0m tweets_nsw = [[word for word in tweet_words if not word in stop_words]\n\u001b[1;32m----> 3\u001b[1;33m               for tweet_words in words_in_tweet]\n\u001b[0m\u001b[0;32m      4\u001b[0m \u001b[1;33m\u001b[0m\u001b[0m\n\u001b[0;32m      5\u001b[0m \u001b[0mtweets_nsw\u001b[0m\u001b[1;33m[\u001b[0m\u001b[1;36m0\u001b[0m\u001b[1;33m]\u001b[0m\u001b[1;33m\u001b[0m\u001b[1;33m\u001b[0m\u001b[0m\n",
      "\u001b[1;31mNameError\u001b[0m: name 'words_in_tweet' is not defined"
     ]
    }
   ],
   "source": [
    "# Remove stop words from each tweet list of words\n",
    "tweets_nsw = [[word for word in tweet_words if not word in stop_words]\n",
    "              for tweet_words in words_in_tweet]\n",
    "\n",
    "tweets_nsw[0]"
   ]
  },
  {
   "cell_type": "markdown",
   "metadata": {},
   "source": [
    "Again, you can flatten your list and create a counter to return the most commonly used words and the number of times that they are used."
   ]
  },
  {
   "cell_type": "code",
   "execution_count": 66,
   "metadata": {
    "scrolled": true
   },
   "outputs": [
    {
     "data": {
      "text/plain": [
       "[('climate', 677),\n",
       " ('change', 491),\n",
       " ('climatechange', 107),\n",
       " ('new', 53),\n",
       " ('global', 49),\n",
       " ('science', 46),\n",
       " ('amp', 46),\n",
       " ('environment', 40),\n",
       " ('energy', 40),\n",
       " ('globalwarming', 35),\n",
       " ('links', 34),\n",
       " ('world', 31),\n",
       " ('make', 29),\n",
       " ('covid19', 29),\n",
       " ('report', 28)]"
      ]
     },
     "execution_count": 66,
     "metadata": {},
     "output_type": "execute_result"
    }
   ],
   "source": [
    "all_words_nsw = list(itertools.chain(*tweets_nsw))\n",
    "\n",
    "counts_nsw = collections.Counter(all_words_nsw)\n",
    "\n",
    "counts_nsw.most_common(15)"
   ]
  },
  {
   "cell_type": "markdown",
   "metadata": {},
   "source": [
    "Then, you can create the Pandas Dataframe and plot the word frequencies without the stop words."
   ]
  },
  {
   "cell_type": "code",
   "execution_count": 67,
   "metadata": {
    "scrolled": true
   },
   "outputs": [
    {
     "data": {
      "image/png": "[encoded data removed]",
      "text/plain": [
       "<Figure size 576x432 with 1 Axes>"
      ]
     },
     "metadata": {},
     "output_type": "display_data"
    }
   ],
   "source": [
    "clean_tweets_nsw = pd.DataFrame(counts_nsw.most_common(15),\n",
    "                             columns=['words', 'count'])\n",
    "\n",
    "# create the barplot\n",
    "ax = sns.barplot(x=\"count\", y=\"words\", orient='h', data=clean_tweets_nsw)\n"
   ]
  },
  {
   "cell_type": "markdown",
   "metadata": {},
   "source": [
    "This plot displays the frequency of the words in the tweets on climate change, after URLs and stop words have been removed."
   ]
  },
  {
   "cell_type": "markdown",
   "metadata": {},
   "source": [
    "#### Remove Collection Words\n",
    "In additional to removing stopwords, it is common to also remove collection words. Collection words are the words that you used to query your data from Twitter.\n",
    "\n",
    "In this case, you used \"climate change\" as a collection term. Thus, you can expect that these terms will be found in each tweet. This could skew your word frequency analysis."
   ]
  },
  {
   "cell_type": "code",
   "execution_count": 7,
   "metadata": {},
   "outputs": [
    {
     "ename": "NameError",
     "evalue": "name 'tweets_nsw' is not defined",
     "output_type": "error",
     "traceback": [
      "\u001b[1;31m---------------------------------------------------------------------------\u001b[0m",
      "\u001b[1;31mNameError\u001b[0m                                 Traceback (most recent call last)",
      "\u001b[1;32m<ipython-input-7-352311dee6d5>\u001b[0m in \u001b[0;36m<module>\u001b[1;34m\u001b[0m\n\u001b[0;32m      1\u001b[0m \u001b[0mcollection_words\u001b[0m \u001b[1;33m=\u001b[0m \u001b[1;33m[\u001b[0m\u001b[1;34m'climatechange'\u001b[0m\u001b[1;33m,\u001b[0m \u001b[1;34m'climate'\u001b[0m\u001b[1;33m,\u001b[0m \u001b[1;34m'change'\u001b[0m\u001b[1;33m]\u001b[0m\u001b[1;33m\u001b[0m\u001b[1;33m\u001b[0m\u001b[0m\n\u001b[0;32m      2\u001b[0m tweets_nsw_nc = [[w for w in word if not w in collection_words]\n\u001b[1;32m----> 3\u001b[1;33m                  for word in tweets_nsw]\n\u001b[0m",
      "\u001b[1;31mNameError\u001b[0m: name 'tweets_nsw' is not defined"
     ]
    }
   ],
   "source": [
    "collection_words = ['climatechange', 'climate', 'change']\n",
    "tweets_nsw_nc = [[w for w in word if not w in collection_words]\n",
    "                 for word in tweets_nsw]"
   ]
  },
  {
   "cell_type": "markdown",
   "metadata": {},
   "source": [
    "#### Calculate and Plot Word Frequency of Clean Tweets\n",
    "\n",
    "Now that we have cleaned up your data, we are ready to calculate and plot the final word frequency results."
   ]
  },
  {
   "cell_type": "code",
   "execution_count": 72,
   "metadata": {
    "scrolled": true
   },
   "outputs": [
    {
     "data": {
      "text/html": [
       "<div>\n",
       "<style scoped>\n",
       "    .dataframe tbody tr th:only-of-type {\n",
       "        vertical-align: middle;\n",
       "    }\n",
       "\n",
       "    .dataframe tbody tr th {\n",
       "        vertical-align: top;\n",
       "    }\n",
       "\n",
       "    .dataframe thead th {\n",
       "        text-align: right;\n",
       "    }\n",
       "</style>\n",
       "<table border=\"1\" class=\"dataframe\">\n",
       "  <thead>\n",
       "    <tr style=\"text-align: right;\">\n",
       "      <th></th>\n",
       "      <th>words</th>\n",
       "      <th>count</th>\n",
       "    </tr>\n",
       "  </thead>\n",
       "  <tbody>\n",
       "    <tr>\n",
       "      <th>0</th>\n",
       "      <td>new</td>\n",
       "      <td>53</td>\n",
       "    </tr>\n",
       "    <tr>\n",
       "      <th>1</th>\n",
       "      <td>global</td>\n",
       "      <td>49</td>\n",
       "    </tr>\n",
       "    <tr>\n",
       "      <th>2</th>\n",
       "      <td>science</td>\n",
       "      <td>46</td>\n",
       "    </tr>\n",
       "    <tr>\n",
       "      <th>3</th>\n",
       "      <td>amp</td>\n",
       "      <td>46</td>\n",
       "    </tr>\n",
       "    <tr>\n",
       "      <th>4</th>\n",
       "      <td>environment</td>\n",
       "      <td>40</td>\n",
       "    </tr>\n",
       "  </tbody>\n",
       "</table>\n",
       "</div>"
      ],
      "text/plain": [
       "         words  count\n",
       "0          new     53\n",
       "1       global     49\n",
       "2      science     46\n",
       "3          amp     46\n",
       "4  environment     40"
      ]
     },
     "execution_count": 72,
     "metadata": {},
     "output_type": "execute_result"
    }
   ],
   "source": [
    "# Flatten list of words in clean tweets\n",
    "all_words_nsw_nc = list(itertools.chain(*tweets_nsw_nc))\n",
    "\n",
    "# Create counter of words in clean tweets\n",
    "counts_nsw_nc = collections.Counter(all_words_nsw_nc)\n",
    "\n",
    "counts_nsw_nc.most_common(15)\n",
    "\n",
    "clean_tweets_ncw = pd.DataFrame(counts_nsw_nc.most_common(15),\n",
    "                             columns=['words', 'count'])\n",
    "clean_tweets_ncw.head()"
   ]
  },
  {
   "cell_type": "code",
   "execution_count": 74,
   "metadata": {},
   "outputs": [
    {
     "data": {
      "text/plain": [
       "Text(0.5, 1.0, 'Common Words Found in Tweets (Without Stop or Collection Words)')"
      ]
     },
     "execution_count": 74,
     "metadata": {},
     "output_type": "execute_result"
    },
    {
     "data": {
      "image/png": "[encoded data removed]",
      "text/plain": [
       "<Figure size 576x432 with 1 Axes>"
      ]
     },
     "metadata": {},
     "output_type": "display_data"
    }
   ],
   "source": [
    "ax = sns.barplot(x=\"count\", y=\"words\", orient='h', data=clean_tweets_ncw)\n",
    "ax.set_title(\"Common Words Found in Tweets (Without Stop or Collection Words)\")"
   ]
  },
  {
   "cell_type": "markdown",
   "metadata": {},
   "source": [
    "### Explore Co-occurring Words (Bigrams)\n",
    "\n",
    "To identify co-occurrence of words in the tweets, you can use `bigrams` from nltk.\n",
    "\n",
    "We first create a list of all bigrams (i.e. co-occurring words) in the tweets."
   ]
  },
  {
   "cell_type": "code",
   "execution_count": 83,
   "metadata": {},
   "outputs": [],
   "source": [
    "from nltk import bigrams"
   ]
  },
  {
   "cell_type": "code",
   "execution_count": 9,
   "metadata": {
    "scrolled": true
   },
   "outputs": [
    {
     "ename": "NameError",
     "evalue": "name 'tweets_nsw_nc' is not defined",
     "output_type": "error",
     "traceback": [
      "\u001b[1;31m---------------------------------------------------------------------------\u001b[0m",
      "\u001b[1;31mNameError\u001b[0m                                 Traceback (most recent call last)",
      "\u001b[1;32m<ipython-input-9-3c54221f8f82>\u001b[0m in \u001b[0;36m<module>\u001b[1;34m\u001b[0m\n\u001b[0;32m      1\u001b[0m \u001b[1;31m# Create list of lists containing bigrams in tweets\u001b[0m\u001b[1;33m\u001b[0m\u001b[1;33m\u001b[0m\u001b[1;33m\u001b[0m\u001b[0m\n\u001b[1;32m----> 2\u001b[1;33m \u001b[0mterms_bigram\u001b[0m \u001b[1;33m=\u001b[0m \u001b[1;33m[\u001b[0m\u001b[0mlist\u001b[0m\u001b[1;33m(\u001b[0m\u001b[0mbigrams\u001b[0m\u001b[1;33m(\u001b[0m\u001b[0mtweet\u001b[0m\u001b[1;33m)\u001b[0m\u001b[1;33m)\u001b[0m \u001b[1;32mfor\u001b[0m \u001b[0mtweet\u001b[0m \u001b[1;32min\u001b[0m \u001b[0mtweets_nsw_nc\u001b[0m\u001b[1;33m]\u001b[0m\u001b[1;33m\u001b[0m\u001b[1;33m\u001b[0m\u001b[0m\n\u001b[0m\u001b[0;32m      3\u001b[0m \u001b[1;33m\u001b[0m\u001b[0m\n\u001b[0;32m      4\u001b[0m \u001b[1;31m# View bigrams for the first tweet\u001b[0m\u001b[1;33m\u001b[0m\u001b[1;33m\u001b[0m\u001b[1;33m\u001b[0m\u001b[0m\n\u001b[0;32m      5\u001b[0m \u001b[0mterms_bigram\u001b[0m\u001b[1;33m[\u001b[0m\u001b[1;36m0\u001b[0m\u001b[1;33m]\u001b[0m\u001b[1;33m\u001b[0m\u001b[1;33m\u001b[0m\u001b[0m\n",
      "\u001b[1;31mNameError\u001b[0m: name 'tweets_nsw_nc' is not defined"
     ]
    }
   ],
   "source": [
    "# Create list of lists containing bigrams in tweets\n",
    "terms_bigram = [list(bigrams(tweet)) for tweet in tweets_nsw_nc]\n",
    "\n",
    "# View bigrams for the first tweet\n",
    "terms_bigram[0]"
   ]
  },
  {
   "cell_type": "markdown",
   "metadata": {},
   "source": [
    "We can now use a counter to capture the bigrams as dictionary keys and their counts are as dictionary values.\n",
    "\n",
    "We begin by flattening the list of bigrams. We can then create the counter and query the top 20 most common bigrams across the tweets."
   ]
  },
  {
   "cell_type": "code",
   "execution_count": 78,
   "metadata": {
    "scrolled": true
   },
   "outputs": [
    {
     "data": {
      "text/plain": [
       "[(('gpwx', 'globalwarming'), 14),\n",
       " (('global', 'warming'), 13),\n",
       " (('investor', 'ideas'), 11),\n",
       " (('cleantech', 'podcast'), 11),\n",
       " (('science', 'links'), 10),\n",
       " (('links', 'science'), 10),\n",
       " (('water', 'air'), 8),\n",
       " (('links', 'environment'), 8),\n",
       " (('environment', 'consumerism'), 8),\n",
       " (('consumerism', 'ecology'), 8),\n",
       " (('deserts', 'turning'), 8),\n",
       " (('turning', 'deserts'), 8),\n",
       " (('deserts', 'forests'), 8),\n",
       " (('rising', 'chance'), 8),\n",
       " (('chance', 'exceeding'), 8),\n",
       " (('exceeding', '15c'), 8),\n",
       " (('15c', 'global'), 8),\n",
       " (('global', 'target'), 8),\n",
       " (('could', 'make'), 7),\n",
       " (('environment', 'links'), 7)]"
      ]
     },
     "execution_count": 78,
     "metadata": {},
     "output_type": "execute_result"
    }
   ],
   "source": [
    "# Flatten list of bigrams in clean tweets\n",
    "bigrams = list(itertools.chain(*terms_bigram))\n",
    "\n",
    "# Create counter of words in clean bigrams\n",
    "bigram_counts = collections.Counter(bigrams)\n",
    "\n",
    "bigram_counts.most_common(20)"
   ]
  },
  {
   "cell_type": "code",
   "execution_count": 79,
   "metadata": {
    "scrolled": true
   },
   "outputs": [
    {
     "data": {
      "text/html": [
       "<div>\n",
       "<style scoped>\n",
       "    .dataframe tbody tr th:only-of-type {\n",
       "        vertical-align: middle;\n",
       "    }\n",
       "\n",
       "    .dataframe tbody tr th {\n",
       "        vertical-align: top;\n",
       "    }\n",
       "\n",
       "    .dataframe thead th {\n",
       "        text-align: right;\n",
       "    }\n",
       "</style>\n",
       "<table border=\"1\" class=\"dataframe\">\n",
       "  <thead>\n",
       "    <tr style=\"text-align: right;\">\n",
       "      <th></th>\n",
       "      <th>bigram</th>\n",
       "      <th>count</th>\n",
       "    </tr>\n",
       "  </thead>\n",
       "  <tbody>\n",
       "    <tr>\n",
       "      <th>0</th>\n",
       "      <td>(gpwx, globalwarming)</td>\n",
       "      <td>14</td>\n",
       "    </tr>\n",
       "    <tr>\n",
       "      <th>1</th>\n",
       "      <td>(global, warming)</td>\n",
       "      <td>13</td>\n",
       "    </tr>\n",
       "    <tr>\n",
       "      <th>2</th>\n",
       "      <td>(investor, ideas)</td>\n",
       "      <td>11</td>\n",
       "    </tr>\n",
       "    <tr>\n",
       "      <th>3</th>\n",
       "      <td>(cleantech, podcast)</td>\n",
       "      <td>11</td>\n",
       "    </tr>\n",
       "    <tr>\n",
       "      <th>4</th>\n",
       "      <td>(science, links)</td>\n",
       "      <td>10</td>\n",
       "    </tr>\n",
       "    <tr>\n",
       "      <th>5</th>\n",
       "      <td>(links, science)</td>\n",
       "      <td>10</td>\n",
       "    </tr>\n",
       "    <tr>\n",
       "      <th>6</th>\n",
       "      <td>(water, air)</td>\n",
       "      <td>8</td>\n",
       "    </tr>\n",
       "    <tr>\n",
       "      <th>7</th>\n",
       "      <td>(links, environment)</td>\n",
       "      <td>8</td>\n",
       "    </tr>\n",
       "    <tr>\n",
       "      <th>8</th>\n",
       "      <td>(environment, consumerism)</td>\n",
       "      <td>8</td>\n",
       "    </tr>\n",
       "    <tr>\n",
       "      <th>9</th>\n",
       "      <td>(consumerism, ecology)</td>\n",
       "      <td>8</td>\n",
       "    </tr>\n",
       "    <tr>\n",
       "      <th>10</th>\n",
       "      <td>(deserts, turning)</td>\n",
       "      <td>8</td>\n",
       "    </tr>\n",
       "    <tr>\n",
       "      <th>11</th>\n",
       "      <td>(turning, deserts)</td>\n",
       "      <td>8</td>\n",
       "    </tr>\n",
       "    <tr>\n",
       "      <th>12</th>\n",
       "      <td>(deserts, forests)</td>\n",
       "      <td>8</td>\n",
       "    </tr>\n",
       "    <tr>\n",
       "      <th>13</th>\n",
       "      <td>(rising, chance)</td>\n",
       "      <td>8</td>\n",
       "    </tr>\n",
       "    <tr>\n",
       "      <th>14</th>\n",
       "      <td>(chance, exceeding)</td>\n",
       "      <td>8</td>\n",
       "    </tr>\n",
       "    <tr>\n",
       "      <th>15</th>\n",
       "      <td>(exceeding, 15c)</td>\n",
       "      <td>8</td>\n",
       "    </tr>\n",
       "    <tr>\n",
       "      <th>16</th>\n",
       "      <td>(15c, global)</td>\n",
       "      <td>8</td>\n",
       "    </tr>\n",
       "    <tr>\n",
       "      <th>17</th>\n",
       "      <td>(global, target)</td>\n",
       "      <td>8</td>\n",
       "    </tr>\n",
       "    <tr>\n",
       "      <th>18</th>\n",
       "      <td>(could, make)</td>\n",
       "      <td>7</td>\n",
       "    </tr>\n",
       "    <tr>\n",
       "      <th>19</th>\n",
       "      <td>(environment, links)</td>\n",
       "      <td>7</td>\n",
       "    </tr>\n",
       "  </tbody>\n",
       "</table>\n",
       "</div>"
      ],
      "text/plain": [
       "                        bigram  count\n",
       "0        (gpwx, globalwarming)     14\n",
       "1            (global, warming)     13\n",
       "2            (investor, ideas)     11\n",
       "3         (cleantech, podcast)     11\n",
       "4             (science, links)     10\n",
       "5             (links, science)     10\n",
       "6                 (water, air)      8\n",
       "7         (links, environment)      8\n",
       "8   (environment, consumerism)      8\n",
       "9       (consumerism, ecology)      8\n",
       "10          (deserts, turning)      8\n",
       "11          (turning, deserts)      8\n",
       "12          (deserts, forests)      8\n",
       "13            (rising, chance)      8\n",
       "14         (chance, exceeding)      8\n",
       "15            (exceeding, 15c)      8\n",
       "16               (15c, global)      8\n",
       "17            (global, target)      8\n",
       "18               (could, make)      7\n",
       "19        (environment, links)      7"
      ]
     },
     "execution_count": 79,
     "metadata": {},
     "output_type": "execute_result"
    }
   ],
   "source": [
    "bigram_df = pd.DataFrame(bigram_counts.most_common(20),\n",
    "                             columns=['bigram', 'count'])\n",
    "\n",
    "bigram_df"
   ]
  },
  {
   "cell_type": "markdown",
   "metadata": {},
   "source": [
    "### Visualize Networks of Bigrams\n",
    "We can now use the `bigram_df` Pandas Dataframe to visualize the top 20 occurring bigrams as networks using the Python package `NetworkX`."
   ]
  },
  {
   "cell_type": "code",
   "execution_count": 81,
   "metadata": {},
   "outputs": [],
   "source": [
    "import networkx as nx"
   ]
  },
  {
   "cell_type": "code",
   "execution_count": 82,
   "metadata": {},
   "outputs": [],
   "source": [
    "# Create dictionary of bigrams and their counts\n",
    "d = bigram_df.set_index('bigram').T.to_dict('records')\n",
    "# Create network plot \n",
    "G = nx.Graph()\n",
    "\n",
    "# Create connections between nodes\n",
    "for k, v in d[0].items():\n",
    "    G.add_edge(k[0], k[1], weight=(v * 10))\n",
    "\n",
    "G.add_node(\"china\", weight=100)"
   ]
  },
  {
   "cell_type": "code",
   "execution_count": 86,
   "metadata": {},
   "outputs": [
    {
     "data": {
      "image/png": "[encoded data removed]",
      "text/plain": [
       "<Figure size 720x576 with 1 Axes>"
      ]
     },
     "metadata": {},
     "output_type": "display_data"
    }
   ],
   "source": [
    "# Draw the network using NetworkX and matplotlib\n",
    "\n",
    "fig, ax = plt.subplots(figsize=(10, 8))\n",
    "\n",
    "pos = nx.spring_layout(G, k=2)\n",
    "\n",
    "# Plot networks\n",
    "nx.draw_networkx(G, pos,\n",
    "                 font_size=16,\n",
    "                 width=3,\n",
    "                 edge_color='grey',\n",
    "                 node_color='purple',\n",
    "                 with_labels = False,\n",
    "                 ax=ax)\n",
    "\n",
    "# Create offset labels\n",
    "for key, value in pos.items():\n",
    "    x, y = value[0]+.135, value[1]+.045\n",
    "    ax.text(x, y,\n",
    "            s=key,\n",
    "            bbox=dict(facecolor='red', alpha=0.25),\n",
    "            horizontalalignment='center', fontsize=13)\n",
    "    \n",
    "plt.show()"
   ]
  },
  {
   "cell_type": "markdown",
   "metadata": {},
   "source": [
    "This plot displays the networks of co-occurring words in tweets on climate change."
   ]
  },
  {
   "cell_type": "markdown",
   "metadata": {},
   "source": [
    "# Tweet Sentiment Analysis\n",
    "\n",
    "We will use the Python package `textblob` to calculate the polarity values of individual tweets on climate change.\n",
    "\n",
    "Please check the [textblob documentation](https://textblob.readthedocs.io/en/dev/quickstart.html) for more details."
   ]
  },
  {
   "cell_type": "code",
   "execution_count": 90,
   "metadata": {},
   "outputs": [
    {
     "name": "stdout",
     "output_type": "stream",
     "text": [
      "Collecting textblob\n",
      "  Downloading textblob-0.15.3-py2.py3-none-any.whl (636 kB)\n",
      "\u001b[K     |████████████████████████████████| 636 kB 184 kB/s eta 0:00:01\n",
      "\u001b[?25hRequirement already satisfied: nltk>=3.1 in /Users/hbouamor/opt/anaconda3/lib/python3.7/site-packages (from textblob) (3.4.5)\n",
      "Requirement already satisfied: six in /Users/hbouamor/opt/anaconda3/lib/python3.7/site-packages (from nltk>=3.1->textblob) (1.14.0)\n",
      "Installing collected packages: textblob\n",
      "Successfully installed textblob-0.15.3\n"
     ]
    }
   ],
   "source": [
    "!pip install textblob"
   ]
  },
  {
   "cell_type": "code",
   "execution_count": 91,
   "metadata": {
    "scrolled": true
   },
   "outputs": [],
   "source": [
    "from textblob import TextBlob"
   ]
  },
  {
   "cell_type": "markdown",
   "metadata": {},
   "source": [
    "The `sentiment` property returns a namedtuple of the form `Sentiment(polarity, subjectivity)`. The polarity score is a float within the range [-1.0, 1.0]. The subjectivity is a float within the range [0.0, 1.0] where 0.0 is very objective and 1.0 is very subjective."
   ]
  },
  {
   "cell_type": "code",
   "execution_count": 99,
   "metadata": {},
   "outputs": [
    {
     "data": {
      "text/plain": [
       "(-0.10555555555555557,\n",
       " 0.13333333333333333,\n",
       " TextBlob(\"Australias failure to satisfy its international human rights obligations to take measures to prevent immediate an\"))"
      ]
     },
     "execution_count": 99,
     "metadata": {},
     "output_type": "execute_result"
    }
   ],
   "source": [
    "# Create textblob objects of the tweets\n",
    "sentiment_objects = [TextBlob(tweet) for tweet in all_tweets_no_urls]\n",
    "\n",
    "sentiment_objects[0].polarity, sentiment_objects[0].subjectivity , sentiment_objects[0]"
   ]
  },
  {
   "cell_type": "code",
   "execution_count": 94,
   "metadata": {},
   "outputs": [
    {
     "data": {
      "text/plain": [
       "[-0.10555555555555557,\n",
       " 'Australias failure to satisfy its international human rights obligations to take measures to prevent immediate an']"
      ]
     },
     "execution_count": 94,
     "metadata": {},
     "output_type": "execute_result"
    }
   ],
   "source": [
    "# Create list of polarity valuesx and tweet text\n",
    "sentiment_values = [[tweet.sentiment.polarity, str(tweet)] for tweet in sentiment_objects]\n",
    "\n",
    "sentiment_values[0]"
   ]
  },
  {
   "cell_type": "code",
   "execution_count": 95,
   "metadata": {
    "scrolled": true
   },
   "outputs": [
    {
     "data": {
      "text/html": [
       "<div>\n",
       "<style scoped>\n",
       "    .dataframe tbody tr th:only-of-type {\n",
       "        vertical-align: middle;\n",
       "    }\n",
       "\n",
       "    .dataframe tbody tr th {\n",
       "        vertical-align: top;\n",
       "    }\n",
       "\n",
       "    .dataframe thead th {\n",
       "        text-align: right;\n",
       "    }\n",
       "</style>\n",
       "<table border=\"1\" class=\"dataframe\">\n",
       "  <thead>\n",
       "    <tr style=\"text-align: right;\">\n",
       "      <th></th>\n",
       "      <th>polarity</th>\n",
       "      <th>tweet</th>\n",
       "    </tr>\n",
       "  </thead>\n",
       "  <tbody>\n",
       "    <tr>\n",
       "      <th>0</th>\n",
       "      <td>-0.105556</td>\n",
       "      <td>Australias failure to satisfy its internationa...</td>\n",
       "    </tr>\n",
       "    <tr>\n",
       "      <th>1</th>\n",
       "      <td>0.000000</td>\n",
       "      <td>Climate change is already harming human rights...</td>\n",
       "    </tr>\n",
       "    <tr>\n",
       "      <th>2</th>\n",
       "      <td>-0.500000</td>\n",
       "      <td>Indigenous peoples in Australia are especially...</td>\n",
       "    </tr>\n",
       "    <tr>\n",
       "      <th>3</th>\n",
       "      <td>0.000000</td>\n",
       "      <td>Now that everyone seems to understand the urge...</td>\n",
       "    </tr>\n",
       "    <tr>\n",
       "      <th>4</th>\n",
       "      <td>0.160000</td>\n",
       "      <td>Climate change mitigation agroecological zone ...</td>\n",
       "    </tr>\n",
       "  </tbody>\n",
       "</table>\n",
       "</div>"
      ],
      "text/plain": [
       "   polarity                                              tweet\n",
       "0 -0.105556  Australias failure to satisfy its internationa...\n",
       "1  0.000000  Climate change is already harming human rights...\n",
       "2 -0.500000  Indigenous peoples in Australia are especially...\n",
       "3  0.000000  Now that everyone seems to understand the urge...\n",
       "4  0.160000  Climate change mitigation agroecological zone ..."
      ]
     },
     "execution_count": 95,
     "metadata": {},
     "output_type": "execute_result"
    }
   ],
   "source": [
    "# Create dataframe containing the polarity value and tweet text\n",
    "sentiment_df = pd.DataFrame(sentiment_values, columns=[\"polarity\", \"tweet\"])\n",
    "\n",
    "sentiment_df.head()\n"
   ]
  },
  {
   "cell_type": "markdown",
   "metadata": {},
   "source": [
    "These polarity values can be plotted in a histogram, which can help to highlight in the overall sentiment (i.e. more positivity or negativity) toward the subject."
   ]
  },
  {
   "cell_type": "code",
   "execution_count": 96,
   "metadata": {},
   "outputs": [
    {
     "data": {
      "image/png": "[encoded data removed]",
      "text/plain": [
       "<Figure size 576x432 with 1 Axes>"
      ]
     },
     "metadata": {},
     "output_type": "display_data"
    }
   ],
   "source": [
    "# Using matplotlib\n",
    "fig, ax = plt.subplots(figsize=(8, 6))\n",
    "\n",
    "# Plot histogram of the polarity values\n",
    "sentiment_df.hist(bins=[-1, -0.75, -0.5, -0.25, 0.25, 0.5, 0.75, 1],\n",
    "             ax=ax,\n",
    "             color=\"purple\")\n",
    "\n",
    "plt.title(\"Sentiments from Tweets on Climate Change\")\n",
    "plt.show()"
   ]
  },
  {
   "cell_type": "markdown",
   "metadata": {},
   "source": [
    "This plot displays a histogram of polarity values for tweets on climate change."
   ]
  },
  {
   "cell_type": "markdown",
   "metadata": {},
   "source": [
    "To get a better visual of the polarit values, it can be helpful to remove the polarity values equal to zero and create a break in the histogram at zero."
   ]
  },
  {
   "cell_type": "code",
   "execution_count": 97,
   "metadata": {},
   "outputs": [
    {
     "data": {
      "image/png": "[encoded data removed]",
      "text/plain": [
       "<Figure size 576x432 with 1 Axes>"
      ]
     },
     "metadata": {},
     "output_type": "display_data"
    }
   ],
   "source": [
    "# Remove polarity values equal to zero\n",
    "sentiment_df = sentiment_df[sentiment_df.polarity != 0]\n",
    "fig, ax = plt.subplots(figsize=(8, 6))\n",
    "\n",
    "# Plot histogram with break at zero\n",
    "sentiment_df.hist(bins=[-1, -0.75, -0.5, -0.25, 0.0, 0.25, 0.5, 0.75, 1],\n",
    "             ax=ax,\n",
    "             color=\"purple\")\n",
    "\n",
    "plt.title(\"Sentiments from Tweets on Climate Change\")\n",
    "plt.show()"
   ]
  },
  {
   "cell_type": "markdown",
   "metadata": {},
   "source": [
    "This plot displays a revised histogram of polarity values for tweets on climate change. For this histogram, polarity values equal to zero have been removed, and a break has been added at zero, to better highlight the distribution of polarity values."
   ]
  },
  {
   "cell_type": "markdown",
   "metadata": {},
   "source": [
    "Based on this histogram, would you say that the sentiments from the Climate Change tweets are more positive or negative?"
   ]
  },
  {
   "cell_type": "markdown",
   "metadata": {},
   "source": [
    "Based on this histogram, would you say that the sentiments from the Climate Change tweets are more positive or negative"
   ]
  }
 ],
 "metadata": {
  "kernelspec": {
   "display_name": "Python 3",
   "language": "python",
   "name": "python3"
  },
  "language_info": {
   "codemirror_mode": {
    "name": "ipython",
    "version": 3
   },
   "file_extension": ".py",
   "mimetype": "text/x-python",
   "name": "python",
   "nbconvert_exporter": "python",
   "pygments_lexer": "ipython3",
   "version": "3.7.6"
  }
 },
 "nbformat": 4,
 "nbformat_minor": 4
}
