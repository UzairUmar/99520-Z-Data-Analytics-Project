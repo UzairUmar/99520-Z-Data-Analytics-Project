{
 "cells": [
  {
   "cell_type": "code",
   "execution_count": 1,
   "metadata": {},
   "outputs": [],
   "source": [
    "import numpy as np # Import Numpy for data statistical analysis \n",
    "# Numpy is the fundamental package for scientific computing with Python\n",
    "import pandas as pd # Import Pandas for data manipulation using dataframes\n",
    "import matplotlib.pyplot as plt\n",
    "%matplotlib inline\n",
    "import seaborn as sns\n",
    "\n",
    "import json\n",
    "from pprint import pprint\n",
    "from langdetect import detect\n",
    "import urllib\n",
    "\n",
    "import os\n",
    "import itertools\n",
    "import collections\n",
    "import nltk\n",
    "from nltk.corpus import stopwords\n",
    "from nltk import bigrams\n",
    "# re stands for regular expressions. \n",
    "# Regular expressions are a special syntax that is used to identify patterns in a string.\n",
    "import re\n",
    "import networkx as nx\n",
    "from textblob import TextBlob\n",
    "\n",
    "from nltk import bigrams\n",
    "\n",
    "import warnings\n",
    "warnings.filterwarnings(\"ignore\")\n",
    "\n",
    "sns.set(font_scale=1.5)\n",
    "sns.set_style(\"white\")"
   ]
  },
  {
   "cell_type": "markdown",
   "metadata": {},
   "source": [
    "Importing Data from file"
   ]
  },
  {
   "cell_type": "code",
   "execution_count": 2,
   "metadata": {},
   "outputs": [],
   "source": [
    "with open('dataFiltYt.json') as f:\n",
    "    data = json.load(f)"
   ]
  },
  {
   "cell_type": "code",
   "execution_count": 3,
   "metadata": {},
   "outputs": [
    {
     "data": {
      "text/html": [
       "<div>\n",
       "<style scoped>\n",
       "    .dataframe tbody tr th:only-of-type {\n",
       "        vertical-align: middle;\n",
       "    }\n",
       "\n",
       "    .dataframe tbody tr th {\n",
       "        vertical-align: top;\n",
       "    }\n",
       "\n",
       "    .dataframe thead th {\n",
       "        text-align: right;\n",
       "    }\n",
       "</style>\n",
       "<table border=\"1\" class=\"dataframe\">\n",
       "  <thead>\n",
       "    <tr style=\"text-align: right;\">\n",
       "      <th></th>\n",
       "      <th>commentMadeOn</th>\n",
       "      <th>commentText</th>\n",
       "      <th>totalLikeCount</th>\n",
       "      <th>totalRepliesCount</th>\n",
       "    </tr>\n",
       "  </thead>\n",
       "  <tbody>\n",
       "    <tr>\n",
       "      <th>0</th>\n",
       "      <td>2019-10-14T17:11:04Z</td>\n",
       "      <td>Fuck u and stop ur adds</td>\n",
       "      <td>0</td>\n",
       "      <td>0</td>\n",
       "    </tr>\n",
       "    <tr>\n",
       "      <th>1</th>\n",
       "      <td>2018-10-14T10:44:47Z</td>\n",
       "      <td>I love carriage</td>\n",
       "      <td>0</td>\n",
       "      <td>0</td>\n",
       "    </tr>\n",
       "    <tr>\n",
       "      <th>2</th>\n",
       "      <td>2020-04-23T16:00:42Z</td>\n",
       "      <td>Oo fronliner sila kaya dapat hnd hinuhuli ng i...</td>\n",
       "      <td>0</td>\n",
       "      <td>0</td>\n",
       "    </tr>\n",
       "    <tr>\n",
       "      <th>3</th>\n",
       "      <td>2020-04-23T12:20:56Z</td>\n",
       "      <td>Sa katulad mo, kulang pa ang THANK YOU! Sir, G...</td>\n",
       "      <td>0</td>\n",
       "      <td>0</td>\n",
       "    </tr>\n",
       "    <tr>\n",
       "      <th>4</th>\n",
       "      <td>2020-04-23T12:18:48Z</td>\n",
       "      <td>Salute kuya grabfood driver!</td>\n",
       "      <td>1</td>\n",
       "      <td>0</td>\n",
       "    </tr>\n",
       "    <tr>\n",
       "      <th>...</th>\n",
       "      <td>...</td>\n",
       "      <td>...</td>\n",
       "      <td>...</td>\n",
       "      <td>...</td>\n",
       "    </tr>\n",
       "    <tr>\n",
       "      <th>1260</th>\n",
       "      <td>2018-10-22T10:49:18Z</td>\n",
       "      <td>We don’t have car for delivery. How can we hav...</td>\n",
       "      <td>0</td>\n",
       "      <td>0</td>\n",
       "    </tr>\n",
       "    <tr>\n",
       "      <th>1261</th>\n",
       "      <td>2018-01-25T18:39:58Z</td>\n",
       "      <td>Mapcode not right alwasy</td>\n",
       "      <td>0</td>\n",
       "      <td>0</td>\n",
       "    </tr>\n",
       "    <tr>\n",
       "      <th>1262</th>\n",
       "      <td>2013-08-19T06:07:56Z</td>\n",
       "      <td>Hey Jonathan - sorry about your experience. If...</td>\n",
       "      <td>0</td>\n",
       "      <td>0</td>\n",
       "    </tr>\n",
       "    <tr>\n",
       "      <th>1263</th>\n",
       "      <td>2020-06-24T18:04:59Z</td>\n",
       "      <td>Careem app not showing any restaurant name lis...</td>\n",
       "      <td>0</td>\n",
       "      <td>0</td>\n",
       "    </tr>\n",
       "    <tr>\n",
       "      <th>1264</th>\n",
       "      <td>2020-01-07T11:36:00Z</td>\n",
       "      <td>I want join to careem food delivery so how</td>\n",
       "      <td>0</td>\n",
       "      <td>0</td>\n",
       "    </tr>\n",
       "  </tbody>\n",
       "</table>\n",
       "<p>1265 rows × 4 columns</p>\n",
       "</div>"
      ],
      "text/plain": [
       "             commentMadeOn                                        commentText  \\\n",
       "0     2019-10-14T17:11:04Z                            Fuck u and stop ur adds   \n",
       "1     2018-10-14T10:44:47Z                                    I love carriage   \n",
       "2     2020-04-23T16:00:42Z  Oo fronliner sila kaya dapat hnd hinuhuli ng i...   \n",
       "3     2020-04-23T12:20:56Z  Sa katulad mo, kulang pa ang THANK YOU! Sir, G...   \n",
       "4     2020-04-23T12:18:48Z                       Salute kuya grabfood driver!   \n",
       "...                    ...                                                ...   \n",
       "1260  2018-10-22T10:49:18Z  We don’t have car for delivery. How can we hav...   \n",
       "1261  2018-01-25T18:39:58Z                           Mapcode not right alwasy   \n",
       "1262  2013-08-19T06:07:56Z  Hey Jonathan - sorry about your experience. If...   \n",
       "1263  2020-06-24T18:04:59Z  Careem app not showing any restaurant name lis...   \n",
       "1264  2020-01-07T11:36:00Z         I want join to careem food delivery so how   \n",
       "\n",
       "      totalLikeCount  totalRepliesCount  \n",
       "0                  0                  0  \n",
       "1                  0                  0  \n",
       "2                  0                  0  \n",
       "3                  0                  0  \n",
       "4                  1                  0  \n",
       "...              ...                ...  \n",
       "1260               0                  0  \n",
       "1261               0                  0  \n",
       "1262               0                  0  \n",
       "1263               0                  0  \n",
       "1264               0                  0  \n",
       "\n",
       "[1265 rows x 4 columns]"
      ]
     },
     "execution_count": 3,
     "metadata": {},
     "output_type": "execute_result"
    }
   ],
   "source": [
    "df1 = pd.json_normalize((data[i] for i in data.keys()), 'comments')\n",
    "field = ['commentMadeOn', 'commentText', 'totalLikeCount', 'totalRepliesCount']\n",
    "\n",
    "data_df = df1[field]\n",
    "\n",
    "data_df"
   ]
  },
  {
   "cell_type": "code",
   "execution_count": 5,
   "metadata": {},
   "outputs": [
    {
     "name": "stdout",
     "output_type": "stream",
     "text": [
      "<class 'pandas.core.frame.DataFrame'>\n",
      "RangeIndex: 1265 entries, 0 to 1264\n",
      "Data columns (total 4 columns):\n",
      " #   Column             Non-Null Count  Dtype \n",
      "---  ------             --------------  ----- \n",
      " 0   commentMadeOn      1265 non-null   object\n",
      " 1   commentText        1265 non-null   object\n",
      " 2   totalLikeCount     1265 non-null   int64 \n",
      " 3   totalRepliesCount  1265 non-null   int64 \n",
      "dtypes: int64(2), object(2)\n",
      "memory usage: 39.7+ KB\n"
     ]
    }
   ],
   "source": [
    "data_df.info()"
   ]
  },
  {
   "cell_type": "code",
   "execution_count": 4,
   "metadata": {},
   "outputs": [
    {
     "data": {
      "text/html": [
       "<div>\n",
       "<style scoped>\n",
       "    .dataframe tbody tr th:only-of-type {\n",
       "        vertical-align: middle;\n",
       "    }\n",
       "\n",
       "    .dataframe tbody tr th {\n",
       "        vertical-align: top;\n",
       "    }\n",
       "\n",
       "    .dataframe thead th {\n",
       "        text-align: right;\n",
       "    }\n",
       "</style>\n",
       "<table border=\"1\" class=\"dataframe\">\n",
       "  <thead>\n",
       "    <tr style=\"text-align: right;\">\n",
       "      <th></th>\n",
       "      <th>commentDate</th>\n",
       "      <th>commentText</th>\n",
       "      <th>totalLikeCount</th>\n",
       "      <th>totalRepliesCount</th>\n",
       "    </tr>\n",
       "  </thead>\n",
       "  <tbody>\n",
       "    <tr>\n",
       "      <th>1262</th>\n",
       "      <td>2013-08-19</td>\n",
       "      <td>Hey Jonathan - sorry about your experience. If...</td>\n",
       "      <td>0</td>\n",
       "      <td>0</td>\n",
       "    </tr>\n",
       "    <tr>\n",
       "      <th>368</th>\n",
       "      <td>2017-03-31</td>\n",
       "      <td>Great job thanks MasterCard</td>\n",
       "      <td>0</td>\n",
       "      <td>0</td>\n",
       "    </tr>\n",
       "    <tr>\n",
       "      <th>195</th>\n",
       "      <td>2017-11-09</td>\n",
       "      <td>NICE</td>\n",
       "      <td>1</td>\n",
       "      <td>0</td>\n",
       "    </tr>\n",
       "    <tr>\n",
       "      <th>377</th>\n",
       "      <td>2017-11-24</td>\n",
       "      <td>Nice brother</td>\n",
       "      <td>0</td>\n",
       "      <td>0</td>\n",
       "    </tr>\n",
       "    <tr>\n",
       "      <th>378</th>\n",
       "      <td>2017-11-24</td>\n",
       "      <td>fabulous</td>\n",
       "      <td>0</td>\n",
       "      <td>0</td>\n",
       "    </tr>\n",
       "    <tr>\n",
       "      <th>...</th>\n",
       "      <td>...</td>\n",
       "      <td>...</td>\n",
       "      <td>...</td>\n",
       "      <td>...</td>\n",
       "    </tr>\n",
       "    <tr>\n",
       "      <th>450</th>\n",
       "      <td>2020-07-10</td>\n",
       "      <td>@PMN5AT</td>\n",
       "      <td>0</td>\n",
       "      <td>0</td>\n",
       "    </tr>\n",
       "    <tr>\n",
       "      <th>174</th>\n",
       "      <td>2020-07-10</td>\n",
       "      <td>Good yar</td>\n",
       "      <td>1</td>\n",
       "      <td>0</td>\n",
       "    </tr>\n",
       "    <tr>\n",
       "      <th>589</th>\n",
       "      <td>2020-07-10</td>\n",
       "      <td>Boycott uber which supress people under occupu...</td>\n",
       "      <td>0</td>\n",
       "      <td>0</td>\n",
       "    </tr>\n",
       "    <tr>\n",
       "      <th>588</th>\n",
       "      <td>2020-07-10</td>\n",
       "      <td>Dont use our terms #FreePalestine 🇵🇸🇵🇸🇵🇸</td>\n",
       "      <td>0</td>\n",
       "      <td>0</td>\n",
       "    </tr>\n",
       "    <tr>\n",
       "      <th>587</th>\n",
       "      <td>2020-07-11</td>\n",
       "      <td>India is their in your list?...if not then, Pl...</td>\n",
       "      <td>0</td>\n",
       "      <td>0</td>\n",
       "    </tr>\n",
       "  </tbody>\n",
       "</table>\n",
       "<p>1265 rows × 4 columns</p>\n",
       "</div>"
      ],
      "text/plain": [
       "     commentDate                                        commentText  \\\n",
       "1262  2013-08-19  Hey Jonathan - sorry about your experience. If...   \n",
       "368   2017-03-31                        Great job thanks MasterCard   \n",
       "195   2017-11-09                                               NICE   \n",
       "377   2017-11-24                                       Nice brother   \n",
       "378   2017-11-24                                           fabulous   \n",
       "...          ...                                                ...   \n",
       "450   2020-07-10                                            @PMN5AT   \n",
       "174   2020-07-10                                           Good yar   \n",
       "589   2020-07-10  Boycott uber which supress people under occupu...   \n",
       "588   2020-07-10           Dont use our terms #FreePalestine 🇵🇸🇵🇸🇵🇸   \n",
       "587   2020-07-11  India is their in your list?...if not then, Pl...   \n",
       "\n",
       "      totalLikeCount  totalRepliesCount  \n",
       "1262               0                  0  \n",
       "368                0                  0  \n",
       "195                1                  0  \n",
       "377                0                  0  \n",
       "378                0                  0  \n",
       "...              ...                ...  \n",
       "450                0                  0  \n",
       "174                1                  0  \n",
       "589                0                  0  \n",
       "588                0                  0  \n",
       "587                0                  0  \n",
       "\n",
       "[1265 rows x 4 columns]"
      ]
     },
     "execution_count": 4,
     "metadata": {},
     "output_type": "execute_result"
    }
   ],
   "source": [
    "data_df['commentMadeOn'] = pd.to_datetime(data_df['commentMadeOn'])\n",
    "data_df['commentDate'] = data_df['commentMadeOn'].dt.date\n",
    "\n",
    "comFields = [\"commentDate\", \"commentText\", \"totalLikeCount\", \"totalRepliesCount\"]\n",
    "com_df = data_df[comFields]\n",
    "\n",
    "com_df.sort_values(by = 'commentDate')"
   ]
  },
  {
   "cell_type": "code",
   "execution_count": 5,
   "metadata": {
    "scrolled": true
   },
   "outputs": [],
   "source": [
    "com_df['commentDate'] = pd.to_datetime(com_df['commentDate'])\n",
    "# com_df"
   ]
  },
  {
   "cell_type": "code",
   "execution_count": 18,
   "metadata": {},
   "outputs": [
    {
     "name": "stdout",
     "output_type": "stream",
     "text": [
      "<class 'pandas.core.frame.DataFrame'>\n",
      "RangeIndex: 1265 entries, 0 to 1264\n",
      "Data columns (total 4 columns):\n",
      " #   Column             Non-Null Count  Dtype         \n",
      "---  ------             --------------  -----         \n",
      " 0   commentDate        1265 non-null   datetime64[ns]\n",
      " 1   commentText        1265 non-null   object        \n",
      " 2   totalLikeCount     1265 non-null   int64         \n",
      " 3   totalRepliesCount  1265 non-null   int64         \n",
      "dtypes: datetime64[ns](1), int64(2), object(1)\n",
      "memory usage: 39.7+ KB\n"
     ]
    }
   ],
   "source": [
    "com_df.info()"
   ]
  },
  {
   "cell_type": "markdown",
   "metadata": {},
   "source": [
    "# Kept comments upto 29th Feb 2020"
   ]
  },
  {
   "cell_type": "code",
   "execution_count": 6,
   "metadata": {},
   "outputs": [
    {
     "data": {
      "text/html": [
       "<div>\n",
       "<style scoped>\n",
       "    .dataframe tbody tr th:only-of-type {\n",
       "        vertical-align: middle;\n",
       "    }\n",
       "\n",
       "    .dataframe tbody tr th {\n",
       "        vertical-align: top;\n",
       "    }\n",
       "\n",
       "    .dataframe thead th {\n",
       "        text-align: right;\n",
       "    }\n",
       "</style>\n",
       "<table border=\"1\" class=\"dataframe\">\n",
       "  <thead>\n",
       "    <tr style=\"text-align: right;\">\n",
       "      <th></th>\n",
       "      <th>commentDate</th>\n",
       "      <th>commentText</th>\n",
       "      <th>totalLikeCount</th>\n",
       "      <th>totalRepliesCount</th>\n",
       "    </tr>\n",
       "  </thead>\n",
       "  <tbody>\n",
       "    <tr>\n",
       "      <th>1262</th>\n",
       "      <td>2013-08-19</td>\n",
       "      <td>Hey Jonathan - sorry about your experience. If...</td>\n",
       "      <td>0</td>\n",
       "      <td>0</td>\n",
       "    </tr>\n",
       "    <tr>\n",
       "      <th>368</th>\n",
       "      <td>2017-03-31</td>\n",
       "      <td>Great job thanks MasterCard</td>\n",
       "      <td>0</td>\n",
       "      <td>0</td>\n",
       "    </tr>\n",
       "    <tr>\n",
       "      <th>195</th>\n",
       "      <td>2017-11-09</td>\n",
       "      <td>NICE</td>\n",
       "      <td>1</td>\n",
       "      <td>0</td>\n",
       "    </tr>\n",
       "    <tr>\n",
       "      <th>378</th>\n",
       "      <td>2017-11-24</td>\n",
       "      <td>fabulous</td>\n",
       "      <td>0</td>\n",
       "      <td>0</td>\n",
       "    </tr>\n",
       "    <tr>\n",
       "      <th>377</th>\n",
       "      <td>2017-11-24</td>\n",
       "      <td>Nice brother</td>\n",
       "      <td>0</td>\n",
       "      <td>0</td>\n",
       "    </tr>\n",
       "    <tr>\n",
       "      <th>...</th>\n",
       "      <td>...</td>\n",
       "      <td>...</td>\n",
       "      <td>...</td>\n",
       "      <td>...</td>\n",
       "    </tr>\n",
       "    <tr>\n",
       "      <th>737</th>\n",
       "      <td>2020-02-23</td>\n",
       "      <td>Not as good as when they started but still goo...</td>\n",
       "      <td>0</td>\n",
       "      <td>0</td>\n",
       "    </tr>\n",
       "    <tr>\n",
       "      <th>736</th>\n",
       "      <td>2020-02-27</td>\n",
       "      <td>Sorry, buddy, but street food has been a stapl...</td>\n",
       "      <td>0</td>\n",
       "      <td>0</td>\n",
       "    </tr>\n",
       "    <tr>\n",
       "      <th>735</th>\n",
       "      <td>2020-02-28</td>\n",
       "      <td>I'm Arab and watching something from my religi...</td>\n",
       "      <td>0</td>\n",
       "      <td>0</td>\n",
       "    </tr>\n",
       "    <tr>\n",
       "      <th>479</th>\n",
       "      <td>2020-02-28</td>\n",
       "      <td>🤣🤣🤣🤣🤣🤣🤣😂😂😂</td>\n",
       "      <td>0</td>\n",
       "      <td>0</td>\n",
       "    </tr>\n",
       "    <tr>\n",
       "      <th>398</th>\n",
       "      <td>2020-02-29</td>\n",
       "      <td>Missy this application 😭😭</td>\n",
       "      <td>1</td>\n",
       "      <td>0</td>\n",
       "    </tr>\n",
       "  </tbody>\n",
       "</table>\n",
       "<p>699 rows × 4 columns</p>\n",
       "</div>"
      ],
      "text/plain": [
       "     commentDate                                        commentText  \\\n",
       "1262  2013-08-19  Hey Jonathan - sorry about your experience. If...   \n",
       "368   2017-03-31                        Great job thanks MasterCard   \n",
       "195   2017-11-09                                               NICE   \n",
       "378   2017-11-24                                           fabulous   \n",
       "377   2017-11-24                                       Nice brother   \n",
       "...          ...                                                ...   \n",
       "737   2020-02-23  Not as good as when they started but still goo...   \n",
       "736   2020-02-27  Sorry, buddy, but street food has been a stapl...   \n",
       "735   2020-02-28  I'm Arab and watching something from my religi...   \n",
       "479   2020-02-28                                         🤣🤣🤣🤣🤣🤣🤣😂😂😂   \n",
       "398   2020-02-29                          Missy this application 😭😭   \n",
       "\n",
       "      totalLikeCount  totalRepliesCount  \n",
       "1262               0                  0  \n",
       "368                0                  0  \n",
       "195                1                  0  \n",
       "378                0                  0  \n",
       "377                0                  0  \n",
       "...              ...                ...  \n",
       "737                0                  0  \n",
       "736                0                  0  \n",
       "735                0                  0  \n",
       "479                0                  0  \n",
       "398                1                  0  \n",
       "\n",
       "[699 rows x 4 columns]"
      ]
     },
     "execution_count": 6,
     "metadata": {},
     "output_type": "execute_result"
    }
   ],
   "source": [
    "split_date = pd.datetime(2020,2,29)\n",
    "\n",
    "pre_df = com_df.loc[com_df['commentDate'] <= split_date]\n",
    "# df_test = df.loc[df['Date'] > split_date]\n",
    "pre_df_sorted = pre_df.sort_values(by='commentDate')\n",
    "pre_df_sorted"
   ]
  },
  {
   "cell_type": "markdown",
   "metadata": {},
   "source": [
    "# Language Cleaning"
   ]
  },
  {
   "cell_type": "code",
   "execution_count": 7,
   "metadata": {},
   "outputs": [],
   "source": [
    "for com in pre_df_sorted['commentText']:\n",
    "    try:\n",
    "        language = detect(com)\n",
    "    except:\n",
    "        language = \"error\"\n",
    "        unDetectable = pre_df_sorted[pre_df_sorted['commentText'] == com].index\n",
    "        pre_df_sorted.drop(unDetectable, inplace = True)\n",
    "#         print('The Culprit: ', com)"
   ]
  },
  {
   "cell_type": "code",
   "execution_count": 12,
   "metadata": {},
   "outputs": [
    {
     "name": "stdout",
     "output_type": "stream",
     "text": [
      "4\n"
     ]
    }
   ],
   "source": [
    "otherLang = []\n",
    "for com in pre_df_sorted['commentText']:\n",
    "    if detect(com) != 'en':\n",
    "        otherLang.append(pre_df_sorted[pre_df_sorted['commentText'] == com].index)\n",
    "        \n",
    "print(len(otherLang))"
   ]
  },
  {
   "cell_type": "code",
   "execution_count": 13,
   "metadata": {},
   "outputs": [],
   "source": [
    "for i in otherLang:\n",
    "    pre_df_sorted.drop(i, inplace=True)"
   ]
  },
  {
   "cell_type": "code",
   "execution_count": 14,
   "metadata": {},
   "outputs": [
    {
     "data": {
      "text/html": [
       "<div>\n",
       "<style scoped>\n",
       "    .dataframe tbody tr th:only-of-type {\n",
       "        vertical-align: middle;\n",
       "    }\n",
       "\n",
       "    .dataframe tbody tr th {\n",
       "        vertical-align: top;\n",
       "    }\n",
       "\n",
       "    .dataframe thead th {\n",
       "        text-align: right;\n",
       "    }\n",
       "</style>\n",
       "<table border=\"1\" class=\"dataframe\">\n",
       "  <thead>\n",
       "    <tr style=\"text-align: right;\">\n",
       "      <th></th>\n",
       "      <th>commentDate</th>\n",
       "      <th>commentText</th>\n",
       "      <th>totalLikeCount</th>\n",
       "      <th>totalRepliesCount</th>\n",
       "    </tr>\n",
       "  </thead>\n",
       "  <tbody>\n",
       "    <tr>\n",
       "      <th>1262</th>\n",
       "      <td>2013-08-19</td>\n",
       "      <td>Hey Jonathan - sorry about your experience. If...</td>\n",
       "      <td>0</td>\n",
       "      <td>0</td>\n",
       "    </tr>\n",
       "    <tr>\n",
       "      <th>368</th>\n",
       "      <td>2017-03-31</td>\n",
       "      <td>Great job thanks MasterCard</td>\n",
       "      <td>0</td>\n",
       "      <td>0</td>\n",
       "    </tr>\n",
       "    <tr>\n",
       "      <th>377</th>\n",
       "      <td>2017-11-24</td>\n",
       "      <td>Nice brother</td>\n",
       "      <td>0</td>\n",
       "      <td>0</td>\n",
       "    </tr>\n",
       "    <tr>\n",
       "      <th>374</th>\n",
       "      <td>2017-12-01</td>\n",
       "      <td>Nice bro</td>\n",
       "      <td>0</td>\n",
       "      <td>0</td>\n",
       "    </tr>\n",
       "    <tr>\n",
       "      <th>1261</th>\n",
       "      <td>2018-01-25</td>\n",
       "      <td>Mapcode not right alwasy</td>\n",
       "      <td>0</td>\n",
       "      <td>0</td>\n",
       "    </tr>\n",
       "    <tr>\n",
       "      <th>...</th>\n",
       "      <td>...</td>\n",
       "      <td>...</td>\n",
       "      <td>...</td>\n",
       "      <td>...</td>\n",
       "    </tr>\n",
       "    <tr>\n",
       "      <th>738</th>\n",
       "      <td>2020-02-21</td>\n",
       "      <td>wow. huge respect.</td>\n",
       "      <td>0</td>\n",
       "      <td>0</td>\n",
       "    </tr>\n",
       "    <tr>\n",
       "      <th>737</th>\n",
       "      <td>2020-02-23</td>\n",
       "      <td>Not as good as when they started but still goo...</td>\n",
       "      <td>0</td>\n",
       "      <td>0</td>\n",
       "    </tr>\n",
       "    <tr>\n",
       "      <th>736</th>\n",
       "      <td>2020-02-27</td>\n",
       "      <td>Sorry, buddy, but street food has been a stapl...</td>\n",
       "      <td>0</td>\n",
       "      <td>0</td>\n",
       "    </tr>\n",
       "    <tr>\n",
       "      <th>735</th>\n",
       "      <td>2020-02-28</td>\n",
       "      <td>I'm Arab and watching something from my religi...</td>\n",
       "      <td>0</td>\n",
       "      <td>0</td>\n",
       "    </tr>\n",
       "    <tr>\n",
       "      <th>398</th>\n",
       "      <td>2020-02-29</td>\n",
       "      <td>Missy this application 😭😭</td>\n",
       "      <td>1</td>\n",
       "      <td>0</td>\n",
       "    </tr>\n",
       "  </tbody>\n",
       "</table>\n",
       "<p>527 rows × 4 columns</p>\n",
       "</div>"
      ],
      "text/plain": [
       "     commentDate                                        commentText  \\\n",
       "1262  2013-08-19  Hey Jonathan - sorry about your experience. If...   \n",
       "368   2017-03-31                        Great job thanks MasterCard   \n",
       "377   2017-11-24                                       Nice brother   \n",
       "374   2017-12-01                                           Nice bro   \n",
       "1261  2018-01-25                           Mapcode not right alwasy   \n",
       "...          ...                                                ...   \n",
       "738   2020-02-21                                 wow. huge respect.   \n",
       "737   2020-02-23  Not as good as when they started but still goo...   \n",
       "736   2020-02-27  Sorry, buddy, but street food has been a stapl...   \n",
       "735   2020-02-28  I'm Arab and watching something from my religi...   \n",
       "398   2020-02-29                          Missy this application 😭😭   \n",
       "\n",
       "      totalLikeCount  totalRepliesCount  \n",
       "1262               0                  0  \n",
       "368                0                  0  \n",
       "377                0                  0  \n",
       "374                0                  0  \n",
       "1261               0                  0  \n",
       "...              ...                ...  \n",
       "738                0                  0  \n",
       "737                0                  0  \n",
       "736                0                  0  \n",
       "735                0                  0  \n",
       "398                1                  0  \n",
       "\n",
       "[527 rows x 4 columns]"
      ]
     },
     "execution_count": 14,
     "metadata": {},
     "output_type": "execute_result"
    }
   ],
   "source": [
    "pre_df_sorted"
   ]
  },
  {
   "cell_type": "markdown",
   "metadata": {},
   "source": [
    "# URL and Punctuation Cleaning"
   ]
  },
  {
   "cell_type": "code",
   "execution_count": 15,
   "metadata": {},
   "outputs": [],
   "source": [
    "def remove_url(txt):\n",
    "    \"\"\"Replace URLs found in a text string with nothing \n",
    "    (i.e. it will remove the URL from the string).\n",
    "\n",
    "    Parameters\n",
    "    ----------\n",
    "    txt : string\n",
    "        A text string that you want to parse and remove urls.\n",
    "\n",
    "    Returns\n",
    "    -------\n",
    "    The same txt string with url's removed.\n",
    "    \"\"\"\n",
    "\n",
    "    return \" \".join(re.sub(\"([^0-9A-Za-z \\t])|(\\w+:\\/\\/\\S+)\", \"\", txt).split())"
   ]
  },
  {
   "cell_type": "code",
   "execution_count": 16,
   "metadata": {},
   "outputs": [
    {
     "name": "stdout",
     "output_type": "stream",
     "text": [
      "527\n"
     ]
    }
   ],
   "source": [
    "coms_no_url = [remove_url(text) for text in pre_df_sorted['commentText']]\n",
    "print(len(coms_no_url))"
   ]
  },
  {
   "cell_type": "code",
   "execution_count": 17,
   "metadata": {},
   "outputs": [],
   "source": [
    "coms_nrl_df = pre_df_sorted\n",
    "# coms_no_url_df.drop(coms_no_url_df.columns[3], axis=1, inplace=True)\n",
    "\n",
    "coms_nrl_df['commentText'] = coms_no_url\n",
    "# coms_nrl_df\n",
    "# coms_no_url_df.columns[3]"
   ]
  },
  {
   "cell_type": "code",
   "execution_count": 18,
   "metadata": {},
   "outputs": [],
   "source": [
    "coms_nrl_df['characterCount'] = coms_nrl_df.commentText.apply(len)\n",
    "\n",
    "# coms_nrl_df"
   ]
  },
  {
   "cell_type": "markdown",
   "metadata": {},
   "source": [
    "# Word Frequency"
   ]
  },
  {
   "cell_type": "markdown",
   "metadata": {},
   "source": [
    "Making all words lowercase and tokenizing them"
   ]
  },
  {
   "cell_type": "code",
   "execution_count": 19,
   "metadata": {},
   "outputs": [],
   "source": [
    "#Making all lower case\n",
    "lower_coms = [com.lower().split() for com in coms_no_url]\n",
    "# lower_coms[0]"
   ]
  },
  {
   "cell_type": "markdown",
   "metadata": {},
   "source": [
    "Removing stop words"
   ]
  },
  {
   "cell_type": "code",
   "execution_count": 22,
   "metadata": {},
   "outputs": [
    {
     "name": "stderr",
     "output_type": "stream",
     "text": [
      "[nltk_data] Downloading package stopwords to\n",
      "[nltk_data]     C:\\Users\\Sakir\\AppData\\Roaming\\nltk_data...\n",
      "[nltk_data]   Package stopwords is already up-to-date!\n"
     ]
    },
    {
     "data": {
      "text/plain": [
       "True"
      ]
     },
     "execution_count": 22,
     "metadata": {},
     "output_type": "execute_result"
    }
   ],
   "source": [
    "nltk.download('stopwords')"
   ]
  },
  {
   "cell_type": "code",
   "execution_count": 23,
   "metadata": {},
   "outputs": [],
   "source": [
    "stop_words = set(stopwords.words('english'))\n",
    "\n",
    "# Remove stop words from each comment list of words\n",
    "coms_ns = [[com for com in yt_com if not com in stop_words]\n",
    "              for yt_com in lower_coms]\n",
    "# coms_ns[0]"
   ]
  },
  {
   "cell_type": "markdown",
   "metadata": {},
   "source": [
    "Removing collection words"
   ]
  },
  {
   "cell_type": "code",
   "execution_count": 24,
   "metadata": {},
   "outputs": [],
   "source": [
    "collection_words = [\"talabat\", \"uber\", \"eats\", \"deliveroo\", \"food\", \"delivery\", \"zomato\", \n",
    "                    \"carriage\", \"middle\", \"east\", \"middleeast\", \"ubereats\"]\n",
    "\n",
    "# Remove collection words from each comment list of words\n",
    "coms_ncs = [[com for com in yt_com if not com in collection_words]\n",
    "              for yt_com in coms_ns]\n",
    "\n",
    "# coms_ncs[0]"
   ]
  },
  {
   "cell_type": "markdown",
   "metadata": {},
   "source": [
    "Removing Irrelevant words"
   ]
  },
  {
   "cell_type": "code",
   "execution_count": 25,
   "metadata": {},
   "outputs": [],
   "source": [
    "collection_words = [\"guys\", \"guy\", \"sauce\", \"im\", \"would\", \"ive\", \"video\", \"nyc\", \"new york\", \"york\", \n",
    "                    \"china\", \"hot\", \"ice\", \"cream\", \"know\", \"try\", \"tried\", \"india\", \"chicago\", \"job\", \"uk\", \n",
    "                    \"australia\",\"first\", \"basmati\", \"soo\", \"theres\"]\n",
    "\n",
    "# Remove collection words from each comment list of words\n",
    "coms_nics = [[com for com in yt_com if not com in collection_words]\n",
    "              for yt_com in coms_ncs]\n",
    "\n",
    "# coms_ncs[0]"
   ]
  },
  {
   "cell_type": "code",
   "execution_count": 26,
   "metadata": {},
   "outputs": [],
   "source": [
    "# List of all words across Youtube\n",
    "all_words_coms = list(itertools.chain(*coms_nics))\n",
    "\n",
    "# Create counter\n",
    "counts_nics = collections.Counter(all_words_coms)\n",
    "\n",
    "# counts_no_urls.most_common(15)"
   ]
  },
  {
   "cell_type": "code",
   "execution_count": 27,
   "metadata": {},
   "outputs": [
    {
     "data": {
      "image/png": "[encoded data removed]",
      "text/plain": [
       "<Figure size 720x720 with 1 Axes>"
      ]
     },
     "metadata": {},
     "output_type": "display_data"
    }
   ],
   "source": [
    "common_words_nics = counts_nics.most_common(30)\n",
    "clean_coms_nics_df = pd.DataFrame(common_words_nics,\n",
    "                             columns=['words', 'count'])\n",
    "\n",
    "# clean_coms_nsw_df.head()\n",
    "# create the barplot\n",
    "sns.set(rc={'figure.figsize':(10,10)})\n",
    "common_words_ax = sns.barplot(x=\"count\", y=\"words\", orient='h', data=clean_coms_nics_df)"
   ]
  },
  {
   "cell_type": "markdown",
   "metadata": {},
   "source": [
    "# Bigram"
   ]
  },
  {
   "cell_type": "code",
   "execution_count": 28,
   "metadata": {},
   "outputs": [],
   "source": [
    "from nltk import bigrams"
   ]
  },
  {
   "cell_type": "code",
   "execution_count": 29,
   "metadata": {},
   "outputs": [],
   "source": [
    "# Create list of lists containing bigrams in tweets\n",
    "coms_bigram = [list(bigrams(coms)) for coms in coms_nics]\n",
    "\n",
    "# Flatten list of bigrams in clean tweets\n",
    "bigrams = list(itertools.chain(*coms_bigram))\n",
    "\n",
    "# Create counter of words in clean bigrams\n",
    "bigram_counts = collections.Counter(bigrams)\n",
    "\n",
    "bi_counts = bigram_counts.most_common(20)"
   ]
  },
  {
   "cell_type": "code",
   "execution_count": 30,
   "metadata": {},
   "outputs": [],
   "source": [
    "bigram_df = pd.DataFrame(bi_counts, columns=['bigram', 'count'])\n",
    "\n",
    "# bigram_df.head()"
   ]
  },
  {
   "cell_type": "markdown",
   "metadata": {},
   "source": [
    "### Visualizing Bigram"
   ]
  },
  {
   "cell_type": "code",
   "execution_count": 156,
   "metadata": {},
   "outputs": [],
   "source": [
    "# Create dictionary of bigrams and their counts\n",
    "d = bigram_df.set_index('bigram').T.to_dict('records')\n",
    "# Create network plot \n",
    "G = nx.Graph()\n",
    "\n",
    "# Create connections between nodes\n",
    "for k, v in d[0].items():\n",
    "    G.add_edge(k[0], k[1], weight=(v * 11))\n",
    "\n",
    "# G.add_node(\"china\", weight=100)"
   ]
  },
  {
   "cell_type": "code",
   "execution_count": 188,
   "metadata": {},
   "outputs": [
    {
     "data": {
      "image/png": "[encoded data removed]",
      "text/plain": [
       "<Figure size 1080x864 with 1 Axes>"
      ]
     },
     "metadata": {},
     "output_type": "display_data"
    }
   ],
   "source": [
    "# Draw the network using NetworkX and matplotlib\n",
    "fig, ax = plt.subplots(figsize=(15, 12))\n",
    "pos = nx.spring_layout(G, k=2)\n",
    "\n",
    "# Plot networks\n",
    "nx.draw_networkx(G, pos,\n",
    "                 font_size=15,\n",
    "                 width=3,\n",
    "                 edge_color='grey',\n",
    "                 node_color='purple',\n",
    "                 with_labels = False,\n",
    "                 ax=ax)\n",
    "plt.title(\"Frequency of words occurring together on Youtube before COVID\", fontsize=35)\n",
    "\n",
    "# ax.tick_params(left=True, bottom=True, labelleft=True, labelbottom=True)\n",
    "ax.set_facecolor('white')\n",
    "# Create offset labels\n",
    "for key, value in pos.items():\n",
    "    x, y = value[0]-0.015, value[1]+0.025\n",
    "    ax.text(x, y,\n",
    "            s=key,\n",
    "            bbox=dict(facecolor='red', alpha=0.25),\n",
    "        horizontalalignment='center', fontsize=20)\n",
    "    \n",
    "plt.show()"
   ]
  },
  {
   "cell_type": "markdown",
   "metadata": {},
   "source": [
    "# Sentiment Analysis"
   ]
  },
  {
   "cell_type": "code",
   "execution_count": 31,
   "metadata": {},
   "outputs": [],
   "source": [
    "from textblob import TextBlob"
   ]
  },
  {
   "cell_type": "code",
   "execution_count": 32,
   "metadata": {},
   "outputs": [],
   "source": [
    "sentiment = [TextBlob(coms) for coms in coms_no_url]\n",
    "# Create list of polarity valuesx and tweet text\n",
    "sentiment_values = [round(coms.sentiment.polarity, 1) for coms in sentiment]\n",
    "\n",
    "# Create dataframe containing the polarity value and tweet text\n",
    "# sentiment_df = pd.DataFrame(sentiment_values, columns=[\"polarity\", \"comments\"])\n",
    "# coms_no_url_df.drop(coms_no_url_df.columns[5], axis=1, inplace=True)\n",
    "coms_nrl_df['Polarity'] = sentiment_values\n",
    "\n",
    "# coms_nrl_df"
   ]
  },
  {
   "cell_type": "code",
   "execution_count": 33,
   "metadata": {
    "scrolled": true
   },
   "outputs": [
    {
     "data": {
      "text/html": [
       "<div>\n",
       "<style scoped>\n",
       "    .dataframe tbody tr th:only-of-type {\n",
       "        vertical-align: middle;\n",
       "    }\n",
       "\n",
       "    .dataframe tbody tr th {\n",
       "        vertical-align: top;\n",
       "    }\n",
       "\n",
       "    .dataframe thead th {\n",
       "        text-align: right;\n",
       "    }\n",
       "</style>\n",
       "<table border=\"1\" class=\"dataframe\">\n",
       "  <thead>\n",
       "    <tr style=\"text-align: right;\">\n",
       "      <th></th>\n",
       "      <th>totalLikeCount</th>\n",
       "      <th>totalRepliesCount</th>\n",
       "      <th>characterCount</th>\n",
       "      <th>Polarity</th>\n",
       "    </tr>\n",
       "  </thead>\n",
       "  <tbody>\n",
       "    <tr>\n",
       "      <th>count</th>\n",
       "      <td>310.000000</td>\n",
       "      <td>310.000000</td>\n",
       "      <td>310.000000</td>\n",
       "      <td>310.000000</td>\n",
       "    </tr>\n",
       "    <tr>\n",
       "      <th>mean</th>\n",
       "      <td>24.441935</td>\n",
       "      <td>0.954839</td>\n",
       "      <td>98.825806</td>\n",
       "      <td>0.266452</td>\n",
       "    </tr>\n",
       "    <tr>\n",
       "      <th>std</th>\n",
       "      <td>170.089663</td>\n",
       "      <td>3.461937</td>\n",
       "      <td>89.623639</td>\n",
       "      <td>0.369164</td>\n",
       "    </tr>\n",
       "    <tr>\n",
       "      <th>min</th>\n",
       "      <td>0.000000</td>\n",
       "      <td>0.000000</td>\n",
       "      <td>8.000000</td>\n",
       "      <td>-1.000000</td>\n",
       "    </tr>\n",
       "    <tr>\n",
       "      <th>25%</th>\n",
       "      <td>0.000000</td>\n",
       "      <td>0.000000</td>\n",
       "      <td>40.500000</td>\n",
       "      <td>0.100000</td>\n",
       "    </tr>\n",
       "    <tr>\n",
       "      <th>50%</th>\n",
       "      <td>0.000000</td>\n",
       "      <td>0.000000</td>\n",
       "      <td>68.000000</td>\n",
       "      <td>0.300000</td>\n",
       "    </tr>\n",
       "    <tr>\n",
       "      <th>75%</th>\n",
       "      <td>1.000000</td>\n",
       "      <td>0.000000</td>\n",
       "      <td>129.750000</td>\n",
       "      <td>0.500000</td>\n",
       "    </tr>\n",
       "    <tr>\n",
       "      <th>max</th>\n",
       "      <td>2406.000000</td>\n",
       "      <td>30.000000</td>\n",
       "      <td>528.000000</td>\n",
       "      <td>1.000000</td>\n",
       "    </tr>\n",
       "  </tbody>\n",
       "</table>\n",
       "</div>"
      ],
      "text/plain": [
       "       totalLikeCount  totalRepliesCount  characterCount    Polarity\n",
       "count      310.000000         310.000000      310.000000  310.000000\n",
       "mean        24.441935           0.954839       98.825806    0.266452\n",
       "std        170.089663           3.461937       89.623639    0.369164\n",
       "min          0.000000           0.000000        8.000000   -1.000000\n",
       "25%          0.000000           0.000000       40.500000    0.100000\n",
       "50%          0.000000           0.000000       68.000000    0.300000\n",
       "75%          1.000000           0.000000      129.750000    0.500000\n",
       "max       2406.000000          30.000000      528.000000    1.000000"
      ]
     },
     "execution_count": 33,
     "metadata": {},
     "output_type": "execute_result"
    }
   ],
   "source": [
    "# Remove polarity values equal to zero\n",
    "coms_nrl_df = coms_nrl_df[coms_nrl_df.Polarity != 0]\n",
    "\n",
    "coms_nrl_df.describe()"
   ]
  },
  {
   "cell_type": "code",
   "execution_count": 34,
   "metadata": {},
   "outputs": [
    {
     "data": {
      "text/html": [
       "<div>\n",
       "<style scoped>\n",
       "    .dataframe tbody tr th:only-of-type {\n",
       "        vertical-align: middle;\n",
       "    }\n",
       "\n",
       "    .dataframe tbody tr th {\n",
       "        vertical-align: top;\n",
       "    }\n",
       "\n",
       "    .dataframe thead th {\n",
       "        text-align: right;\n",
       "    }\n",
       "</style>\n",
       "<table border=\"1\" class=\"dataframe\">\n",
       "  <thead>\n",
       "    <tr style=\"text-align: right;\">\n",
       "      <th></th>\n",
       "      <th>commentDate</th>\n",
       "      <th>commentText</th>\n",
       "      <th>totalLikeCount</th>\n",
       "      <th>totalRepliesCount</th>\n",
       "      <th>characterCount</th>\n",
       "      <th>Polarity</th>\n",
       "      <th>Sentiment</th>\n",
       "    </tr>\n",
       "  </thead>\n",
       "  <tbody>\n",
       "    <tr>\n",
       "      <th>1262</th>\n",
       "      <td>2013-08-19</td>\n",
       "      <td>Hey Jonathan sorry about your experience If th...</td>\n",
       "      <td>0</td>\n",
       "      <td>0</td>\n",
       "      <td>175</td>\n",
       "      <td>0.2</td>\n",
       "      <td>Positive</td>\n",
       "    </tr>\n",
       "    <tr>\n",
       "      <th>368</th>\n",
       "      <td>2017-03-31</td>\n",
       "      <td>Great job thanks MasterCard</td>\n",
       "      <td>0</td>\n",
       "      <td>0</td>\n",
       "      <td>27</td>\n",
       "      <td>0.5</td>\n",
       "      <td>Positive</td>\n",
       "    </tr>\n",
       "    <tr>\n",
       "      <th>377</th>\n",
       "      <td>2017-11-24</td>\n",
       "      <td>Nice brother</td>\n",
       "      <td>0</td>\n",
       "      <td>0</td>\n",
       "      <td>12</td>\n",
       "      <td>0.6</td>\n",
       "      <td>Positive</td>\n",
       "    </tr>\n",
       "    <tr>\n",
       "      <th>374</th>\n",
       "      <td>2017-12-01</td>\n",
       "      <td>Nice bro</td>\n",
       "      <td>0</td>\n",
       "      <td>0</td>\n",
       "      <td>8</td>\n",
       "      <td>0.6</td>\n",
       "      <td>Positive</td>\n",
       "    </tr>\n",
       "    <tr>\n",
       "      <th>1261</th>\n",
       "      <td>2018-01-25</td>\n",
       "      <td>Mapcode not right alwasy</td>\n",
       "      <td>0</td>\n",
       "      <td>0</td>\n",
       "      <td>24</td>\n",
       "      <td>-0.1</td>\n",
       "      <td>Negative</td>\n",
       "    </tr>\n",
       "    <tr>\n",
       "      <th>...</th>\n",
       "      <td>...</td>\n",
       "      <td>...</td>\n",
       "      <td>...</td>\n",
       "      <td>...</td>\n",
       "      <td>...</td>\n",
       "      <td>...</td>\n",
       "      <td>...</td>\n",
       "    </tr>\n",
       "    <tr>\n",
       "      <th>740</th>\n",
       "      <td>2020-02-18</td>\n",
       "      <td>Halal guys is so good I figured out how to mak...</td>\n",
       "      <td>0</td>\n",
       "      <td>0</td>\n",
       "      <td>77</td>\n",
       "      <td>0.6</td>\n",
       "      <td>Positive</td>\n",
       "    </tr>\n",
       "    <tr>\n",
       "      <th>738</th>\n",
       "      <td>2020-02-21</td>\n",
       "      <td>wow huge respect</td>\n",
       "      <td>0</td>\n",
       "      <td>0</td>\n",
       "      <td>16</td>\n",
       "      <td>0.3</td>\n",
       "      <td>Positive</td>\n",
       "    </tr>\n",
       "    <tr>\n",
       "      <th>737</th>\n",
       "      <td>2020-02-23</td>\n",
       "      <td>Not as good as when they started but still goo...</td>\n",
       "      <td>0</td>\n",
       "      <td>0</td>\n",
       "      <td>114</td>\n",
       "      <td>0.5</td>\n",
       "      <td>Positive</td>\n",
       "    </tr>\n",
       "    <tr>\n",
       "      <th>736</th>\n",
       "      <td>2020-02-27</td>\n",
       "      <td>Sorry buddy but street food has been a staple ...</td>\n",
       "      <td>0</td>\n",
       "      <td>0</td>\n",
       "      <td>86</td>\n",
       "      <td>-0.2</td>\n",
       "      <td>Negative</td>\n",
       "    </tr>\n",
       "    <tr>\n",
       "      <th>735</th>\n",
       "      <td>2020-02-28</td>\n",
       "      <td>Im Arab and watching something from my religio...</td>\n",
       "      <td>0</td>\n",
       "      <td>0</td>\n",
       "      <td>263</td>\n",
       "      <td>0.5</td>\n",
       "      <td>Positive</td>\n",
       "    </tr>\n",
       "  </tbody>\n",
       "</table>\n",
       "<p>310 rows × 7 columns</p>\n",
       "</div>"
      ],
      "text/plain": [
       "     commentDate                                        commentText  \\\n",
       "1262  2013-08-19  Hey Jonathan sorry about your experience If th...   \n",
       "368   2017-03-31                        Great job thanks MasterCard   \n",
       "377   2017-11-24                                       Nice brother   \n",
       "374   2017-12-01                                           Nice bro   \n",
       "1261  2018-01-25                           Mapcode not right alwasy   \n",
       "...          ...                                                ...   \n",
       "740   2020-02-18  Halal guys is so good I figured out how to mak...   \n",
       "738   2020-02-21                                   wow huge respect   \n",
       "737   2020-02-23  Not as good as when they started but still goo...   \n",
       "736   2020-02-27  Sorry buddy but street food has been a staple ...   \n",
       "735   2020-02-28  Im Arab and watching something from my religio...   \n",
       "\n",
       "      totalLikeCount  totalRepliesCount  characterCount  Polarity Sentiment  \n",
       "1262               0                  0             175       0.2  Positive  \n",
       "368                0                  0              27       0.5  Positive  \n",
       "377                0                  0              12       0.6  Positive  \n",
       "374                0                  0               8       0.6  Positive  \n",
       "1261               0                  0              24      -0.1  Negative  \n",
       "...              ...                ...             ...       ...       ...  \n",
       "740                0                  0              77       0.6  Positive  \n",
       "738                0                  0              16       0.3  Positive  \n",
       "737                0                  0             114       0.5  Positive  \n",
       "736                0                  0              86      -0.2  Negative  \n",
       "735                0                  0             263       0.5  Positive  \n",
       "\n",
       "[310 rows x 7 columns]"
      ]
     },
     "execution_count": 34,
     "metadata": {},
     "output_type": "execute_result"
    }
   ],
   "source": [
    "coms_nrl_df.loc[coms_nrl_df.Polarity > 0.0, 'Sentiment'] = 'Positive'\n",
    "coms_nrl_df.loc[coms_nrl_df.Polarity < 0.0, 'Sentiment'] = 'Negative'\n",
    "\n",
    "coms_nrl_df"
   ]
  },
  {
   "cell_type": "code",
   "execution_count": 152,
   "metadata": {},
   "outputs": [
    {
     "data": {
      "image/png": "[encoded data removed]",
      "text/plain": [
       "<Figure size 432x288 with 1 Axes>"
      ]
     },
     "metadata": {},
     "output_type": "display_data"
    }
   ],
   "source": [
    "N, bins, patches = plt.hist(coms_nrl_df['Polarity'], 8)\n",
    "\n",
    "cmap = plt.get_cmap('jet')\n",
    "low = cmap(0.9)\n",
    "medium =cmap(0.4)\n",
    "# high = cmap(0.7)\n",
    "\n",
    "\n",
    "for i in range(0,4):\n",
    "    patches[i].set_facecolor(low)\n",
    "for i in range(4,8):\n",
    "    patches[i].set_facecolor(medium)\n",
    "# for i in range(14,30):\n",
    "#     patches[i].set_facecolor(high)\n",
    "\n",
    "plt.xlabel(\"Polarity\", fontsize=12)  \n",
    "plt.ylabel(\"Number of Occurence\", fontsize=12)\n",
    "# plt.xticks(fontsize=14)  \n",
    "# plt.yticks(fontsize=14)\n",
    "plt.title(\"Distribution of Sentiments on food delivery services before COVID\", fontsize=15)\n",
    "ax = plt.subplot(111)  \n",
    "# ax.spines[\"top\"].set_visible(False)  \n",
    "# ax.spines[\"right\"].set_visible(False)\n",
    "\n",
    "plt.show()"
   ]
  },
  {
   "cell_type": "code",
   "execution_count": 35,
   "metadata": {},
   "outputs": [
    {
     "data": {
      "text/plain": [
       "<matplotlib.lines.Line2D at 0x282ea3909e8>"
      ]
     },
     "execution_count": 35,
     "metadata": {},
     "output_type": "execute_result"
    },
    {
     "data": {
      "image/png": "[encoded data removed]",
      "text/plain": [
       "<Figure size 720x720 with 1 Axes>"
      ]
     },
     "metadata": {},
     "output_type": "display_data"
    }
   ],
   "source": [
    "x = coms_nrl_df.Polarity # array with revenues only\n",
    "sns.set_style(\"white\")\n",
    "sns.distplot(x, color = 'red', bins=8); # distplot stands for distribution plot\n",
    "plt.title(\"Distribution of Sentiments on food delivery services before COVID on Youtube\", fontsize=16)\n",
    "plt.ylabel(\"Probability Density\", fontsize=14)  \n",
    "plt.xticks([-1,0,1])\n",
    "# plt.yticks([])\n",
    "plt.xlabel(\"Sentiment\", fontsize=14) \n",
    "# x.set_facecolor('white')\n",
    "\n",
    "# Calculating the mean\n",
    "mean = coms_nrl_df['Polarity'].mean()\n",
    "\n",
    "#ploting the mean using matplotlib\n",
    "plt.axvline(mean, color = 'blue') # axvline: Axis Vertical Line"
   ]
  },
  {
   "cell_type": "code",
   "execution_count": 36,
   "metadata": {},
   "outputs": [
    {
     "data": {
      "text/plain": [
       "0.2664516129032258"
      ]
     },
     "execution_count": 36,
     "metadata": {},
     "output_type": "execute_result"
    }
   ],
   "source": [
    "mean"
   ]
  },
  {
   "cell_type": "markdown",
   "metadata": {},
   "source": [
    "## Percentage of Positive and Negative"
   ]
  },
  {
   "cell_type": "code",
   "execution_count": 87,
   "metadata": {},
   "outputs": [
    {
     "data": {
      "text/plain": [
       "(0.0, 1.0]       81.229773\n",
       "(-1.003, 0.0]    18.770227\n",
       "Name: Polarity, dtype: float64"
      ]
     },
     "execution_count": 87,
     "metadata": {},
     "output_type": "execute_result"
    }
   ],
   "source": [
    "sentiment_p = coms_nrl_df['Polarity'].value_counts(normalize=True, bins=2)*100\n",
    "\n",
    "sentiment_p"
   ]
  },
  {
   "cell_type": "code",
   "execution_count": 88,
   "metadata": {},
   "outputs": [
    {
     "data": {
      "text/html": [
       "<div>\n",
       "<style scoped>\n",
       "    .dataframe tbody tr th:only-of-type {\n",
       "        vertical-align: middle;\n",
       "    }\n",
       "\n",
       "    .dataframe tbody tr th {\n",
       "        vertical-align: top;\n",
       "    }\n",
       "\n",
       "    .dataframe thead th {\n",
       "        text-align: right;\n",
       "    }\n",
       "</style>\n",
       "<table border=\"1\" class=\"dataframe\">\n",
       "  <thead>\n",
       "    <tr style=\"text-align: right;\">\n",
       "      <th></th>\n",
       "      <th>Polarity</th>\n",
       "      <th>Sentiment</th>\n",
       "    </tr>\n",
       "  </thead>\n",
       "  <tbody>\n",
       "    <tr>\n",
       "      <th>(0.0, 1.0]</th>\n",
       "      <td>81.229773</td>\n",
       "      <td>positive</td>\n",
       "    </tr>\n",
       "    <tr>\n",
       "      <th>(-1.003, 0.0]</th>\n",
       "      <td>18.770227</td>\n",
       "      <td>negative</td>\n",
       "    </tr>\n",
       "  </tbody>\n",
       "</table>\n",
       "</div>"
      ],
      "text/plain": [
       "                Polarity Sentiment\n",
       "(0.0, 1.0]     81.229773  positive\n",
       "(-1.003, 0.0]  18.770227  negative"
      ]
     },
     "execution_count": 88,
     "metadata": {},
     "output_type": "execute_result"
    }
   ],
   "source": [
    "sentiment_np_df = sentiment_p.to_frame()\n",
    "sentiment_np_df['Sentiment'] = [\"positive\", \"negative\"]\n",
    "sentiment_np_df"
   ]
  },
  {
   "cell_type": "code",
   "execution_count": 89,
   "metadata": {
    "scrolled": false
   },
   "outputs": [
    {
     "data": {
      "image/png": "[encoded data removed]",
      "text/plain": [
       "<Figure size 720x720 with 1 Axes>"
      ]
     },
     "metadata": {},
     "output_type": "display_data"
    }
   ],
   "source": [
    "# sentiment_p_df = pd.DataFrame(sentiment_p, columns=[\"sentiment\", \"percentage\"])\n",
    "# sentiment_p_df\n",
    "\n",
    "fig, ax = plt.subplots()\n",
    "\n",
    "sns.barplot(x=\"Sentiment\", y=\"Polarity\", data=sentiment_np_df, ax=ax)\n",
    "plt.xlabel(\"Sentiment\", fontsize=12)  \n",
    "plt.ylabel(\"Percentage (%)\", fontsize=12)\n",
    "\n",
    "def change_width(ax, new_value):\n",
    "    for patch in ax.patches:\n",
    "        current_width = patch.get_width()\n",
    "        diff = current_width - new_value\n",
    "\n",
    "        # we change the bar width\n",
    "        patch.set_width(new_value)\n",
    "\n",
    "        # we recenter the bar\n",
    "        patch.set_x(patch.get_x() + diff * .5)\n",
    "\n",
    "change_width(ax, .35)\n",
    "    \n",
    "plt.show()"
   ]
  },
  {
   "cell_type": "markdown",
   "metadata": {},
   "source": [
    "# Correlation"
   ]
  },
  {
   "cell_type": "code",
   "execution_count": 90,
   "metadata": {},
   "outputs": [
    {
     "data": {
      "image/png": "[encoded data removed]",
      "text/plain": [
       "<Figure size 720x720 with 1 Axes>"
      ]
     },
     "metadata": {},
     "output_type": "display_data"
    }
   ],
   "source": [
    "ax = sns.lineplot(x='totalLikeCount', y='totalRepliesCount', hue = 'Sentiment', style = 'Sentiment', data = coms_nrl_df, ci=None,  markers=True)\n",
    "ax.set_facecolor('white')"
   ]
  },
  {
   "cell_type": "code",
   "execution_count": 97,
   "metadata": {},
   "outputs": [
    {
     "data": {
      "image/png": "[encoded data removed]",
      "text/plain": [
       "<Figure size 720x720 with 1 Axes>"
      ]
     },
     "metadata": {},
     "output_type": "display_data"
    }
   ],
   "source": [
    "ax = sns.lineplot(x='Polarity', y='totalLikeCount', data = coms_nrl_df, ci=None,  markers=True)\n",
    "ax.set_facecolor('white')"
   ]
  }
 ],
 "metadata": {
  "kernelspec": {
   "display_name": "Python 3",
   "language": "python",
   "name": "python3"
  },
  "language_info": {
   "codemirror_mode": {
    "name": "ipython",
    "version": 3
   },
   "file_extension": ".py",
   "mimetype": "text/x-python",
   "name": "python",
   "nbconvert_exporter": "python",
   "pygments_lexer": "ipython3",
   "version": "3.7.3"
  }
 },
 "nbformat": 4,
 "nbformat_minor": 4
}
